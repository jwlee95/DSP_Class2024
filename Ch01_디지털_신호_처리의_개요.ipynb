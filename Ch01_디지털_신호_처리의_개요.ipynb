{
  "nbformat": 4,
  "nbformat_minor": 0,
  "metadata": {
    "colab": {
      "provenance": [],
      "collapsed_sections": [
        "8tlqbfFxHr5P"
      ],
      "toc_visible": true,
      "authorship_tag": "ABX9TyPzVz/WWiP09A/rHzLxrvoS",
      "include_colab_link": true
    },
    "kernelspec": {
      "name": "python3",
      "display_name": "Python 3"
    },
    "language_info": {
      "name": "python"
    }
  },
  "cells": [
    {
      "cell_type": "markdown",
      "metadata": {
        "id": "view-in-github",
        "colab_type": "text"
      },
      "source": [
        "<a href=\"https://colab.research.google.com/github/jwlee95/DSP_Class2024/blob/main/Ch01_%EB%94%94%EC%A7%80%ED%84%B8_%EC%8B%A0%ED%98%B8_%EC%B2%98%EB%A6%AC%EC%9D%98_%EA%B0%9C%EC%9A%94.ipynb\" target=\"_parent\"><img src=\"https://colab.research.google.com/assets/colab-badge.svg\" alt=\"Open In Colab\"/></a>"
      ]
    },
    {
      "cell_type": "markdown",
      "source": [
        "# `CHAPTER 01`: 디지털 신호 처리의 개요 (`Introduction  of  Digital  Signal  Processing`)"
      ],
      "metadata": {
        "id": "f2aYO0j2NJK-"
      }
    },
    {
      "cell_type": "markdown",
      "source": [
        "---\n",
        "\n",
        "## 1.1 서 론   \n",
        "\n",
        "\n",
        "#### 디지털 시대의 도래   \n",
        "\n",
        "\n",
        "디지털은 21세기의 시대적 아이콘\n",
        "\n",
        "- 디지털 기술과 재품의 보편화  <- **다기능, 고성능, 편리성, 경제성**\n",
        "\n",
        "  (예) 컴퓨터, 휴대전화, 디지털 카메라, MP3, PMP, DVD, HDTV 등\n",
        "\n",
        "- 디지털 신호 처리의 필요성과 중요성은 더욱 커짐\n",
        "\n",
        "<center>\n",
        "\n",
        "<img src='https://drive.google.com/uc?export=download&id=1KMdXcWVIZ-tL7sM90vEw3Ra09n-jCauy' width=\"500\" height =\"\" /><br>"
      ],
      "metadata": {
        "id": "FjFz-htrNVun"
      }
    },
    {
      "cell_type": "markdown",
      "source": [
        "---\n",
        "\n",
        "#### 디지털의 특징\n",
        "\n",
        "- 모든 대상(신호)이 단순한 숫자의 나열(수열)로 변환\n",
        "\n",
        "  - 적용 대상을 가릴 필요 없이 여러 신호를 하나의 틀에서 통합적으로 다룰 수 있음\n",
        "\n",
        ">(예)     \n",
        "     아날로그 : 문서=타자기, 음악=오디오, 동영상=TV   \n",
        "     디지털  : 컴퓨터, 스마트폰\n",
        "\n",
        "- 신호의 조작이 보다 단순하고 쉬우며 훨씬 다양한 처리가 가능함\n",
        "\n",
        "- S/W의 힘을 빌어 H/W 단독으로는 불가능한 처리를 제공할 수 있음"
      ],
      "metadata": {
        "id": "UfRv4NvcOe74"
      }
    },
    {
      "cell_type": "markdown",
      "source": [
        "### 1.2.1 신호 (`Signal`)  \n",
        "\n",
        "- 물리량의 변화 형태를 담은 일련의 정보/자료의 집합  \n",
        "  (예) 월별 평균 기온, 전압, 전류, 심전도(ECG), 뇌전도(EEG), 주식가격 등\n",
        "\n",
        "  - 신호는 다양한 형태 또는 표현 방식으로 나타낼 수 있음   \n",
        "    음성신호 → 마이크(전기신호), 테이프(자기신호), CD(숫자열)\n",
        "  - 신호는 수학적으로 한 개 이상의 독립 변수의 함수로 표현됨\n",
        "  - 정보는 신호가 변화하는 양상 속에 담겨 있음\n",
        "\n",
        "<center>\n",
        "  <img src='https://drive.google.com/uc?export=download&id=1KMoHzKqSwXc8-j_1If6eKDDt_DGmncmc' width=\"700\" height =\"\" /><br>"
      ],
      "metadata": {
        "id": "r6XioRvrPoUv"
      }
    },
    {
      "cell_type": "markdown",
      "source": [
        "---\n",
        "\n",
        "### 1.2.2 시스템( `System`)  \n",
        "\n",
        "> - 시스템(System)은 특정한 목적에 맞도록 주어진 신호를 조작하고 처리해내는 장치이다.  \n",
        "  - 시스템은 들어오는 신호(입력)에 대한 반응으로 다른 신호(출력)을 만들어 낸다.  \n",
        "  - 시스템은 입력, 출력, 그리고 동작 규칙에 의해 명확하게 규정되며, 수학적으로 하나 또는 여러개의 방정식으로 표현된다.  \n",
        "  \n",
        "- 일련의 신호를 처리(교환, 변환, 가공, 추출, 전송)해 다른 일련의 신호를 만드는 실체  \n",
        "   (예) 전기회로, 통신 시스템, 생체 시스템, 생산 시스템 등\n",
        "\n",
        "  - 입력, 출력(응답), 동작 규칙에 의해 기술됨 → ***시스템 모델링(System Modeling)***   \n",
        "  - 수학적으로 일련의 방정식으로 표현됨   \n",
        "  - 물리적 요소(하드웨어) 또는 알고리즘(소프트웨어)으로 구성   \n",
        "   (예) 오디오의 등화기(equalizer) : 전자회로 구현(H/W) , DSP chip + 알고리즘(S/W)\n",
        "\n",
        "<center>\n",
        "<img src='https://drive.google.com/uc?export=download&id=1KTcb0pjwyOdi7KnTZAfxUeGIzFMmbgO6' width=\"700\" height =\"\" /><br>"
      ],
      "metadata": {
        "id": "8686MYiQRcPu"
      }
    },
    {
      "cell_type": "markdown",
      "source": [
        "### 1.2.3 신호와 시스템의 표현\n",
        "\n",
        "\n"
      ],
      "metadata": {
        "id": "nuFGamcPqDOg"
      }
    },
    {
      "cell_type": "markdown",
      "source": [
        "#### 시각적 표현  \n",
        "\n",
        "- 파형은 시간에 따른 신호의 값의 변화를 그래프로 나타낸 것이다.  \n",
        "- 신호의 파형으로부터 신호의 특성과 관련한 기초적인 정보들을 파악할 수 있다."
      ],
      "metadata": {
        "id": "gMJJ878PrF6R"
      }
    },
    {
      "cell_type": "markdown",
      "source": [
        "##### 블럭선도(`Block diagram`)\n",
        "\n",
        "- 신호 처리 시스템의 해석 및 설계  \n",
        "① 시스템을 우선 몇 개의 작은 시스템(부시스템)으로 분리  \n",
        "② 각 부시스템의 기능과 동작 특성을 파악  \n",
        "③ 각 부시스템 간의 관계를 파악  \n",
        "④ 전체 시스템 분석 및 설계   \n",
        "\n",
        "- 블록선도 : 시스템의 구성과 기능을 알기 쉽게 시각적으로 나타낸 그림  \n",
        "① 시스템을 각 부시스템 또는 구성요소로 나누고 이를 블록으로 대체    \n",
        "② 블록 안에 시스템의 특성을 말해주는 수식, 그래프, 명칭 등을 표시  \n",
        "③ 신호의 흐름을 따라 각 부시스템 또는 구성 요소를 연결  \n",
        "\n",
        "- 블록선도의 연결  \n",
        "    ▶ 종속(`cascade`)연결: 각 부시스템들을 직렬로 연결  \n",
        "    ▶ 병렬(`parallel`)연결: 각 부시스템들을 병렬로 연결   \n",
        "    ▶ 궤환(`feedback`): 출력을 입력으로 다시 '되먹이는' 연결\n",
        "\n",
        "\n",
        "<center>\n",
        " <img src='https://drive.google.com/uc?export=download&id=1KXFs0FxX1N4ueZXFGQCQ7tb6XWlRud2K' width=\"700\" height =\"\" /><br>"
      ],
      "metadata": {
        "id": "jGQKseQ5UJcy"
      }
    },
    {
      "cell_type": "markdown",
      "source": [
        "#### 수학적(이론적) 표현"
      ],
      "metadata": {
        "id": "SUJN8VEUq8SN"
      }
    },
    {
      "cell_type": "markdown",
      "source": [
        "- 수학적 표현을 사용하여 뉴턴의 운동 방정식이나 맥스웰의 전자기 방정식과 같이 신호와 시스템의 본질을 간결하게 수식으로 표현  \n",
        "- 수학적 모델은 실제 신호와 시스템을 오차 없이 정확하게 표현하는 것은 아니고 핵심적인 특성을 표현하는 것임  \n",
        "- 신호는 함수로 시스템은 방정식으로 표현함   \n",
        "\n",
        "> - 신호는 수학적으로 **함수**로 표현.  \n",
        "- 신호의 시간영역(`time domain`) 표현은 시간에 따른 값의 변화(파형)를 함수로 나타냄.  \n",
        "- 신호의 주파수영역(`frequency domain`) 표현은 신호에 포함된 주파수 성분들을 주차수의 함수로 나타내는 것으로, (주파수) **스펙트럼(`Spectrum`)**이라고 함.  \n",
        "- 시스템은 수학적으로 입력과 출력의 관계를 규정짓는 방정식으로 표현.  \n",
        "- 시스템의 시간영역 표현은 입출력 신호를 시간의 함수로 표현한 방정식으로, 미분/차분 방정식과 **컨볼류션(`convolution`)** 표현이 대표적임.  \n",
        "- 시스템의 주파수영역 표현은 입출력 신호를 주파수의 함수로 표현한 수식으로, 주파수 응답돠 전달함수가 있음.\n",
        "\n",
        "\n",
        "예)\n",
        "$$ v_s (t) = v_R (t) + v_C (t) = Ri(t) + \\frac{1}{C} \\int i(t) dt \\\\\n",
        "\\;\\; \\\\\n",
        "H(s) = \\frac{V_C (s)}{V_s (s)} = \\frac{1}{RCs+1}\n",
        "$$"
      ],
      "metadata": {
        "id": "jBVglN49tD2j"
      }
    },
    {
      "cell_type": "markdown",
      "source": [
        "---\n",
        "\n",
        "### 1.2.4 신호처리 (`Signal Processing`)   \n",
        "\n",
        "- 원하는 목적에 알맞은 결과를 얻을 수 있도록, 신호에 대해 시스템을 이용하여 교환, 변환, 가공, 전송, 저장 등을 가하는 행위   \n",
        "▶ 해석 : 신호로부터 원하는 특정 정보를 빼내어 적절한 방법으로 표현   \n",
        "▶ 합성 : 조절 신호에 의해 원하는 출력 신호를 발생    \n",
        "▶ 변환 : 신호를 한 물리적인 형태로부터 다른 형태로 변환   \n",
        "▶ 필터링 : 불필요한 성분을 제거하거나 바람직한 형태로 신호를 변형\n"
      ],
      "metadata": {
        "id": "ZOyFLrjbTES1"
      }
    },
    {
      "cell_type": "markdown",
      "source": [
        "#### 예제:1-1\n",
        "\n",
        "\n",
        "‘알리바바와 40인의 도둑’  이야기에서 “열려라,  참깨”라는 암호로 동굴 문을 여는 장면을 현대판 보안 시스템으로 바꾸어 설명하라.\n",
        "\n",
        ">풀이  \n",
        "\n",
        "      ▶ 마이크(변환) : 음성 신호를 전기 신호로 변환  \n",
        "      ▶ 필터(필터링) : 심한 바람소리를 걸러내고 사람 음성만 깨끗하게 뽑아냄  \n",
        "      ▶ 암호해독기(해석) : 입력 신호가 “열려라 참깨”가 맞는지를 판별  \n",
        "      ▶ 음성 합성(합성) : “출입을 승인합니다”라는 기계음을 발생  \n",
        "\n",
        "\n",
        "<center>   \n",
        "<img src='https://drive.google.com/uc?export=download&id=1KWbvWZHzm2PHV-zCt-Uq4_JcvAkz1heV' width=\"700\" height =\"\" /><br>"
      ],
      "metadata": {
        "id": "VfOCHQmjTawA"
      }
    },
    {
      "cell_type": "markdown",
      "source": [
        "---\n",
        "\n",
        "### 1.2.5 아나로그와 디지털 신호  \n",
        "\n",
        "- 아날로그 신호 : 연속 크기, 연속 시간  \n",
        "  (예) 심전도(ECG), 뇌전도(EEG) 등\n",
        "\n",
        "- 디지털 신호 : 이산 크기, 이산 시간  \n",
        "  (예) 컴퓨터 이진 신호  \n",
        "\n",
        "\n",
        "<center>\n",
        "  <img src='https://drive.google.com/uc?export=download&id=1KOynMrhCx68EBfA-58YECTk4m2A9i-WS' width=\"500\" height =\"\" /><br>"
      ],
      "metadata": {
        "id": "i2vLLxy_QxZx"
      }
    },
    {
      "cell_type": "markdown",
      "source": [
        "---\n",
        "`연속신호와 이산신호의 표기`\n",
        "- 연속신호 : 시간변수 $t$, 함수 $x(t)$, (아나로그) 주파수 $f$, (아나로그) 각주파수 $\\omega$\n",
        "- 이산신호 : 시간변수 $n$, 함수 $x[n]$, (디지털) 주파수 $F$, (디지털) 각주파수 $\\Omega$\n"
      ],
      "metadata": {
        "id": "88rW2ozKt_F7"
      }
    },
    {
      "cell_type": "markdown",
      "source": [
        "---\n",
        "\n",
        "## 1.3 디지털 신호처리 (Digital Signal Processing)  \n",
        "\n",
        "- 디지털 시스템에 의한 이산 신호의 처리  \n",
        "- 수치적인 처리  \n",
        "  디지털 신호 = 수열(sequence of numbers)  \n",
        "- 하드웨어적 and/or 소프트웨어적 처리"
      ],
      "metadata": {
        "id": "YK8O0qa0V77b"
      }
    },
    {
      "cell_type": "markdown",
      "source": [
        "---\n",
        "\n",
        "### 1.3.1 디지털 신호처리 시스템의 구성  \n",
        "\n",
        "▶ **전처리 필터(`Pre-processing filter`)** : 신호 주파수 범위를 제한, 반주파수 중첩(anti-aliasing)  \n",
        "▶ **A/D 변환기** : 아날로그 신호 → 디지털 신호  \n",
        "▶ **디지털 시스템** : 디지털 신호 처리  \n",
        "▶ **D/A 변환기** : 디지털 신호 → 아날로그 신호  \n",
        "▶ **후처리 필터 (`Post-processing filter`)** : D/A 과정에서 발생하는 불필요한 과도 응답 제거     \n",
        "\n",
        "<center>\n",
        "<img src='https://drive.google.com/uc?export=download&id=1KXxXnFm_520Sh83Ng3s57O1HUI4GG8Sw' width=\"700\" height =\"\" /><br>"
      ],
      "metadata": {
        "id": "svZTA1kZWcYB"
      }
    },
    {
      "cell_type": "markdown",
      "source": [
        "---\n",
        "\n",
        "### 1.3.2 디지털 신호처리의 장점  \n",
        "\n",
        ">- 데이터/음성/영상 등 다양한 형태의 신호를 통합적으로 취급할 수 있다.  \n",
        "- 처리가 오로지 덧셈, 곱셈, 시간 지연에 기초하므로 신호 조작이 쉽다.  \n",
        "- 컴퓨터와 상용 S/W를 이용하여 편리하게 개발 & 검증할 수 있다.  \n",
        "- H/W와 S/W의 결합으로 다양한 처리 방식의 구현이 가능하다.  \n",
        "- 특히 아날로그 방식으로는 불가능한 작업도 구현할 수 있다.  \n",
        "- 프로그램의 교체만으로 전혀 다른 형태와 성능의 처리를 해낼 수 있다.   \n",
        "- 프로그램 및 디지털 소자의 특성상 동작 안정성과 신뢰성이 매우 높다.  \n",
        "- 데이터의 손상 없이 동일한 동작을 무한히 반복/재현할 수 있다.   \n",
        "- 수치적 처리로 잡음과 외란의 영향이나 유동(drift)을 감소시킬 수 있다.    \n",
        "- 정확도 및 감도를 특정 수준으로 보장할 수 있고, 수준의 조절이 쉽다.   \n",
        "- 시분할, 다중화 등에 의해 동시에 여러 신호들을 처리할 수 있다.  \n",
        "- 반도체 발달로 시스템을 값싸고, 작고, 가볍고, 간결하게 만들 수 있다.  \n",
        "\n"
      ],
      "metadata": {
        "id": "IfO8ITGVXNoW"
      }
    },
    {
      "cell_type": "markdown",
      "source": [
        "#### 디지털 신호처리의 단점   \n",
        "\n",
        ">- A/D, D/A 변환 과정에서의 정보 소실  \n",
        "- 시간 지연 및 속도의 제한  \n",
        "- 시스템 안정도 저하 가능  \n",
        "- 시스템 설계 시 수학적 해석이 어려움 → ***더 많은 시간 소요***  \n",
        "- 양자화 오차에 의한 유한 어장 효과(`finite word length effect`)  "
      ],
      "metadata": {
        "id": "S08TwMLZXsF4"
      }
    },
    {
      "cell_type": "markdown",
      "source": [
        ">예제: 디지털 필터에서의 유한 워드 길이 효과  \n",
        ">상황: 16비트 고정 소수점 프로세서를 사용하여 디지털 저역 통과 필터를 구현한다고 가정  \n",
        "1) 계수 양자화 오차:  \n",
        "- 이상적인 필터 계수: 0.12345678  \n",
        "- 16비트로 표현 가능한 가장 가까운 값: 0.123456 (0.0000078의 오차)  \n",
        "\n",
        ">> 이 작은 오차가 필터의 주파수 응답을 미세하게 변화시킬 수 있음. 특히 여러 계수에 걸쳐 이런 오차가 누적되면, 필터의 성능이 설계 사양에서 벗어날 수 있음.\n",
        "\n",
        ">2) 입력 양자화 오차:  \n",
        "- 실제 입력 신호 값: 0.7654321  \n",
        "- 16비트로 표현된 값: 0.765432 (0.0000001의 오차)  \n",
        ">> 이러한 작은 오차들이 지속적으로 발생하면, 특히 낮은 진폭의 신호를 처리할 때 신호 대 잡음비(SNR)에 영향을 줄 수 있음.\n"
      ],
      "metadata": {
        "id": "7AQfKlZax9jG"
      }
    },
    {
      "cell_type": "markdown",
      "source": [
        "---\n",
        "\n",
        "### 1.3.3 디지털 신호처리의 목적  \n",
        "\n",
        "- **신호 해석 (`Signal Analysis`)**  \n",
        "  - 관측 신호로부터 그 신호의 특정한 성질을 해석\n",
        "  - 스펙트럼 해석과 상관(correlation) 해석 등\n",
        "\n",
        "- **정보 추출 (`Information Extraction`)**\n",
        "  - (신호 해석/처리 편리하게) 관측 신호에 포함된 의미 있는 정보 추출  \n",
        "  - 확률 통계적 방법과 같은 수학적 기법 사용  \n",
        "> (예) 패턴 인식 특징 추출,  \n",
        "  지문의 주요 특징 추출,  \n",
        "  레이더 수집 신호의 특징 추출\n",
        "\n",
        "- **필터링 (`Filtering`)**  \n",
        "  - 불필요한 성분을 제거하거나 바람직한 형태로 신호를 변형  \n",
        "  - 주파수 선택 필터 : 주파수에 따라 원하는 성분만 통과 (불필요한 성분 제거)\n",
        "\n",
        "<center>\n",
        "<img src='https://drive.google.com/uc?export=download&id=1Kd15uTYYGviMHD0AfPu-VKKZee4hHq-C' width=\"600\" height =\"\" /><br>\n",
        "</center>"
      ],
      "metadata": {
        "id": "Kz6uHIFcYBGR"
      }
    },
    {
      "cell_type": "markdown",
      "source": [
        "- 신호의 압축과 복원 (코딩)  \n",
        "  - 품질을 저하시키지 않으면서 방대한 데이터의 양을 줄임  \n",
        "```\n",
        " (예) 음악 : wav 파일 1,411.2[kbps] (44.1[kbps]×16비트×2채널)\n",
        "                MP3 파일은 192[kbps]\n",
        "\n",
        "        동영상 : 압축 않으면 700[MB] CD에 1분 전후 저장\n",
        "                    avi나 divx는 CD에 60분 정도 저장\n",
        "```\n",
        "\n",
        "- 신호의 예측과 시스템 식별  \n",
        "  - 적절한 처리에 의해 신호 발생 시스템의 특성이나 구조를 알아냄\n",
        "\n",
        "- 신호의 합성  \n",
        "  - 음성, 영상 신호 합성\n",
        "\n"
      ],
      "metadata": {
        "id": "4yW1C0ONZaDI"
      }
    },
    {
      "cell_type": "markdown",
      "source": [
        "---\n",
        "\n",
        "#### 디지털 신호 처리 연산  \n",
        "\n",
        "- 기본적인 디지털 신호 처리의 연산  \n",
        "▶ **컨벌루션(`convolution`)** : 디지털 필터링의 기본 연산\n",
        "          → 선형 & 원형(주기) 컨벌루션\n",
        "▶ **상관**(`correlation`) : 신호간 유사성 나타내는 지표\n",
        "          → 자기 & 상호 상관\n",
        "▶ **변조**(`modulation`) : 효율적인 통신을 위해서 반드시 필요한 조작  \n",
        "▶ **변환**(`transform`) : 수학적으로 신호 표현을 바꾸는 연산  "
      ],
      "metadata": {
        "id": "Yuy6EbMKaLfd"
      }
    },
    {
      "cell_type": "markdown",
      "source": [
        "---\n",
        "\n",
        "### 1.3.4 디지털 신호 처리의 응용   \n",
        "\n",
        "<center>\n",
        "<img src='https://drive.google.com/uc?export=download&id=1KfqDGBxD2FPTD6YJZGGI7Ege584iou_r' width=\"700\" height =\"\" /><br>\n",
        "\n",
        "\n"
      ],
      "metadata": {
        "id": "OiAFRONLamcP"
      }
    },
    {
      "cell_type": "markdown",
      "source": [
        "#### Ex: 오디오 CD 재생 시스템   \n",
        "\n",
        "- CD 기록 : 이진화된 정보 패턴에 맞추어 레이저로 표면을 태워 저장\n",
        "- CD 재생 : 광학 pickup이 1.2[m/s] (210~480[rpm], 430만[bps])로 움직이며 이진정보 판독  \n",
        "\n",
        "<center>\n",
        " <img src='https://drive.google.com/uc?export=download&id=1Kh5OaPCXZvSC1mT5nSTdHcu7h2XXjHG1' width=\"500\" height =\"\" /><br>\n",
        "\n",
        "\n",
        "<img src='https://drive.google.com/uc?export=download&id=1KhrDX91E7MZTW0jl31apvyvp9RvkCNCk' width=\"600\" height =\"\" /><br>\n"
      ],
      "metadata": {
        "id": "i208z9zxa7Ja"
      }
    },
    {
      "cell_type": "markdown",
      "source": [
        "---\n",
        "\n",
        "#### Ex: 심전도(`ECG`) 신호의 처리  \n",
        "\n",
        "- P : 좌우 심방(`Left/righr ventricles`)의 수축(`contraction`\\)  \n",
        "- QRS : 심실의 수축이 일어나는 기간  \n",
        "- T : 심실의 이완기  (`repolarization`)\n",
        "- P와 QRS 사이 : 심실에 혈액을 채울 수 있도록 신경 자극 전달이 지연되는 기간  \n",
        "- S와 T 사이 : 심실의 수축이 지속되는 기간  \n",
        "\n",
        "<center>\n",
        "<img src='https://drive.google.com/uc?export=download&id=1KjeoEbaW_dzDEcZa5410XpXyGjvj5Znl' width=\"400\" height =\"\" /><br>\n",
        "</center>\n",
        "\n",
        "- 고주파 잡음과 기준선 유동, 전원 간섭이 혼재된 신호가 측정됨  \n",
        "- 고주파 잡음 : 저역 통과(LP) 필터를 이용하여 제거   \n",
        "- 기준선 유동 : 고역 통과(HP) 필터를 이용하여 제거  \n",
        "- 전원 간섭 : 노치(notch) 필터를 이용하여 제거  "
      ],
      "metadata": {
        "id": "1bmJZil9dNzH"
      }
    },
    {
      "cell_type": "markdown",
      "source": [
        "<center>\n",
        "\n",
        "<img src='https://drive.google.com/uc?export=download&id=1Kk2Cl3XDCEfz291KxN8jRixtB7Sn_oOq' width=\"600\" height =\"\" /><br>\n",
        "\n",
        "\n",
        "<img src='https://drive.google.com/uc?export=download&id=1Kl03LhtXjt2sghuiyjO3eq2SleF601oO' width=\"600\" height =\"\" /><br>"
      ],
      "metadata": {
        "id": "SuuPBvXf2Rrd"
      }
    },
    {
      "cell_type": "markdown",
      "source": [
        "---\n",
        "\n",
        "## 1.4 신호와 관련된 기초 개념  "
      ],
      "metadata": {
        "id": "BA52zZjr2cEz"
      }
    },
    {
      "cell_type": "markdown",
      "source": [
        "### 1.4.1 정현파 신호의 진폭, 위상, 주기, 주파수   \n",
        "\n",
        "- **정현파(`Sinusoids`)**  \n",
        "  - 등속 회전운동체의 위치를 시간에 대해 그린 파형을 갖는 신호  \n",
        "  - 진폭($A$), 위상($ \\Phi$), 주파수($ \\omega / f$)의 3가지 요소에 의해 정의됨\n",
        "\n",
        "$$ x(t) = A \\cos ( \\omega t + \\phi )$$  \n",
        "\n",
        "<center>\n",
        " <img src='https://drive.google.com/uc?export=download&id=1KlROOSLPWmSdO_wzQVpY2CzqHx5p-Wn1' width=\"600\" height =\"\" /><br>\n"
      ],
      "metadata": {
        "id": "3ELAeo5O3bKr"
      }
    },
    {
      "cell_type": "markdown",
      "source": [
        "- **진폭(`Amplitude`)** : 정현파가 진동하면서 변할 수 있는 값의 범위  \n",
        "- **위상(`Phase`)** : 각으로 표시된 원점에서 코사인파 꼭지점(사인파 영점)의 거리  \n",
        "   \n",
        "\n",
        "- **(기본)주기(`Fundamental period`)** : 정현파가 같은 파형을 반복하는 (최소) 시간 간격  \n",
        "- **주파수(`Frequency`)** : 정현파가 1초에 같은 파형을 반복하는 회수  \n",
        "  주파수가 높아질수록 신호의 파형은 시간적으로 더 급격한 변화를 보임  \n",
        "\n",
        "- **각주파수(`Radian frequency`)** : 정현파가 1초에 이동할 수 있는 라디안 각  \n",
        "$$\n",
        "\\omega = \\frac{2 \\pi}{T} = 2 \\pi f \\\\\n",
        "T = \\frac{2\\pi}{\\omega} = \\frac{1}{f}  \\\\\n",
        "f = \\frac{1}{T} = \\frac{\\omega}{2\\pi}\n",
        "$$\n",
        "\n",
        "\n",
        "- 주파수와 위상의 물리적 의미\n",
        "<center>\n",
        " <img src='https://drive.google.com/uc?export=download&id=1KoN1YV5_Zd8LSMC0vaU1ZDojeXAIKRbm' width=\"600\" height =\"\" /><br>\n",
        " </center>\n",
        "\n",
        "  - 두 정현파는 지연 시간 $t_1$을 각으로 환산한 $\\phi$만큼의 위상을 가짐.   \n",
        "  - 위상은 정현차의 모양에는 영향을 주지 않음.   \n",
        "  - 파형의 시간 이동과 연관 → 지연 : 음(뒤진) 위상\n",
        "\n",
        "$$\n",
        "\\phi = - 2 \\pi \\frac{t_1}{T} = -2 \\pi f t_1 \\\\\n",
        "\\cos ( 2 \\pi f(t-t_1)) = \\cos ( 2 \\pi ft - 2 \\pi ft_1)  = \\cos ( 2 \\pi ft + \\phi))\n",
        "$$"
      ],
      "metadata": {
        "id": "o9Swa7Ka4iUm"
      }
    },
    {
      "cell_type": "markdown",
      "source": [
        "### Example python code"
      ],
      "metadata": {
        "id": "8tlqbfFxHr5P"
      }
    },
    {
      "cell_type": "code",
      "source": [
        "!pip list"
      ],
      "metadata": {
        "id": "F2PPbB5aznMb",
        "collapsed": true,
        "colab": {
          "base_uri": "https://localhost:8080/"
        },
        "outputId": "da5532de-7cdd-412e-8777-6d057a7f8dfa"
      },
      "execution_count": null,
      "outputs": [
        {
          "output_type": "stream",
          "name": "stdout",
          "text": [
            "Package                          Version\n",
            "-------------------------------- ---------------------\n",
            "absl-py                          1.4.0\n",
            "accelerate                       0.33.0\n",
            "aiohappyeyeballs                 2.4.0\n",
            "aiohttp                          3.10.5\n",
            "aiosignal                        1.3.1\n",
            "alabaster                        0.7.16\n",
            "albucore                         0.0.14\n",
            "albumentations                   1.4.14\n",
            "altair                           4.2.2\n",
            "annotated-types                  0.7.0\n",
            "anyio                            3.7.1\n",
            "argon2-cffi                      23.1.0\n",
            "argon2-cffi-bindings             21.2.0\n",
            "array_record                     0.5.1\n",
            "arviz                            0.18.0\n",
            "asn1crypto                       1.5.1\n",
            "astropy                          6.1.3\n",
            "astropy-iers-data                0.2024.8.27.10.28.29\n",
            "astunparse                       1.6.3\n",
            "async-timeout                    4.0.3\n",
            "atpublic                         4.1.0\n",
            "attrs                            24.2.0\n",
            "audioread                        3.0.1\n",
            "autograd                         1.7.0\n",
            "babel                            2.16.0\n",
            "backcall                         0.2.0\n",
            "beautifulsoup4                   4.12.3\n",
            "bidict                           0.23.1\n",
            "bigframes                        1.15.0\n",
            "bigquery-magics                  0.2.0\n",
            "bleach                           6.1.0\n",
            "blinker                          1.4\n",
            "blis                             0.7.11\n",
            "blosc2                           2.0.0\n",
            "bokeh                            3.4.3\n",
            "bqplot                           0.12.43\n",
            "branca                           0.7.2\n",
            "build                            1.2.2\n",
            "CacheControl                     0.14.0\n",
            "cachetools                       5.5.0\n",
            "catalogue                        2.0.10\n",
            "certifi                          2024.8.30\n",
            "cffi                             1.17.0\n",
            "chardet                          5.2.0\n",
            "charset-normalizer               3.3.2\n",
            "chex                             0.1.86\n",
            "clarabel                         0.9.0\n",
            "click                            8.1.7\n",
            "click-plugins                    1.1.1\n",
            "cligj                            0.7.2\n",
            "cloudpathlib                     0.19.0\n",
            "cloudpickle                      2.2.1\n",
            "cmake                            3.30.2\n",
            "cmdstanpy                        1.2.4\n",
            "colorcet                         3.1.0\n",
            "colorlover                       0.3.0\n",
            "colour                           0.1.5\n",
            "community                        1.0.0b1\n",
            "confection                       0.1.5\n",
            "cons                             0.4.6\n",
            "contextlib2                      21.6.0\n",
            "contourpy                        1.3.0\n",
            "cryptography                     43.0.0\n",
            "cuda-python                      12.2.1\n",
            "cudf-cu12                        24.4.1\n",
            "cufflinks                        0.17.3\n",
            "cupy-cuda12x                     12.2.0\n",
            "cvxopt                           1.3.2\n",
            "cvxpy                            1.5.3\n",
            "cycler                           0.12.1\n",
            "cymem                            2.0.8\n",
            "Cython                           3.0.11\n",
            "dask                             2024.7.1\n",
            "datascience                      0.17.6\n",
            "db-dtypes                        1.3.0\n",
            "dbus-python                      1.2.18\n",
            "debugpy                          1.6.6\n",
            "decorator                        4.4.2\n",
            "defusedxml                       0.7.1\n",
            "distributed                      2024.7.1\n",
            "distro                           1.7.0\n",
            "dlib                             19.24.2\n",
            "dm-tree                          0.1.8\n",
            "docstring_parser                 0.16\n",
            "docutils                         0.18.1\n",
            "dopamine_rl                      4.0.9\n",
            "duckdb                           0.10.3\n",
            "earthengine-api                  0.1.418\n",
            "easydict                         1.13\n",
            "ecos                             2.0.14\n",
            "editdistance                     0.8.1\n",
            "eerepr                           0.0.4\n",
            "einops                           0.8.0\n",
            "en-core-web-sm                   3.7.1\n",
            "entrypoints                      0.4\n",
            "et-xmlfile                       1.1.0\n",
            "etils                            1.7.0\n",
            "etuples                          0.3.9\n",
            "eval_type_backport               0.2.0\n",
            "exceptiongroup                   1.2.2\n",
            "fastai                           2.7.17\n",
            "fastcore                         1.7.1\n",
            "fastdownload                     0.0.7\n",
            "fastjsonschema                   2.20.0\n",
            "fastprogress                     1.0.3\n",
            "fastrlock                        0.8.2\n",
            "filelock                         3.15.4\n",
            "fiona                            1.9.6\n",
            "firebase-admin                   6.5.0\n",
            "Flask                            2.2.5\n",
            "flatbuffers                      24.3.25\n",
            "flax                             0.8.4\n",
            "folium                           0.17.0\n",
            "fonttools                        4.53.1\n",
            "frozendict                       2.4.4\n",
            "frozenlist                       1.4.1\n",
            "fsspec                           2024.6.1\n",
            "future                           1.0.0\n",
            "gast                             0.6.0\n",
            "gcsfs                            2024.6.1\n",
            "GDAL                             3.6.4\n",
            "gdown                            5.1.0\n",
            "geemap                           0.34.0\n",
            "gensim                           4.3.3\n",
            "geocoder                         1.38.1\n",
            "geographiclib                    2.0\n",
            "geopandas                        0.14.4\n",
            "geopy                            2.4.1\n",
            "gin-config                       0.5.0\n",
            "glob2                            0.7\n",
            "google                           2.0.3\n",
            "google-ai-generativelanguage     0.6.6\n",
            "google-api-core                  2.19.2\n",
            "google-api-python-client         2.137.0\n",
            "google-auth                      2.27.0\n",
            "google-auth-httplib2             0.2.0\n",
            "google-auth-oauthlib             1.2.1\n",
            "google-cloud-aiplatform          1.64.0\n",
            "google-cloud-bigquery            3.25.0\n",
            "google-cloud-bigquery-connection 1.15.5\n",
            "google-cloud-bigquery-storage    2.25.0\n",
            "google-cloud-bigtable            2.26.0\n",
            "google-cloud-core                2.4.1\n",
            "google-cloud-datastore           2.19.0\n",
            "google-cloud-firestore           2.16.1\n",
            "google-cloud-functions           1.16.5\n",
            "google-cloud-iam                 2.15.2\n",
            "google-cloud-language            2.13.4\n",
            "google-cloud-pubsub              2.23.0\n",
            "google-cloud-resource-manager    1.12.5\n",
            "google-cloud-storage             2.8.0\n",
            "google-cloud-translate           3.15.5\n",
            "google-colab                     1.0.0\n",
            "google-crc32c                    1.5.0\n",
            "google-generativeai              0.7.2\n",
            "google-pasta                     0.2.0\n",
            "google-resumable-media           2.7.2\n",
            "googleapis-common-protos         1.65.0\n",
            "googledrivedownloader            0.4\n",
            "graphviz                         0.20.3\n",
            "greenlet                         3.0.3\n",
            "grpc-google-iam-v1               0.13.1\n",
            "grpcio                           1.64.1\n",
            "grpcio-status                    1.48.2\n",
            "gspread                          6.0.2\n",
            "gspread-dataframe                3.3.1\n",
            "gym                              0.25.2\n",
            "gym-notices                      0.0.8\n",
            "h5netcdf                         1.3.0\n",
            "h5py                             3.11.0\n",
            "holidays                         0.55\n",
            "holoviews                        1.18.3\n",
            "html5lib                         1.1\n",
            "httpimport                       1.3.1\n",
            "httplib2                         0.22.0\n",
            "huggingface-hub                  0.24.6\n",
            "humanize                         4.10.0\n",
            "hyperopt                         0.2.7\n",
            "ibis-framework                   8.0.0\n",
            "idna                             3.8\n",
            "imageio                          2.34.2\n",
            "imageio-ffmpeg                   0.5.1\n",
            "imagesize                        1.4.1\n",
            "imbalanced-learn                 0.12.3\n",
            "imgaug                           0.4.0\n",
            "immutabledict                    4.2.0\n",
            "importlib_metadata               8.4.0\n",
            "importlib_resources              6.4.4\n",
            "imutils                          0.5.4\n",
            "inflect                          7.3.1\n",
            "iniconfig                        2.0.0\n",
            "intel-cmplr-lib-ur               2024.2.1\n",
            "intel-openmp                     2024.2.1\n",
            "ipyevents                        2.0.2\n",
            "ipyfilechooser                   0.6.0\n",
            "ipykernel                        5.5.6\n",
            "ipyleaflet                       0.18.2\n",
            "ipyparallel                      8.8.0\n",
            "ipython                          7.34.0\n",
            "ipython-genutils                 0.2.0\n",
            "ipython-sql                      0.5.0\n",
            "ipytree                          0.2.2\n",
            "ipywidgets                       7.7.1\n",
            "itsdangerous                     2.2.0\n",
            "jax                              0.4.26\n",
            "jaxlib                           0.4.26+cuda12.cudnn89\n",
            "jeepney                          0.7.1\n",
            "jellyfish                        1.1.0\n",
            "jieba                            0.42.1\n",
            "Jinja2                           3.1.4\n",
            "joblib                           1.4.2\n",
            "jsonpickle                       3.2.2\n",
            "jsonschema                       4.23.0\n",
            "jsonschema-specifications        2023.12.1\n",
            "jupyter-client                   6.1.12\n",
            "jupyter-console                  6.1.0\n",
            "jupyter_core                     5.7.2\n",
            "jupyter-server                   1.24.0\n",
            "jupyterlab_pygments              0.3.0\n",
            "jupyterlab_widgets               3.0.13\n",
            "kaggle                           1.6.17\n",
            "kagglehub                        0.2.9\n",
            "keras                            3.4.1\n",
            "keyring                          23.5.0\n",
            "kiwisolver                       1.4.5\n",
            "langcodes                        3.4.0\n",
            "language_data                    1.2.0\n",
            "launchpadlib                     1.10.16\n",
            "lazr.restfulclient               0.14.4\n",
            "lazr.uri                         1.0.6\n",
            "lazy_loader                      0.4\n",
            "libclang                         18.1.1\n",
            "librosa                          0.10.2.post1\n",
            "lightgbm                         4.4.0\n",
            "linkify-it-py                    2.0.3\n",
            "llvmlite                         0.43.0\n",
            "locket                           1.0.0\n",
            "logical-unification              0.4.6\n",
            "lxml                             4.9.4\n",
            "malloy                           2024.1091\n",
            "marisa-trie                      1.2.0\n",
            "Markdown                         3.7\n",
            "markdown-it-py                   3.0.0\n",
            "MarkupSafe                       2.1.5\n",
            "matplotlib                       3.7.1\n",
            "matplotlib-inline                0.1.7\n",
            "matplotlib-venn                  0.11.10\n",
            "mdit-py-plugins                  0.4.1\n",
            "mdurl                            0.1.2\n",
            "miniKanren                       1.0.3\n",
            "missingno                        0.5.2\n",
            "mistune                          0.8.4\n",
            "mizani                           0.9.3\n",
            "mkl                              2024.2.1\n",
            "ml-dtypes                        0.4.0\n",
            "mlxtend                          0.23.1\n",
            "more-itertools                   10.3.0\n",
            "moviepy                          1.0.3\n",
            "mpmath                           1.3.0\n",
            "msgpack                          1.0.8\n",
            "multidict                        6.0.5\n",
            "multipledispatch                 1.0.0\n",
            "multitasking                     0.0.11\n",
            "murmurhash                       1.0.10\n",
            "music21                          9.1.0\n",
            "namex                            0.0.8\n",
            "natsort                          8.4.0\n",
            "nbclassic                        1.1.0\n",
            "nbclient                         0.10.0\n",
            "nbconvert                        6.5.4\n",
            "nbformat                         5.10.4\n",
            "nest-asyncio                     1.6.0\n",
            "networkx                         3.3\n",
            "nibabel                          5.0.1\n",
            "nltk                             3.8.1\n",
            "notebook                         6.5.5\n",
            "notebook_shim                    0.2.4\n",
            "numba                            0.60.0\n",
            "numexpr                          2.10.1\n",
            "numpy                            1.26.4\n",
            "nvidia-nccl-cu12                 2.22.3\n",
            "nvtx                             0.2.10\n",
            "oauth2client                     4.1.3\n",
            "oauthlib                         3.2.2\n",
            "opencv-contrib-python            4.10.0.84\n",
            "opencv-python                    4.10.0.84\n",
            "opencv-python-headless           4.10.0.84\n",
            "openpyxl                         3.1.5\n",
            "opt-einsum                       3.3.0\n",
            "optax                            0.2.2\n",
            "optree                           0.12.1\n",
            "orbax-checkpoint                 0.6.1\n",
            "osqp                             0.6.7.post0\n",
            "packaging                        24.1\n",
            "pandas                           2.1.4\n",
            "pandas-datareader                0.10.0\n",
            "pandas-gbq                       0.23.1\n",
            "pandas-stubs                     2.1.4.231227\n",
            "pandocfilters                    1.5.1\n",
            "panel                            1.4.5\n",
            "param                            2.1.1\n",
            "parso                            0.8.4\n",
            "parsy                            2.1\n",
            "partd                            1.4.2\n",
            "pathlib                          1.0.1\n",
            "patsy                            0.5.6\n",
            "peewee                           3.17.6\n",
            "pexpect                          4.9.0\n",
            "pickleshare                      0.7.5\n",
            "Pillow                           9.4.0\n",
            "pip                              24.1.2\n",
            "pip-tools                        7.4.1\n",
            "platformdirs                     4.2.2\n",
            "plotly                           5.15.0\n",
            "plotnine                         0.12.4\n",
            "pluggy                           1.5.0\n",
            "polars                           0.20.2\n",
            "pooch                            1.8.2\n",
            "portpicker                       1.5.2\n",
            "prefetch_generator               1.0.3\n",
            "preshed                          3.0.9\n",
            "prettytable                      3.11.0\n",
            "proglog                          0.1.10\n",
            "progressbar2                     4.2.0\n",
            "prometheus_client                0.20.0\n",
            "promise                          2.3\n",
            "prompt_toolkit                   3.0.47\n",
            "prophet                          1.1.5\n",
            "proto-plus                       1.24.0\n",
            "protobuf                         3.20.3\n",
            "psutil                           5.9.5\n",
            "psycopg2                         2.9.9\n",
            "ptyprocess                       0.7.0\n",
            "py-cpuinfo                       9.0.0\n",
            "py4j                             0.10.9.7\n",
            "pyarrow                          14.0.2\n",
            "pyarrow-hotfix                   0.6\n",
            "pyasn1                           0.6.0\n",
            "pyasn1_modules                   0.4.0\n",
            "pycocotools                      2.0.8\n",
            "pycparser                        2.22\n",
            "pydantic                         2.8.2\n",
            "pydantic_core                    2.20.1\n",
            "pydata-google-auth               1.8.2\n",
            "pydot                            1.4.2\n",
            "pydot-ng                         2.0.0\n",
            "pydotplus                        2.0.2\n",
            "PyDrive                          1.3.1\n",
            "PyDrive2                         1.6.3\n",
            "pyerfa                           2.0.1.4\n",
            "pygame                           2.6.0\n",
            "Pygments                         2.16.1\n",
            "PyGObject                        3.42.1\n",
            "PyJWT                            2.9.0\n",
            "pymc                             5.10.4\n",
            "pymystem3                        0.2.0\n",
            "pynvjitlink-cu12                 0.3.0\n",
            "PyOpenGL                         3.1.7\n",
            "pyOpenSSL                        24.2.1\n",
            "pyparsing                        3.1.4\n",
            "pyperclip                        1.9.0\n",
            "pyproj                           3.6.1\n",
            "pyproject_hooks                  1.1.0\n",
            "pyshp                            2.3.1\n",
            "PySocks                          1.7.1\n",
            "pytensor                         2.18.6\n",
            "pytest                           7.4.4\n",
            "python-apt                       2.4.0\n",
            "python-box                       7.2.0\n",
            "python-dateutil                  2.8.2\n",
            "python-louvain                   0.16\n",
            "python-slugify                   8.0.4\n",
            "python-utils                     3.8.2\n",
            "pytz                             2024.1\n",
            "pyviz_comms                      3.0.3\n",
            "PyYAML                           6.0.2\n",
            "pyzmq                            24.0.1\n",
            "qdldl                            0.1.7.post4\n",
            "ratelim                          0.1.6\n",
            "referencing                      0.35.1\n",
            "regex                            2024.5.15\n",
            "requests                         2.32.3\n",
            "requests-oauthlib                1.3.1\n",
            "requirements-parser              0.9.0\n",
            "rich                             13.8.0\n",
            "rmm-cu12                         24.4.0\n",
            "rpds-py                          0.20.0\n",
            "rpy2                             3.4.2\n",
            "rsa                              4.9\n",
            "safetensors                      0.4.4\n",
            "scikit-image                     0.23.2\n",
            "scikit-learn                     1.3.2\n",
            "scipy                            1.13.1\n",
            "scooby                           0.10.0\n",
            "scs                              3.2.7\n",
            "seaborn                          0.13.1\n",
            "SecretStorage                    3.3.1\n",
            "Send2Trash                       1.8.3\n",
            "sentencepiece                    0.1.99\n",
            "setuptools                       71.0.4\n",
            "shapely                          2.0.6\n",
            "shellingham                      1.5.4\n",
            "simple_parsing                   0.1.5\n",
            "six                              1.16.0\n",
            "sklearn-pandas                   2.2.0\n",
            "smart-open                       7.0.4\n",
            "sniffio                          1.3.1\n",
            "snowballstemmer                  2.2.0\n",
            "snowflake-connector-python       3.12.1\n",
            "sortedcontainers                 2.4.0\n",
            "soundfile                        0.12.1\n",
            "soupsieve                        2.6\n",
            "soxr                             0.5.0\n",
            "spacy                            3.7.6\n",
            "spacy-legacy                     3.0.12\n",
            "spacy-loggers                    1.0.5\n",
            "Sphinx                           5.0.2\n",
            "sphinxcontrib-applehelp          2.0.0\n",
            "sphinxcontrib-devhelp            2.0.0\n",
            "sphinxcontrib-htmlhelp           2.1.0\n",
            "sphinxcontrib-jsmath             1.0.1\n",
            "sphinxcontrib-qthelp             2.0.0\n",
            "sphinxcontrib-serializinghtml    2.0.0\n",
            "SQLAlchemy                       2.0.32\n",
            "sqlglot                          20.11.0\n",
            "sqlparse                         0.5.1\n",
            "srsly                            2.4.8\n",
            "stanio                           0.5.1\n",
            "statsmodels                      0.14.2\n",
            "StrEnum                          0.4.15\n",
            "sympy                            1.13.2\n",
            "tables                           3.8.0\n",
            "tabulate                         0.9.0\n",
            "tbb                              2021.13.1\n",
            "tblib                            3.0.0\n",
            "tenacity                         9.0.0\n",
            "tensorboard                      2.17.0\n",
            "tensorboard-data-server          0.7.2\n",
            "tensorflow                       2.17.0\n",
            "tensorflow-datasets              4.9.6\n",
            "tensorflow-hub                   0.16.1\n",
            "tensorflow-io-gcs-filesystem     0.37.1\n",
            "tensorflow-metadata              1.15.0\n",
            "tensorflow-probability           0.24.0\n",
            "tensorstore                      0.1.64\n",
            "termcolor                        2.4.0\n",
            "terminado                        0.18.1\n",
            "text-unidecode                   1.3\n",
            "textblob                         0.17.1\n",
            "tf_keras                         2.17.0\n",
            "tf-slim                          1.1.0\n",
            "thinc                            8.2.5\n",
            "threadpoolctl                    3.5.0\n",
            "tifffile                         2024.8.28\n",
            "tinycss2                         1.3.0\n",
            "tokenizers                       0.19.1\n",
            "toml                             0.10.2\n",
            "tomli                            2.0.1\n",
            "tomlkit                          0.13.2\n",
            "toolz                            0.12.1\n",
            "torch                            2.4.0+cu121\n",
            "torchaudio                       2.4.0+cu121\n",
            "torchsummary                     1.5.1\n",
            "torchvision                      0.19.0+cu121\n",
            "tornado                          6.3.3\n",
            "tqdm                             4.66.5\n",
            "traitlets                        5.7.1\n",
            "traittypes                       0.2.1\n",
            "transformers                     4.44.2\n",
            "tweepy                           4.14.0\n",
            "typeguard                        4.3.0\n",
            "typer                            0.12.5\n",
            "types-pytz                       2024.1.0.20240417\n",
            "types-setuptools                 74.1.0.20240907\n",
            "typing_extensions                4.12.2\n",
            "tzdata                           2024.1\n",
            "tzlocal                          5.2\n",
            "uc-micro-py                      1.0.3\n",
            "uritemplate                      4.1.1\n",
            "urllib3                          2.0.7\n",
            "vega-datasets                    0.9.0\n",
            "wadllib                          1.3.6\n",
            "wasabi                           1.1.3\n",
            "wcwidth                          0.2.13\n",
            "weasel                           0.4.1\n",
            "webcolors                        24.8.0\n",
            "webencodings                     0.5.1\n",
            "websocket-client                 1.8.0\n",
            "Werkzeug                         3.0.4\n",
            "wheel                            0.44.0\n",
            "widgetsnbextension               3.6.8\n",
            "wordcloud                        1.9.3\n",
            "wrapt                            1.16.0\n",
            "xarray                           2024.6.0\n",
            "xarray-einstats                  0.7.0\n",
            "xgboost                          2.1.1\n",
            "xlrd                             2.0.1\n",
            "xyzservices                      2024.6.0\n",
            "yarl                             1.9.4\n",
            "yellowbrick                      1.5\n",
            "yfinance                         0.2.43\n",
            "zict                             3.0.0\n",
            "zipp                             3.20.1\n"
          ]
        }
      ]
    },
    {
      "cell_type": "code",
      "source": [
        "import math\n",
        "import numpy as np\n",
        "import matplotlib.pyplot as plt"
      ],
      "metadata": {
        "id": "DRud1wnfGL-J"
      },
      "execution_count": null,
      "outputs": []
    },
    {
      "cell_type": "code",
      "source": [
        "t = np.arange(0,2.5,0.05)\n",
        "y1 = np.sin(math.pi*t)\n",
        "y2 = np.sin(math.pi*t+math.pi/2)\n",
        "y3 = np.sin(math.pi*t-math.pi/2)\n",
        "\n",
        "plt.plot(t,y1,'b',t,y2,'g',t,y3,'y')\n",
        "plt.legend()\n",
        "plt.title(\"Test Title\")"
      ],
      "metadata": {
        "id": "y40fpLcKE_mr",
        "colab": {
          "base_uri": "https://localhost:8080/",
          "height": 509
        },
        "outputId": "4a13c2e9-655e-4af5-e98c-3316e81f9bcc",
        "collapsed": true
      },
      "execution_count": null,
      "outputs": [
        {
          "output_type": "stream",
          "name": "stderr",
          "text": [
            "WARNING:matplotlib.legend:No artists with labels found to put in legend.  Note that artists whose label start with an underscore are ignored when legend() is called with no argument.\n"
          ]
        },
        {
          "output_type": "execute_result",
          "data": {
            "text/plain": [
              "Text(0.5, 1.0, 'Test Title')"
            ]
          },
          "metadata": {},
          "execution_count": 21
        },
        {
          "output_type": "display_data",
          "data": {
            "text/plain": [
              "<Figure size 640x480 with 1 Axes>"
            ],
            "image/png": "[encoded data removed]"
          },
          "metadata": {}
        }
      ]
    },
    {
      "cell_type": "code",
      "source": [
        "plt.plot(t,y1,'b--',t,y2,'g',t,y3,'r-.')"
      ],
      "metadata": {
        "id": "z6_-UidkFkXm",
        "colab": {
          "base_uri": "https://localhost:8080/",
          "height": 485
        },
        "outputId": "28d2e64e-39f7-428a-87d2-493630638005"
      },
      "execution_count": null,
      "outputs": [
        {
          "output_type": "execute_result",
          "data": {
            "text/plain": [
              "[<matplotlib.lines.Line2D at 0x7b4474aedc90>,\n",
              " <matplotlib.lines.Line2D at 0x7b4474aedc60>,\n",
              " <matplotlib.lines.Line2D at 0x7b4474aedd80>]"
            ]
          },
          "metadata": {},
          "execution_count": 7
        },
        {
          "output_type": "display_data",
          "data": {
            "text/plain": [
              "<Figure size 640x480 with 1 Axes>"
            ],
            "image/png": "[encoded data removed]"
          },
          "metadata": {}
        }
      ]
    },
    {
      "cell_type": "code",
      "source": [
        "# 2nd Exanples\n",
        "x = np.arange(-2*np.pi,2*np.pi,0.01)\n",
        "y1 = np.sin(1*x)/x\n",
        "y2 = np.sin(2*x)/x\n",
        "y3 = np.sin(3*x)/x\n",
        "\n",
        "plt.plot(x,y1)\n",
        "plt.plot(x,y2)\n",
        "plt.plot(x,y3)\n"
      ],
      "metadata": {
        "id": "Sla4IPo7Fvz0",
        "colab": {
          "base_uri": "https://localhost:8080/",
          "height": 448
        },
        "outputId": "439f09b3-37b1-43ca-9014-dadb63bab8c5"
      },
      "execution_count": null,
      "outputs": [
        {
          "output_type": "execute_result",
          "data": {
            "text/plain": [
              "[<matplotlib.lines.Line2D at 0x7e212898a9b0>]"
            ]
          },
          "metadata": {},
          "execution_count": 15
        },
        {
          "output_type": "display_data",
          "data": {
            "text/plain": [
              "<Figure size 640x480 with 1 Axes>"
            ],
            "image/png": "[encoded data removed]"
          },
          "metadata": {}
        }
      ]
    },
    {
      "cell_type": "markdown",
      "source": [
        "---\n",
        "\n",
        "### 1.4.2 신호의 에너지(`Energy`)와 전력(`Power`)  \n",
        "\n",
        "- 신호의 에너지(`Energy`)  \n",
        "  - 실제 에너지와 다름  \n",
        "  - 신호 특성의 정량적 표현 또는 신호들의 비교 시 유용한 기준  \n",
        "$$\n",
        "\\text{연속신호:} E = \\lim_{T \\rightarrow \\infty} \\int_{-\\frac{T}{2}}^{\\frac{T}{2}} | x(t)|^2 dt \\\\\n",
        "\\text{이산신호:} E = \\lim_{N \\rightarrow \\infty} \\sum_{n=-N}^{N} | x[n]|^2\n",
        "$$\n",
        "\n",
        "- 신호의 전력  \n",
        "  - 신호의 평균 에너지\n",
        "$$\n",
        "\\text{연속신호:} P = \\lim_{T \\rightarrow \\infty} \\frac{1}{T} \\int_{-\\frac{T}{2}}^{\\frac{T}{2}} | x(t)|^2 dt \\\\\n",
        "\\text{이산신호:} P = \\lim_{N \\rightarrow \\infty} \\frac{1}{2N+1} \\sum_{n=-N}^{N} |x[n]|^2\n",
        "$$\n",
        "  - 신호의 실효값  \n",
        "   에너지 관점에서 실제 효과는 변함없도록 정의된 전 구간에 불변인 신호의 대푯값  \n",
        "$$\n",
        "\\text{연속신호:} \\; x_{rms} = \\left ( \\lim_{T \\rightarrow \\infty} \\frac{1}{T}  \\int_{-\\frac{T}{2}}^{\\frac{T}{2}} | x(t)|^2 dt \\right )^{\\frac{1}{2}} \\\\\n",
        "\\text{이산신호:} \\; x_{rms} = \\left ( \\lim_{N \\rightarrow \\infty} \\frac{1}{2N+1} \\sum_{n=-N}^{N} |x[n]|^2 \\right)^{\\frac{1}{2}}\n",
        "$$\n",
        "  - 데시벨(`decibell`)  \n",
        "   신호의 상대적인 크기를 나타내는 데 사용되는 단위  \n",
        "   전력비에 대해서는 $10\\log_{10}$, 크기(이득)비에 대해서는 $20\\log_{10}$를 취함\n",
        "\n",
        "$$\n",
        "10\\log_{10} \\frac{P_o}{P_i} = 10\\log_{10} \\frac{ |x_o|^2}{|x_i|^2} = 20\\log_{10} \\frac{ |x_o|}{|x_i|} \\text{[dB]}\n",
        "$$"
      ],
      "metadata": {
        "id": "u_n5Qhve6AFD"
      }
    },
    {
      "cell_type": "markdown",
      "source": [
        "---\n",
        "## Q&A"
      ],
      "metadata": {
        "id": "J9S6y2tHgUO9"
      }
    },
    {
      "cell_type": "markdown",
      "source": [],
      "metadata": {
        "id": "J8JkVz9M5Rl9"
      }
    },
    {
      "cell_type": "code",
      "source": [
        "import numpy as np\n",
        "\n",
        "from bokeh.plotting import figure, show\n",
        "\n",
        "x = np.linspace(-6, 6, 500)\n",
        "y = 8*np.sin(x)*np.sinc(x)\n",
        "\n",
        "p = figure(width=800, height=300, title=\"\", tools=\"\",\n",
        "           toolbar_location=None, match_aspect=True)\n",
        "\n",
        "p.line(x, y, color=\"navy\", alpha=0.4, line_width=4)\n",
        "p.background_fill_color = \"#efefef\"\n",
        "p.xaxis.fixed_location = 0\n",
        "p.yaxis.fixed_location = 0\n",
        "\n",
        "show(p)"
      ],
      "metadata": {
        "id": "E-Eu7eFz67h3"
      },
      "execution_count": null,
      "outputs": []
    },
    {
      "cell_type": "code",
      "source": [
        " plt.show(p)"
      ],
      "metadata": {
        "id": "UVWFi4xS7AE2"
      },
      "execution_count": null,
      "outputs": []
    }
  ]
}