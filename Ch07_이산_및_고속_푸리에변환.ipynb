{
  "nbformat": 4,
  "nbformat_minor": 0,
  "metadata": {
    "colab": {
      "provenance": [],
      "toc_visible": true,
      "authorship_tag": "ABX9TyP04HTXole8kBapT+TpkMo6",
      "include_colab_link": true
    },
    "kernelspec": {
      "name": "python3",
      "display_name": "Python 3"
    },
    "language_info": {
      "name": "python"
    }
  },
  "cells": [
    {
      "cell_type": "markdown",
      "metadata": {
        "id": "view-in-github",
        "colab_type": "text"
      },
      "source": [
        "<a href=\"https://colab.research.google.com/github/jwlee95/DSP_Class2024/blob/main/Ch07_%EC%9D%B4%EC%82%B0_%EB%B0%8F_%EA%B3%A0%EC%86%8D_%ED%91%B8%EB%A6%AC%EC%97%90%EB%B3%80%ED%99%98.ipynb\" target=\"_parent\"><img src=\"https://colab.research.google.com/assets/colab-badge.svg\" alt=\"Open In Colab\"/></a>"
      ]
    },
    {
      "cell_type": "markdown",
      "source": [
        "# `CHAPTER 07` : 이산 및 고속 푸리에 변환 (`Discrete Fourier Transform and Fast Fourier Transform`)"
      ],
      "metadata": {
        "id": "CSQMde7u6sd6"
      }
    },
    {
      "cell_type": "markdown",
      "source": [
        "##  7.1 이산 푸리에 변환(DFT)"
      ],
      "metadata": {
        "id": "mGSab60e65HJ"
      }
    },
    {
      "cell_type": "markdown",
      "source": [
        "### 이산 푸리에 변환의 정의\n",
        "\n",
        "- 이산시간 푸리에 변환(DTFT)의 한계  \n",
        "  - DTFT는 신호 모델링과 시스템 디자인에 큰 통찰력을 제공  \n",
        "   → but 실제적인 데이터 분석에 직접적으로 적용할 수 없음\n",
        "  \n",
        "  - DTFT는 신호 $x[n]$을 $-\\infty \\le n \\le \\infty$에 대하여 알고 있다고 가정  \n",
        "   → 실제는 대부분 유한개 데이터 그것도 적은 수의 데이터에 대한 작업\n",
        "  \n",
        "  - 신호 $x[n]$ 은 이산이지만 스펙트럼 $X(\\Omega)$는 주파수 $\\Omega$ 에 대한 연속 함수  \n",
        "   → 디지털 컴퓨터를 사용한 수치적 계산 불가  \n",
        "\n",
        "  ⇒ 유한개 데이터로부터 계산 가능 & 유한개 이산 주파수 스펙트럼을 만드는 푸리에 변환의 근사화 필요 → 이산 푸리에 변환\n",
        "\n",
        "\n",
        "- 이산 푸리에 변환 (DFT )의 바탕 개념  \n",
        "  - 디지털시스템 이용한 신호처리 → 신호와 스펙트럼 모두 이산이어야 함  \n",
        "   → 이 전제가 충족되지 않을 경우 샘플링으로 해결  \n",
        "\n",
        "  - 이산 신호의 경우 주파수 영역에서만 이산 스펙트럼이 되면 됨  \n",
        "   → 이산 주기 신호는 만족   \n",
        "     이산 비주기 신호는 불만족 → 스펙트럼을 M개로 샘플링하면 됨\n",
        "  \n",
        "  - M개의 이산 스펙트럼은 시간 영역에서 주기 M인 주기 신호에 대응됨  \n",
        "    ∴ 구해진 푸리에 표현은 결과적으로 DTFS와 같음\n",
        "\n",
        "  ※ **DTFS : 이산 주기 신호를 푸리에 변환한 결과 이산 주기 스펙트럼이 됨**  \n",
        "    **DFT : 연속 스펙트럼을 샘플링하여 이산 스펙트럼을 얻음**  \n",
        "     → **그 결과로 이에 대응되는 시간 신호가 이산 주기 신호가 됨**\n",
        "\n",
        "\n",
        "\n"
      ],
      "metadata": {
        "id": "X9MKksh467CY"
      }
    },
    {
      "cell_type": "markdown",
      "source": [
        "---\n",
        "- 이산 푸리에 변환(DFT)의 도출   \n",
        "  - $N$ 샘플 이산 신호 $x[n]$($0 \\le n \\le N-1$로 가정)의 DTFT는\n",
        "$$ X(\\Omega) =  \\mathfrak{F} \\{ x[n] \\} = \\sum_{n=0}^{N-1} x[n] e^{-j\\Omega n}\n",
        "$$\n",
        "  $X(\\Omega)$를 $M$개의 샘플로 샘플링하면\n",
        "$$ X_M (\\Omega) = X(k\\Delta \\Omega) = \\sum_{n=0}^{N-1} x[n] e^{-j \\frac{2\\pi}{M} n}\n",
        "$$\n",
        "  - 결과적으로 𝑵개의 신호 데이터 $x[n]$ ⇔ $M$개의 샘플 스펙트럼 $X[k]$\n",
        "\n",
        "- 이산 푸리에 변환(DFT)의 도출\n",
        "\n",
        "  - $X[k]$로부터 $x[n]$을 제대로 복원하기 위해서는 $M \\ge N$   \n",
        "    (∵ $M \\lt N$ 이면 $X_M (\\Omega)$을 역변환한 주기 신호 $X_M [n]$의 파형 중첩됨)  \n",
        "    → 주기 신호에 대한 DTFS와 같이 취급하려면 $M=N$    \n",
        "    이 경우 미지수 $N$개, 방정식 $N$ 개 연립 방정식을 푸는 문제와 동일\n",
        "\n",
        "<img src='https://drive.google.com/uc?export=download&id=1Q7_lVH57aOvKxxELuDfm7iZMA1glgDun' width=\"700\" height =\"\" /><br>    \n",
        "[2판] [7-2] 스펙트럼의 샘플링에 의한 신호의 주기적 반복효과\n"
      ],
      "metadata": {
        "id": "nvJHGTAh8kPv"
      }
    },
    {
      "cell_type": "markdown",
      "source": [
        "---\n",
        "\n",
        "- 이산 푸리에 변환(DFT) 쌍  \n",
        "  - DFT  :  \n",
        "$$  X[k] = \\sum_{n=0}^{N-1} x[n] W_N^{kn} , \\;\\; k=0,1,\\dots , N-1\n",
        "$$\n",
        "  - IDFT :  \n",
        "$$ x[n] = \\frac{1}{N} \\sum_{k=0}^{N-1} X[k] W_N^{-kn} , \\;\\; n=0,1,\\dots , N-1\n",
        "$$\n",
        "  $W_N = e^{-j2\\pi / N}$: `twiddle factor(회전 인자)`  \n",
        "\n",
        "\n",
        "$$ x[n] = \\frac{1}{N} \\sum_{k=0}^{N-1} \\left[ \\sum_{m=0}^{N-1} x[m] W_N^{km} \\right] W_N^{-kn} =\n",
        "\\frac{1}{N} \\sum_{m=0}^{N-1} x[m] \\left(  \\sum_{k=0}^{N-1} W_N^{k(m-n)} \\right)\n",
        "$$  \n",
        "\n",
        "  - 그런데,   \n",
        "$$ \\sum_{k=0}^{N-1} W_N^{k(m-n)} = \\left\\{\\begin{matrix}\n",
        "\\frac{1 - W_N^{(m-n)N}}{1 - W_N^{m-n}} = 0, \\;\\;m \\ne n  \\\\\n",
        "N, \\;\\; m = n\n",
        "\\end{matrix}\\right.\n",
        "$$  \n",
        "  이므로    \n",
        "$$ x[n] = \\frac{1}{N} x[n] N = x[n]\n",
        "$$  \n",
        "   - $N$ 샘플 비주기 신호의 연속 스펙트럼을 등간격으로 $N$ 샘플을 취한 것   \n",
        "   - $N$ 샘플 비주기 신호를 $N$-주기 신호의 한 주기 신호로 취급  \n",
        "  → DTFS와 유사  \n",
        "   - DTFS : $\\frac{1}{N}$이 분석식, 즉 푸리에 계수 계산식에 붙음  \n",
        "   - DFT : $\\frac{1}{N}$이 합성식, 즉 역 DFT 식에 붙음            \n",
        "     (∵ $X(\\Omega)$ 의 샘플링 개념으로 유도)\n"
      ],
      "metadata": {
        "id": "1EUvtS-O_K21"
      }
    },
    {
      "cell_type": "markdown",
      "source": [
        "---\n",
        "- DFT와  $z$ 변환의 관계\n",
        "  - DFT는 $z$ 평면 단위원 위에 등간격으로 위치한 $N$개의 점에서 $z$ 변환의 값을 구한 것\n",
        "$$\\begin{align}\n",
        "X[k] &= \\sum_{n=0}^{N-1} x[n] e^{-j\\frac{2\\pi}{N} kn} = \\sum_{n=-\\infty}^{\\infty} x[n] \\left( e^{ j\\frac{2\\pi}{N} k} \\right)^{-n} \\\\\n",
        "&= \\sum_{n=-\\infty}^{\\infty} x[n] z^{-n} \\Big|_{z=e^{j\\frac{2\\pi}{N} k}}  \n",
        "= X(z) \\Big|_{z=e^{j\\frac{2\\pi}{N} k}}\n",
        "\\end{align}\n",
        "$$\n"
      ],
      "metadata": {
        "id": "Pk3CD5LLDPTx"
      }
    },
    {
      "cell_type": "markdown",
      "source": [
        "---\n",
        "### 회전 인자 (`Twiddle factor`)\n",
        "\n",
        "- 회전 인자 $W_N^{kn}$     (  $W_N = e^{-j2\\pi / N}$ )\n",
        "  - 복소평면 단위원을 $N$등분한 점 → $W_N$이 곱해질 때마다 시계방향 회전  \n",
        "  - 회전인자 $W_N^{kn}$은 주기 $N$ 인 주기 함수\n",
        "$$ W_N^{kn+N} = W_N^{kn}\n",
        "$$  \n",
        "  - $N$이 정해지면 데이터와 상관없이 $W_N^{kn}$값들을 미리 계산 가능  \n",
        "  \n",
        "<img src='https://drive.google.com/uc?export=download&id=1QAsNTTvFuT4L8W7Z4N_5doim_WKoFi4h' width=\"400\" height =\"\" /><br>"
      ],
      "metadata": {
        "id": "2fB6yJduCT-W"
      }
    },
    {
      "cell_type": "markdown",
      "source": [
        "[2ed] 예제 7-1 : 유한구간 신호의 DFT"
      ],
      "metadata": {
        "id": "lbpRlHlStUML"
      }
    },
    {
      "cell_type": "markdown",
      "source": [
        "---\n",
        "\n",
        "### DFT를 이용한 신호 처리\n",
        "\n",
        "- DFT를 이용한 신호 처리  \n",
        "\n",
        "<img src='https://drive.google.com/uc?export=download&id=1QCTx78An4M5mfw4zT8z-TS33VVQVQO1a' width=\"700\" height =\"\" /><br>  \n",
        "\n",
        "<img src='https://drive.google.com/uc?export=download&id=1QDqlb4nyikLCTpmtgpHODLpzw_wgcGqM' width=\"700\" height =\"\" /><br>  \n",
        "\n",
        ">※ 신호의 길이를 유한하게 제한하면 반드시 스펙트럼의 중첩 발생  \n",
        "   - $N$을 충분히 크게 잡아서 스펙트럼이 중첩되는 부분이 작게  \n",
        "    → but 계산량 부담\n",
        "   - 신호 왜곡이 작도록 자른 뒤 0 데이터를 추가  \n",
        "    → 신호 반복 주기에 완충지대 확보\n"
      ],
      "metadata": {
        "id": "oETm-ZDyJgcS"
      }
    },
    {
      "cell_type": "markdown",
      "source": [
        "---  \n",
        "\n",
        "<img src='https://drive.google.com/uc?export=download&id=1QFmlAkzsx5Q8zhkL0QMIkOxuUKwuMXoO' width=\"600\" height =\"\" /><br>  \n",
        "\n",
        "\n",
        "<img src='https://drive.google.com/uc?export=download&id=1QEVYueW7wgqo4jGx0aOkQqYeTd4qTxE2' width=\"600\" height =\"\" /><br>  \n",
        "\n",
        "---"
      ],
      "metadata": {
        "id": "Io9Gs5khKqLf"
      }
    },
    {
      "cell_type": "markdown",
      "source": [
        "## 7.2 이산 푸리에 변환의 특성"
      ],
      "metadata": {
        "id": "2EDjGMxoLL8O"
      }
    },
    {
      "cell_type": "markdown",
      "source": [
        "### DFT의 기본 성질\n",
        "\n",
        "- DFT의 기본 성질 : DTFS 및 DTFT와 매우 비슷함  \n",
        "\n",
        " <img src='https://drive.google.com/uc?export=download&id=1QGOf07f-SG6tLRSNcT3wbIuYpqgP4GYb' width=\"700\" height =\"\" /><br>  \n",
        "\n",
        " ---"
      ],
      "metadata": {
        "id": "zthbVtFELXpi"
      }
    },
    {
      "cell_type": "markdown",
      "source": [
        "### 동일 구조에 의한 IDFT의 계산\n",
        "\n",
        "- 동일 구조에 의한 IDFT의 계산  \n",
        "  - $X[k]$과 $x[n]$ 계산에 동일한 알고리즘을 사용하기 위한 변형 가능함\n",
        "  - 복소수 계산의 성질 $(a+b)^* = a^* + b^* , (ab)^* = a^* b^*$을 적용하면   \n",
        "$$ x^* [n] = \\left( \\frac{1}{N} \\sum_{k=0}^{N-1} X[k] W_N^{-kn} \\right)^*\n",
        "= \\frac{1}{N} \\sum_{k=0}^{N-1} X^* [k] W_N^{kn}  \\\\\n",
        "x[n] = (x^* [n])^* = \\frac{1}{N} \\left(  \\sum_{k=0}^{N-1} X^* [k] W_N^{kn} \\right)^*\n",
        "$$                \n",
        "  → $x[n]$ 대신 $X[k]$가 입력인 점을 제외하고는 DFT 알고리즘과 동일\n"
      ],
      "metadata": {
        "id": "AZcExoZZLye8"
      }
    },
    {
      "cell_type": "markdown",
      "source": [
        "- 변형 IDFT 알고리즘   \n",
        " <img src='https://drive.google.com/uc?export=download&id=1QI6splm3cXXWXMWGfPxArSfSvDtKFDHl' width=\"700\" height =\"\" /><br>"
      ],
      "metadata": {
        "id": "u_JisPEyNRgN"
      }
    },
    {
      "cell_type": "markdown",
      "source": [
        "---\n",
        "<img src='https://drive.google.com/uc?export=download&id=1QL6oKE2FQUMikDedVv_mV55082Us1W96' width=\"700\" height =\"\" /><br>  \n",
        "\n",
        "\n",
        "<img src='https://drive.google.com/uc?export=download&id=1QKhbTgvfocNlBBTeMqVvpzcZpefwA1MD' width=\"600\" height =\"\" /><br>\n",
        "\n",
        "---\n",
        "\n",
        "\n",
        "\n",
        "\n"
      ],
      "metadata": {
        "id": "aXSM-GPyNk-F"
      }
    },
    {
      "cell_type": "markdown",
      "source": [
        "### DFT의 해상도와 영-채우기 (`zero padding`)\n",
        "\n",
        "- 영-채우기(`zero padding`)와 해상도  \n",
        "  - DFT의 울타리 효과(`picket fence effect`) → 스펙트럼 샘플의 간격이 넓으면 문제됨  \n",
        "  - DFT에 의한 스펙트럼 해상도 → $x[n]$의 샘플 수에 의존\n",
        "$$ \\Delta \\Omega = \\frac{2\\pi}{N} \\text{ or } \\Delta F = \\frac{1}{N}\n",
        "$$\n",
        "  - 더 높은 주파수 해상도가 요구되면 더 많은 데이터 샘플을 사용해야 함\n",
        "\n",
        "\n",
        "- 영-채우기(`zero padding`)와 해상도  \n",
        "  - $N_1$개의 유효 데이터 but 주파수 영역에서 $N_2$ 샘플이 요구될 경우  \n",
        "    (요구되는 주파수 해상도 $\\Delta \\Omega = \\frac{2\\pi}{N_2}$  )  \n",
        "   → 강제로 데이터 샘플 수를 증가시켜야 함 → $N_2 - N_1$개의 0을 첨가  \n",
        "    ( ∵ 데이터 수는 증가시키되 스펙트럼 형태 변화는 생기지 않도록 )\n",
        "\n",
        "  - **영 채우기에 의한 해상도 증가는 스펙트럼 정확도를 증가시키지 않음**      \n",
        "   → 관찰의 정확성은 신호의 유효 샘플 수 $N_1$을 더 늘려야 함  \n",
        "    ∵ 유효 샘플 수 $N_1$의 증가 → 해상도 향상 and 주파수 중첩 감소\n"
      ],
      "metadata": {
        "id": "61MFDOfSOHGk"
      }
    },
    {
      "cell_type": "markdown",
      "source": [
        "---  \n",
        "### DFT의 길이 $N$의 선정\n",
        "\n",
        "- DFT의 길이 $N$의 선정  \n",
        "  - 연속신호(지속시간 )를 간격 로 샘플링시 주파수중첩 피하기 위한 조건  \n",
        "$$ f_s = \\frac{1}{T} \\ge 2f_b\n",
        "$$\n",
        "  - DFT에 의해 얻어진 샘플 스펙트럼의 샘플간 간격(해상도)\n",
        "$$ \\Delta f = \\frac{\\text{한 주기 구간에 해당하는 주파수}}{\\text{샘플 개수}} = \\frac{f_s}{N} = \\frac{1}{NT}\n",
        "$$\n",
        "  - 샘플 스펙트럼을 IDFT한 이산 신호의 파형 중첩 없을 조건 : $NT \\ge t_s$  \n",
        "  - 시간 및 주파수 영역 양쪽에서 중첩 피하려면  \n",
        "$$ N \\ge 2 t_s f_b\n",
        "$$  \n",
        "  ⇒ ***$N$은 최소한 시간-대역폭 곱의 두 배 이상은 되어야 함***\n"
      ],
      "metadata": {
        "id": "nB-96VHnPjPH"
      }
    },
    {
      "cell_type": "markdown",
      "source": [
        "---  \n",
        "<img src='https://drive.google.com/uc?export=download&id=1QLUCvjtm0gfSWAwq0WfpftTRhrqk7gUb' width=\"700\" height =\"\" /><br>\n",
        "\n",
        "---"
      ],
      "metadata": {
        "id": "9GAChKUDRauH"
      }
    },
    {
      "cell_type": "markdown",
      "source": [
        "## 7.3 원형 컨벌루션"
      ],
      "metadata": {
        "id": "xBuC9sLyRfbK"
      }
    },
    {
      "cell_type": "markdown",
      "source": [
        "### 원형 컨벌루션\n",
        "\n",
        "- 원형 컨벌루션(주기 컨벌루션)의 개념  \n",
        "  - DFT : 시간 영역의 관점에서는 주기 신호에 대한 변환으로 해석 가능  \n",
        "\n",
        "  - 주기 신호들의 선형 컨벌루션 → 그 컨벌루션 결과가 수렴하지 않음\n",
        "\n",
        "  - $N$-주기 신호 2개의 컨벌루션 → 결과가 $N$스텝마다 주기적으로 반복  \n",
        "   ∴ 신호의 1주기 값을 이용한 컨벌루션 정의 가능  → 원형 컨벌루션\n",
        "\n",
        "- 원형 컨벌루션  \n",
        "  - 같은 길이의 주기 신호의 한 주기에 대한 컨벌루션  \n",
        "  \n",
        "  - 컨벌루션 : $x[n]$을 고정,$h[n]$을 뒤집어 이동시키며 계산 수행함  \n",
        "   → $N$번 이동 후 처음과 같은 상황 ⇒ $N$-주기적 → ∴ 주기 컨벌루션\n",
        "  \n",
        "  - 신호는 주기적으로 반복된다고 보고 곱한 값을 더하는 계산만 한 주기 구간에서 수행\n",
        "$$y[n] = \\sum_{m=0}^{N-1} x[m] h[n-m] = x[n] \\circledast h[n]\n",
        "$$\n",
        "  - ***원형 컨벌루션은 두 데이터의 크기가 같아야만 수행 가능***\n"
      ],
      "metadata": {
        "id": "YDmcJk_LRpMJ"
      }
    },
    {
      "cell_type": "markdown",
      "source": [
        "---\n",
        "\n",
        "- 원형 컨벌루션의 도해적 이해  \n",
        "  - $N$-주기 신호 : $N$샘플을 원 위에 등간격으로 배치하여 한 점씩 회전시킨 것과 같음\n",
        "\n",
        "<img src='https://drive.google.com/uc?export=download&id=1QMgZk3P5Y9ygLsVncGDkF2hXHckQRmdW' width=\"400\" height =\"\" /><br>\n",
        "\n"
      ],
      "metadata": {
        "id": "cT11Kx-wSyBa"
      }
    },
    {
      "cell_type": "markdown",
      "source": [
        "---\n",
        "- $N$-주기 신호 $x[n]$과 $h[n]$의 컨벌루션  \n",
        "\n",
        "<img src='https://drive.google.com/uc?export=download&id=1QPQB4VIigUGwaEh3AC1IGvVanDOzZbUg' width=\"650\" height =\"\" /><br>  \n",
        "\n",
        "- 원형 컨벌루션과 선형 컨벌루션의 관계\n",
        "\n",
        "  - 원형 컨벌루션 결과 $\\ne$ 선형 컨벌루션 결과  \n",
        "  \n",
        "  - 각각 $N$ 샘플을 갖는 두 수열의 원형 컨벌루션 결과 → $N$샘플 수열  \n",
        "  \n",
        "  - $N_1$샘플과 $N_2$샘플 수열의 선형 컨벌루션 → $( N_1 + N_2 -1 )$ 샘플 수열\n",
        "\n",
        "- 원형 컨벌루션과 DFT의 관계  \n",
        "  - 원형 컨벌루션과 신호의 DFT 간에는 시간 컨벌루션 성질 성립\n",
        "$$ y[n] = x[n] \\circledast h[n] \\Leftrightarrow Y[k]=X[k]H[k]\n",
        "$$  \n",
        "\n",
        "   → 원형 컨벌루션은 DFT를 이용한 신호와 시스템의 취급에 적합  \n",
        "   → 원형 컨벌루션의 효율적 계산  \n",
        "   $x[n], h[n]$의 DFT 수행  → $Y[k]=X[k]H[k]$ 계산  → IDFT 수행 $y[n]$\n",
        "\n",
        "\n"
      ],
      "metadata": {
        "id": "QX8hdgDoTRR8"
      }
    },
    {
      "cell_type": "markdown",
      "source": [
        "---\n",
        " <img src='https://drive.google.com/uc?export=download&id=1QPuVF9BV5SM_12RpUo3k7BQHZ2A1lqat' width=\"700\" height =\"\" /><br>  \n",
        "\n",
        " ---"
      ],
      "metadata": {
        "id": "Llh10CdfTtIw"
      }
    },
    {
      "cell_type": "markdown",
      "source": [
        "### 원형 컨벌루션에 의한 선형 컨벌루션 계산\n",
        "\n",
        "- 원형 컨벌루션을 이용한 선형 컨벌루션 계산  \n",
        "  - $N_1$ 샘플 & $N_2$ 샘플 수열의 선형 컨벌루션을 원형 컨벌루션 이용해 계산  \n",
        "    \n",
        "  → 결과가 ($N_1 + N_2 + 1$)샘플이므로 컨벌루션될 수열도 ($N_1 + N_2 - 1$) 샘플  \n",
        "    ∴ 모자라는 만큼(각각 $N_2 -1, N_1 - 1$개) 영 채우기를 해야 함.  \n",
        "\n",
        "<img src='https://drive.google.com/uc?export=download&id=1QQbK3n2AmlRWYjDwjdkZv3_cWol5XThM' width=\"700\" height =\"\" /><br>\n",
        "\n",
        "\n"
      ],
      "metadata": {
        "id": "J3mi_4amVZfo"
      }
    },
    {
      "cell_type": "markdown",
      "source": [
        "---  \n",
        "### DFT를 이용한 선형 컨벌루션 계산\n",
        "\n",
        "- DFT를 이용한 선형 컨벌루션 계산  \n",
        "  - 입/출력 데이터 길이를 일치시키면 DFT쌍을 이용하여 원형 컨벌루션 계산을 수행해서 선형 컨벌루션 계산 가능함  \n",
        "  - 길이 ($N_1 + N_2 -1$) 이 되도록 영 채우기한 다음 DFT & IDFT  \n",
        "\n",
        "<img src='https://drive.google.com/uc?export=download&id=1QSSXFvYUVx84lyY53K1gcug_Wc0ZQ9Y0' width=\"700\" height =\"\" /><br>\n",
        "\n",
        "\n"
      ],
      "metadata": {
        "id": "acq_1fbAWb17"
      }
    },
    {
      "cell_type": "markdown",
      "source": [
        "---  \n",
        "\n",
        "### 원형 컨벌루션을 이용한 긴 데이터의 컨벌루션\n",
        "\n",
        "- 원형 컨벌루션을 이용한 긴 데이터의 (선형) 컨벌루션 계산  \n",
        " - 시스템의 입출력 관계  →  선형 컨벌루션  \n",
        "   → 장시간 동작시 입력 신호가 매우 길어서 바로 원형 컨벌루션 곤란\n",
        "  \n",
        "  - 입력신호를 적당한 크기의 구간으로 나누어 N-샘플 원형컨벌루션 수행\n",
        "  \n",
        "  -  $n_0$순간의 입력값 $x[n_0 ]$은 임펄스 응답 $h[n]$의 지속시간만큼 출력에 영향을 미침  \n",
        "   → $h[n]$이 $M$ 샘플이면 입력값 $x[n_0 ]$은 $n_0 +M-1$ 까지의 출력에 기여함\n",
        "  \n",
        " ∴ 임펄스 응답의 지속시간에 의한 영향을 어떻게 고려하느냐가 관건  \n",
        "   → 중복-더하기 방법 : 계산 후에 반영  \n",
        "   → 중복-저장 방법 : 계산 전에 반영\n"
      ],
      "metadata": {
        "id": "sCpB542MWTk8"
      }
    },
    {
      "cell_type": "markdown",
      "source": [
        "---  \n",
        "\n",
        "- 중복-더하기 방법  \n",
        " - 입력을 중복 없이 길이 로 나누어 블록별로 원형 컨벌루션 수행 & 각각의 결과를 더함  \n",
        "  ∵ 지금 구간의 입력에 의한 다음 구간 출력에의 기여분이 다음 구간 입력과 임펄스 응답의 원형 컨벌루션에는 포함되어 있지 않기 때문  \n",
        "\n",
        "<img src='https://drive.google.com/uc?export=download&id=1QTDc3izgMA4j7LZsODjxpsCXXqROG7M3' width=\"600\" height =\"\" /><br>\n",
        "\n"
      ],
      "metadata": {
        "id": "5abQ_ldjXuI7"
      }
    },
    {
      "cell_type": "markdown",
      "source": [
        "- 중복-더하기 방법  \n",
        "  - 1) $h[n]$에 $L-1=N-M$개의 영점 채우기  \n",
        "$$ h_a [n] = \\left\\{\\begin{matrix}\n",
        "h[n], \\;\\; 0 \\le n \\le M-1 \\\\\n",
        "0, \\;\\;\\; M \\le n \\ N-1\n",
        "\\end{matrix}\\right.\n",
        "$$\n",
        "  - 2) $x[n]$을 중복 없이 길이 $L$로 나누어 각각에 $M-1$개 영점 채우기 시행  \n",
        "$$ x_i [n] = \\left\\{\\begin{matrix}\n",
        "x[n], \\;\\; iL \\le n \\le iL+L-1 \\\\\n",
        "0, \\;\\;\\; iL+L \\le n \\ iL+N-1\n",
        "\\end{matrix}\\right.\n",
        "$$\n",
        "  - 3) DFT와 IDFT를 이용하여 $N$-샘플 원형 컨볼루션 수행      \n",
        "$$ y_i [n] = x_i [n] \\circledast h_a [n], \\;\\;\\; iL \\le n \\le iL+N-1\n",
        "$$  \n",
        "  - 4)각각의 원현 컨볼루션 수행 결과를 그대로 더함.  \n",
        "$$ y [n] = x[n] \\circledast h [n] = \\sum_{i=0}^{\\infty} y_i [n]\n",
        "$$  \n",
        " $\\Rightarrow iL+L \\le n \\ iL+N-1$ 구간에서는 $y_i [n]$과 $y_{i+1} [n]$의 중복이 생김.    \n",
        "   → $y_i[n] : x[n], \\;\\; iL \\le n \\le iL+L-1 $ (과거 입력)에 의한 응답 성분  \n",
        "   → $y_{i+1}[n] : x[n], \\;\\; iL+L \\le n \\le iL+N-1$ (현재 입력)에 의한 응답 성분  \n",
        "\n",
        "<img src='https://drive.google.com/uc?export=download&id=1QZyNDrh8SZKvf9iHgHiLLWINVcaOJk7j' width=\"600\" height =\"\" /><br>\n",
        "\n",
        "\n",
        "<img src='https://drive.google.com/uc?export=download&id=1QWioOJx8Fix3_FVYwCRnBkzZY2FztD1T' width=\"600\" height =\"\" /><br>  \n",
        "\n",
        "---\n",
        "\n"
      ],
      "metadata": {
        "id": "SRbqKpKAYIfG"
      }
    },
    {
      "cell_type": "markdown",
      "source": [
        "- 중복-저장 방법  \n",
        " - 입력을 임펄스 응답의 지속시간만큼 중복되도록 길이 $N=L+M-1$ 으로 나누어 블록별로 원형 컨벌루션을 수행  \n",
        "  → 각각의 결과에서 앞의  샘플을 버린 뒤 더함\n",
        "      \n",
        " ∵ 앞부분의 중복되는 $M-1$ 입력 샘플 구간의 원형 컨벌루션 결과는 과거 입력의 영향이 반영되지 않은 불완전한 출력이기 때문\n",
        "\n",
        "  - 1) $h[n]$에 $L-1=N-M$개의 영점 채우기 시행  \n",
        "$$ h_a [n] = \\left\\{\\begin{matrix}\n",
        "h[n], \\;\\; 0 \\le n \\le M-1 \\\\\n",
        "0, \\;\\;\\; M \\le n \\ N-1\n",
        "\\end{matrix}\\right.\n",
        "$$  \n",
        "  - 2) $x[n]$을 $M-1$샘플씩 중복되게 길이 $N$으로 나눔  \n",
        "  →  첫 블록은 중복 샘플 없으므로 맨 앞부분에 $M-1$개의 영점을 채움  \n",
        "$$  x_0 [n] = \\left\\{\\begin{matrix}\n",
        "0, \\;\\; -M+1 \\le n \\le -1 \\\\\n",
        "x[n], \\;\\;\\; 0 \\le n \\ L-1 \\\\\n",
        "\\end{matrix}\\right. \\\\\n",
        "x_i [n] = x[n],  \\;\\; iL-M+1 \\le n \\le iL+L-1\n",
        "$$  \n",
        "  - 3) DFT와 IDFT를 이용하여 $N$-샘플 원형 컨볼루션 수행      \n",
        "$$ y_i [n] = x_i [n] \\circledast h_a [n], \\;\\;\\; iL-M+1 \\le n \\le iL+L-1\n",
        "$$  \n",
        "  - 4)각각의 원현 컨볼루션 수행 결과를 그대로 더함.  \n",
        "$$  \\bar{y_i} [n] = \\left\\{\\begin{matrix}\n",
        "0, \\;\\; iL-M+1 \\le n \\le iL-1 \\\\\n",
        "y_i [n], \\;\\;\\; iL \\le n \\ iL+L-1 \\\\\n",
        "\\end{matrix}\\right. \\\\\n",
        " y [n] = x[n] \\circledast h [n] = \\sum_{i=0}^{\\infty} \\bar{y_i} [n]\n",
        "$$  \n",
        " $\\Rightarrow iL-M+1 \\le n \\ iL-1$ 구간에서는 $y_{i-1} [n]$과 $y_i [n]$의 중복이 생김.    \n",
        "   → $y_{i-1}[n] : x[n], \\;\\; iL-2(M-1) \\le n \\le iL-1 $에 대한 응답 성분  \n",
        "     - 과거 입력의 영향이 완전히 반영된 출력     \n",
        "\n",
        "   → $y_i[n] : x[n], \\;\\; iL-M+1 \\le n \\le iL-1$ 에 의한 응답 성분  \n",
        "    - 입력 $x[n], iL-2(M-1) \\le n \\le iL-M$의 영향이 빠진 출력  \n",
        "\n",
        "    $\\Rightarrow y[n]$에서는 $M-1$샘플이 지나야 과거 입력 영향까지 완전히 반영됨.  \n",
        "    ∴ $y_i [n]$의 앞부분 $M-1$샘플을 버림    "
      ],
      "metadata": {
        "id": "6WTC0ZS0TOEQ"
      }
    },
    {
      "cell_type": "markdown",
      "source": [
        "<img src='https://drive.google.com/uc?export=download&id=1QilUpcmYmRLMVRENag22yswLqORHdhdM' width=\"600\" height =\"\" /><br>\n",
        "\n",
        "<img src='https://drive.google.com/uc?export=download&id=1QeKobVkkmM4PLrObeY2pVP9trMhDFnFS' width=\"600\" height =\"\" /><br>  \n",
        "\n",
        "---"
      ],
      "metadata": {
        "id": "_OiafGabYLMQ"
      }
    },
    {
      "cell_type": "markdown",
      "source": [
        "## 7.4 고속 푸리에 변환(FFT)"
      ],
      "metadata": {
        "id": "LbgOo-Y4bAGP"
      }
    },
    {
      "cell_type": "markdown",
      "source": [
        "### DFT의 계산\n",
        "\n",
        "- DFT의 계산  \n",
        "  - DFT계산은 $N$-샘플 $x[n] \\; \\leftrightarrow N$-샘플 $X[k]$간의 대수 방정식 계산 문제임.    \n",
        "$$ \\left\\{\\begin{align}\n",
        "DFT: X[k] &= \\sum_{n=0}^{N-1} x[n]W_N^{kn}, \\;\\;k=0,\\dots , N-1\\\\\n",
        "IDFT: x[n] &= \\frac{1}{N} \\sum_{k=0}^{N-1} X[k]W_N^{-kn}, \\;\\;k=0,\\dots , N-1\n",
        "\\end{align}\\right.\n",
        "$$  \n",
        "  - 직접계산시의 계산량(곱셈 `X`과 덧셈`+`의 수)  \n",
        "$$ X[k] = x[0]W_N^0 + x[1]W_N^k + x[2]W_N^{2k} + \\dots + x[N-1]W_N^{(N-1)k}\n",
        "$$  \n",
        "  → 각 $k$강 $N$번의 복소수 곱셈과 $N-1$번의 복소수 덧셈  \n",
        "  → 총 $N^2$번의 복소수 곱셈과 $N(N-1)$번의 복소수 덧셈  \n",
        "  → $N$이 커지면 계산량이 엄청 늘어남 $\\rightarrow$효과적인 계산 방법이 요구됨...  \n",
        "  \n",
        "  - $W_N^{kn}$은 $0 \\le kn \\le (N-1)^2$의 항 $\\rightarrow$ 실제로 $N$개의 서로 다른 값만 존재  \n",
        "  - DFT계산시 다음의 $W_N^{kn}$의 성질을 이용하면 계산량을 줄일 수 있음\n",
        "$$ \\left\\{\\begin{align}\n",
        "\\text{대칭성} &: W_N^{k(N-n)} = \\left( W_N^{kn} \\right)^*\\\\\n",
        "\\text{주기성} &: W_N^{kn} = W_N^{k(n+N)} =  W_N^{(k+N)n}\n",
        "\\end{align}\\right.\n",
        "$$   \n",
        "  → `Cooley & Tukey` 고속 푸리에 변화(Fast Fourier Transform: FFT)  \n",
        "\n",
        "\n",
        "\n",
        "\n"
      ],
      "metadata": {
        "id": "Ul-In1hRRXby"
      }
    },
    {
      "cell_type": "markdown",
      "source": [
        "---  \n",
        "\n",
        "- 고속 푸리에 변환(`FFT`)  \n",
        "  - DFT를 효과적으로 계산하기 위한 알고리즘  \n",
        "  - 주어진 신호를 여러 개의 길이가 짧은 신호로 분할하여 분할된 신호들의 DFT를 구한 후 그 결과들을 적절하게 결합하여 원래 주어진 신호의 DFT를 수행  \n",
        "\n",
        "- FFT의 원리 - 밑수 2 시분할(`decimation-in-time`) `FFT`  \n",
        "  - $N=2^q$인 경우 DFT계산을 $x[n]$의 짝수항과 홀수항으로 나누면    \n",
        "$$ \\begin{align}\n",
        "X[k] = \\sum_{n=0}^{N-1} x[n]W_N^{kn} &= \\sum_{n=even} x[n]W_N^{kn} + \\sum_{n=odd} x[n]W_N^{kn} \\\\  \n",
        "&= \\sum_{r=0}^{(N/2)-1} x[2r]W_N^{2rk} + \\sum_{r=0}^{(N/2)-1} x[2r+1]W_N^{(2r+1)k}  \\\\\n",
        "&=  \\sum_{r=0}^{(N/2)-1} g[r](W_N^2)^{rk} + W_N^k \\sum_{r=0}^{(N/2)-1} h[r](W_N^2)^{rk}\n",
        "\\end{align} \\\\\n",
        "$$  \n",
        "  여기서 $g[r] = x[2r], \\;h[r]=x[2x+1]$.   \n",
        "\n",
        "  - 그런데, $W_N^2 = \\left(  e^{-j \\frac{2\\pi}{N}} \\right)^2 = e^{-j \\frac{2\\pi}{N/2}} = W_{N/2}$이므로   \n",
        "$$ \\begin{align}\n",
        "X[k]  &= \\sum_{r=0}^{(N/2)-1} g[r] W_{N/2}^{rk} + W_N^k \\sum_{r=0}^{(N/2)-1} h[r] W_{N/2}^{rk} \\\\\n",
        "&= G[k] + W_N^kH[k]\n",
        "\\end{align}\n",
        "$$   \n",
        "  $G[k]$와 $H[k]$는 $\\frac{N}{2}$점 $DFT \\rightarrow k=0,1,\\dots , \\frac{N}{2}-1$까지의 $X[k]$만 계산 가능  \n",
        "  → $G[k]$와 $H[k]$가 $\\frac{N}{2}$-주기 함수임을 이용하여 해결  \n",
        "$$  X[k] = G[k] + W_N^kH[k], \\;\\;  k=0,1,\\dots , \\frac{N}{2}-1 \\\\\n",
        "\\begin{align}\n",
        "X[k+N/2]  &=  G[k+N/2] + W_N^{k+N/2}H[k+N/2] \\\\\n",
        "&= G[k] + W_N^{k+N/2}H[k], \\;\\; k=0,1,\\dots , \\frac{N}{2}-1\n",
        "\\end{align}\n",
        "$$  \n",
        "  → $N$-샘플 DFT문제는 두 개($G[k], H[k]$)의 $\\frac{N}{2}$-샘플 DFT문제로 바뀜  \n",
        "  → 계산량: $\\frac{N}{2}$점 DFT계산에 $\\left( \\frac{N}{2} \\right)^2$의 곱셈& 두 DFT 결합에 $N$의 곱셈   \n",
        "  ∴ 총 $\\left( \\frac{N^2}{2} \\right)+N$의 곱셈 필요 → 직접 계산($N^2$)에 비해 절반 수준\n"
      ],
      "metadata": {
        "id": "_zZmIYU0fLNu"
      }
    },
    {
      "cell_type": "markdown",
      "source": [
        "<img src='https://drive.google.com/uc?export=download&id=1QoiBd7_ROzZMzKXDYGgBN3RzNtv3yyRX' width=\"550\" height =\"\" /><br>"
      ],
      "metadata": {
        "id": "R7DpJX3hmS98"
      }
    },
    {
      "cell_type": "markdown",
      "source": [
        "-   \n",
        "  - 다시 $\\frac{N}{2}$-샘플 DFT를 $\\frac{N}{4}$-샘플 DFT로 분할하면  \n",
        "$$ G[k]  = \\sum_{l=0}^{(N/4)-1} x[4l] W_{N/4}^{lk} + W_{N/2}^k \\sum_{l=0}^{(N/4)-1} x[4l+2] W_{N/4}^{rk}  \\\\\n",
        "H[k]  = \\sum_{l=0}^{(N/4)-1} x[4l+1] W_{N/4}^{lk} + W_{N/2}^k \\sum_{l=0}^{(N/4)-1} x[4l+3] W_{N/4}^{rk}\n",
        "$$  \n",
        "  여기서, $W_{N/2} = W_N^2 \\;\\&\\; W_N^r = W_N^{mod\\; N}, \\; r \\ge N $임을 이용하면  \n",
        "  → $\\frac{N}{4}$-점 DFT계산에 $\\left( \\frac{N}{4} \\right)^2$의 곱셈 & 두 DFT 결합에 $\\frac{N}{2}$의 곱셈  \n",
        "  ∴ 총 $\\left( \\frac{N^2}{4} \\right)+N+N$의 곱셈 필요   \n",
        "  → 이를 계속해서 재분할하면 궁극적으로 2-샘플 DFT의 계산으로 됨  \n",
        "\n",
        "<img src='https://drive.google.com/uc?export=download&id=1QqGkwknIgGvkAp8IZiKShY_8LQ17Ho9u' width=\"500\" height =\"\" /><br>\n",
        "    "
      ],
      "metadata": {
        "id": "Ehy5VFsVl9-R"
      }
    },
    {
      "cell_type": "markdown",
      "source": [
        "-\n",
        "  - $N=2^q$를 2점 DFT로 분할하려면, $ log_2 N = q$의 분할 과정이 필요함  \n",
        "  → 계산량: $N$점 DFT → $\\frac{N}{2}$점 DFT → $\\frac{N}{4}$점 DFT → $\\cdots$ → 2점 DFT    \n",
        "\n",
        "$$ N^2 \\rightarrow N+2\\left( \\frac{N}{2} \\right)^2 \\rightarrow\n",
        "  N+N+4\\left( \\frac{N}{4} \\right)^2 \\;\\; \\rightarrow \\cdots \\rightarrow \\; N\\log_2 N\n",
        "$$\n",
        "\n",
        "> 예 $N=2^{10}=1024$이 경우  \n",
        "  - 직접 DFT 계산 : $N^2 = 1,048,576$의 곱셈   \n",
        "  - FFT 계산 : $N\\log_2 N = 10,248$의 곱셈\n",
        "\n",
        "\n",
        "\n",
        "\n",
        "\n"
      ],
      "metadata": {
        "id": "bqSlDHMbpAHV"
      }
    },
    {
      "cell_type": "markdown",
      "source": [
        "---  \n",
        "- FFT 버터플라이(butterfly) : FFT 선도의 기본 구조  \n",
        "  - $N(=2^q)$점 FFT : $q$ stage를 갖고 각 stage마다 $N$개씩의 입/출력  \n",
        "  - 각 stage의 기본적인 계산 형태는 `butterfly` 모양으로 이루어져 있음  \n",
        "  → 각 stage마다 $\\frac{N}{2}$개의 butterfly → 총 $q \\left( \\frac{N}{2}\\right)$개의 butterfly로 구성  \n",
        "\n",
        "<center>\n",
        "<img src='https://drive.google.com/uc?export=download&id=1Qr_1GtXhJeplpB2GesBRuBCVPEwED1Xf' width=\"\" height =\"\" /><br>"
      ],
      "metadata": {
        "id": "NFpn0XDKsBTU"
      }
    },
    {
      "cell_type": "markdown",
      "source": [
        "$$ \\left\\{ \\begin{matrix}\n",
        "  X_{m+1} [i]  = X_m [i]  + W_N^r X_m [j] \\\\\n",
        "  X_{m+1} [j]  = X_m [i]  + W_N^{r+N/2} X_m [j]\n",
        "\\end{matrix}\\right. \\rightarrow \\text{2번의 곱셈이 필요}\n",
        "$$  \n",
        "-  \n",
        "  - 여기서 $r$: stage 1→0, stage 2 →0,2, stage 3 → 0,1,2,3,$\\cdots$  \n",
        "  그런데,  \n",
        "  $$ W_N^{r+ \\frac{N}{2}} = W_N^r W_N^{\\frac{N}{2}} = -W_N^r \\;\\;\n",
        "  ( \\because W_N^{\\frac{N}{2}} = e^{-j \\frac{2\\pi}{N} \\frac{N}{2}} = -1)\n",
        "  $$이므로   \n",
        "$$ \\left\\{ \\begin{matrix}\n",
        "  X_{m+1} [p]  = X_m [p]  + W_N^r X_m [q] \\\\\n",
        "  X_{m+1} [q]  = X_m [p]  - W_N^r X_m [q]\n",
        "\\end{matrix}\\right. \\rightarrow W_N^r \\text{분리} \\rightarrow \\text{1번의 곱셈이 필요}\n",
        "$$  \n",
        "   → 개선된 butterfly 얻음 → 이 경우 계산량 $\\left(  \\frac{N}{2}\\right) \\log_2 N$   \n",
        "\n",
        "<center>\n",
        " <img src='https://drive.google.com/uc?export=download&id=1Qs4SzQfpF3IOhTjH5iy7kNNWlHlW32hu' width=\"\" height =\"\" /><br>  "
      ],
      "metadata": {
        "id": "zuywDxdprMXf"
      }
    },
    {
      "cell_type": "markdown",
      "source": [
        "---\n",
        "<center>\n",
        "<img src='https://drive.google.com/uc?export=download&id=1QuiliZdNMU4ucS42MGMRxmrpDbabS5mL' width=\"\" height =\"\" /><br>  \n",
        "\n",
        "\n",
        "---"
      ],
      "metadata": {
        "id": "10aamlRCumsJ"
      }
    },
    {
      "cell_type": "markdown",
      "source": [
        "### 역비트순 (bit-reversed order)"
      ],
      "metadata": {
        "id": "LM4FV94uxoC8"
      }
    },
    {
      "cell_type": "markdown",
      "source": [
        "- 역비트순 (bit-reversed order)  \n",
        "  - FFT 선도에서 입력의 나열이 순서적이지 않음 → 규칙성 존재?\n",
        "  - 시간 변수 $n$을 2진수로 바꾼 뒤, 비트 순서를 역으로 하여 다시 심진수로 표시  \n",
        "  → 입력 수열을 계속적으로 두 개의 반쪽 수열로 나누는 과정에서 비롯 됨   \n",
        "\n",
        "<center>\n",
        "<img src='https://drive.google.com/uc?export=download&id=1Qy9Ll6eu188n1ixAJLhAwATbNW4XePDZ' width=\"\" height =\"\" /><br>  \n",
        "\n",
        "\n",
        "<img src='https://drive.google.com/uc?export=download&id=1Qz099GSn1Fcfktce13AdtEzgtAHAndUU' width=\"\" height =\"\" /><br>  \n",
        "\n",
        "\n"
      ],
      "metadata": {
        "id": "QCczR2Flxw_m"
      }
    },
    {
      "cell_type": "markdown",
      "source": [
        "---\n",
        "- FFT의 변형  \n",
        "  - FFT 선도에서 node의 연결성만 확보되면 순서가 바뀌어더 결과는 동임.\n",
        "\n",
        "<center>\n",
        "<img src='https://drive.google.com/uc?export=download&id=1QzYe7opU4mRBRHtNsgEgCr1rg0Mn1qus' width=\"\" height =\"\" /><br>  \n",
        "\n",
        "---"
      ],
      "metadata": {
        "id": "pCVAuS8_yrdb"
      }
    },
    {
      "cell_type": "markdown",
      "source": [
        "### 밑수 2 주파수 분할 `FFT`\n",
        "\n",
        "- 주파수 분할 `FFT`  \n",
        "  - 시분할 FFT : 입력 $x[n]$을 작은 수열로 분할  \n",
        "  주파수 분할 FFT : 출력 $X[k]$를 작은 수열로 분할  \n",
        "  - 시분할 FFT와 쌍대적 관계  \n",
        "  → 시분할 FFT를 전치(입/출력 마디를 교환 & 화살표 방향을 반대)하여 얻을 수 있음.\n",
        "$$ \\begin{align}\n",
        "X[k]  &= \\sum_{n=0}^{(N/2)-1} x[n] W_N^{nk} + \\sum_{n=N/2}^{N-1} x[n] W_N^{nk} \\\\\n",
        "&= \\sum_{n=0}^{(N/2)-1} x[n] W_N^{nk} + W_N^{(N/2)k} \\sum_{n=0}^{(N/2)-1} x[n+\\frac{N}{2}] W_N^{nk}\n",
        "\\end{align}\n",
        "$$    \n",
        "  그런데, $W_N^{\\frac{N}{2}k} = e^{-j \\frac{2\\pi}{N} \\frac{N}{2}k} = (-1)^k$이므로  \n",
        "$$ X[k] = \\sum_{n=0}^{(N/2)-1} \\left[ x[n]  + (-1)^k x[n+\\frac{N}{2}]  \\right] W_N^{nk}\n",
        "$$  \n",
        "  $k$가 짝수와 홀수인 경우를 나누면, $W_N^{2rn} = W_{N/2}^{rn}$이므로  \n",
        "$$\\begin{align}\n",
        "X[2r] &= \\sum_{n=0}^{(N/2)-1} \\left[ x[n] + x[n+\\frac{N}{2}]  \\right] W_N^{2rn} \\\\\n",
        "&= \\sum_{n=N/2}^{(N/2)-1} g[n] W_{N/2}^{rn} \\\\\n",
        "X[2r+1] &= \\sum_{n=0}^{(N/2)-1} \\left[ x[n] - x[n+\\frac{N}{2}]  \\right] W_N^n W_N^{2rn} \\\\\n",
        "&= \\sum_{n=N/2}^{(N/2)-1} h[n] W_N^n W_{N/2}^{rn} \\\\\n",
        "\\end{align}\n",
        "$$  \n",
        "  위 식의 $x[n] + x[n+\\frac{N}{2}] $과 $\\left( x[n] - x[n+\\frac{N}{2}]  \\right) W_N^n$에 대한 $\\frac{N}{2}$점 DFT임  \n",
        "  → 같은 방법으로 2점 DFT될 때까지 분할 → 출력이 역 비트순임"
      ],
      "metadata": {
        "id": "4iH_blwezjdg"
      }
    },
    {
      "cell_type": "markdown",
      "source": [
        " <center>\n",
        " <img src='https://drive.google.com/uc?export=download&id=1R0NNnn6B3l5KXODgwPzspBt8NjOMBNhw' width=\"\" height =\"\" /><br>  \n",
        " </center>\n",
        "\n",
        "$$ \\left\\{ \\begin{align}\n",
        "  X_{m+1} [i]  &= X_m [i]  + X_m [j] \\\\\n",
        "  X_{m+1} [j]  &= ( X_m [i] - X_m [j]) W_N^r\n",
        "\\end{align}\\right.\n",
        "$$\n",
        "\n",
        "<center>\n",
        "<img src='https://drive.google.com/uc?export=download&id=1R0THrKN35B7zIr4J6J-cfm0LW-1ucW7p' width=\"\" height =\"\" /><br>  \n",
        "\n",
        "---"
      ],
      "metadata": {
        "id": "iGMXbEXh4b73"
      }
    },
    {
      "cell_type": "markdown",
      "source": [
        "<center>\n",
        "\n",
        "<img src='https://drive.google.com/uc?export=download&id=1R97ROflau7NVNdUwRX_jTTgN7WrfibLR' width=\"\" height =\"\" /><br>  \n",
        "\n",
        "<img src='https://drive.google.com/uc?export=download&id=1RCogP52uHlzIP9mJ9NnkXk6gKR1BR5UF' width=\"\" height =\"\" /><br>  \n",
        "\n",
        "---"
      ],
      "metadata": {
        "id": "xJMopSkx4u_4"
      }
    },
    {
      "cell_type": "markdown",
      "source": [
        "### Inverse FFT   \n",
        "\n",
        "- 역 FFT  \n",
        "  - DFT와 IDFT는 기본적으로 동일 구조  \n",
        "  → FFT선도를 역 FFT에도 활용 가능  \n",
        "$$ \\left\\{\\begin{align}\n",
        "DFT: X[k] &= \\sum_{n=0}^{N-1} x[n]W_N^{kn}, \\;\\;k=0,\\dots , N-1\\\\\n",
        "IDFT: x[n] &= \\frac{1}{N} \\sum_{k=0}^{N-1} X[k]W_N^{-kn}, \\;\\;k=0,\\dots , N-1\n",
        "\\end{align}\\right.\n",
        "$$  \n",
        "  - FFT선도에서 $x[n] \\Leftrightarrow X[k]$교환, $W_N \\Leftrightarrow W_N^{-1}$ 교환 및 $N$으로 나눔    "
      ],
      "metadata": {
        "id": "7Sgdaf7M6YY9"
      }
    },
    {
      "cell_type": "markdown",
      "source": [
        " <center>\n",
        " <img src='https://drive.google.com/uc?export=download&id=1RHZByMAF38-XH1PYpR8E0cKUHwWnUv3w' width=\"\" height =\"\" /><br>"
      ],
      "metadata": {
        "id": "stWJcckq7upl"
      }
    },
    {
      "cell_type": "markdown",
      "source": [
        "---\n",
        "## Q&A"
      ],
      "metadata": {
        "id": "C2B2LN1hnGzs"
      }
    }
  ]
}