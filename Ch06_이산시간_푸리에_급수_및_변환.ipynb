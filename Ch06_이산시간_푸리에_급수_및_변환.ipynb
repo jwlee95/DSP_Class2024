{
  "nbformat": 4,
  "nbformat_minor": 0,
  "metadata": {
    "colab": {
      "provenance": [],
      "toc_visible": true,
      "collapsed_sections": [
        "YxeZXZWGtN7P"
      ],
      "authorship_tag": "ABX9TyNPTXkep2j+H9WTdSGEFuZK",
      "include_colab_link": true
    },
    "kernelspec": {
      "name": "python3",
      "display_name": "Python 3"
    },
    "language_info": {
      "name": "python"
    }
  },
  "cells": [
    {
      "cell_type": "markdown",
      "metadata": {
        "id": "view-in-github",
        "colab_type": "text"
      },
      "source": [
        "<a href=\"https://colab.research.google.com/github/jwlee95/DSP_Class2024/blob/main/Ch06_%EC%9D%B4%EC%82%B0%EC%8B%9C%EA%B0%84_%ED%91%B8%EB%A6%AC%EC%97%90_%EA%B8%89%EC%88%98_%EB%B0%8F_%EB%B3%80%ED%99%98.ipynb\" target=\"_parent\"><img src=\"https://colab.research.google.com/assets/colab-badge.svg\" alt=\"Open In Colab\"/></a>"
      ]
    },
    {
      "cell_type": "markdown",
      "source": [
        "# CHAPTER 06 : 이산시간 푸리에 급수 및 변환\n",
        "( Discrete-Time  Fourier  Series  and  Transform )"
      ],
      "metadata": {
        "id": "vk22dB8WDb7A"
      }
    },
    {
      "cell_type": "markdown",
      "source": [
        "## 6.1 이산 정현파 신호의 특성"
      ],
      "metadata": {
        "id": "ZxFF9FCNDvG8"
      }
    },
    {
      "cell_type": "markdown",
      "source": [
        "### 이산 정현파 신호의 주기성\n",
        "\n",
        "- 이산 (복소) 정현파 신호  \n",
        "  - 주파수가 유리수( 有理數 | rational number)가 되어야만 주기함수가 됨  \n",
        "  - $x[n+N] = x[n] \\rightarrow e^{j\\omega_0 (n+N)}= e^{j\\Omega_0 n} e^{j\\Omega_0 N} = e^{j\\Omega_0 n} \\rightarrow e^{j\\Omega_0 N} = 1 $\n",
        "$$ \\frac{\\Omega_0}{2\\pi} = F_0 = \\frac{1}{N}, \\;\\; k,N \\text{은 정수}\n",
        "$$\n",
        "  - $k \\Omega_0 = \\frac{2\\pi}{N} k$ ($k$ 는 정수)인 모든 이산 (복소)정현파는 $N$-주기 신호임  \n",
        "  - $2\\pi$의 정수배만큼 떨어진 주파수를 갖는 신호들은 구분되지 않음\n",
        "$$ e^{j (\\Omega_0 + 2\\pi k) n} = e^{j\\Omega_0 n} e^{j2\\pi kn} = e^{j\\Omega_0 n}\n",
        "$$\n",
        "  - 이산 정현 신호의 실질 최대 주파수는 $\\Omega = \\pm \\pi (f= \\pm \\frac{1}{2}) $      \n",
        "  → 이산 정현파 신호는 $-\\pi \\le \\Omega \\le \\pi \\; ( -0.5 \\le f \\le 0.5)$ 내에서 표현 가능\n",
        "\n",
        " <img src='https://drive.google.com/uc?export=download&id=1PDf2mlPNGBBpqlqeLDCtpWFwTIBYFa5Z' width=\"500\" height =\"\" /><br>\n",
        "\n",
        "\n"
      ],
      "metadata": {
        "id": "ClKSPinID0Rm"
      }
    },
    {
      "cell_type": "markdown",
      "source": [
        "---\n",
        "[예제 6-1] 이산 주기 정형파의 최대 주파수   \n",
        "<img src='https://drive.google.com/uc?export=download&id=1PFSmcjrt9GudR7riAzWK2n1eZt0kRDDG' width=\"600\" height =\"\" /><br>  \n",
        "\n",
        "[예제 6-2] 이산 정형파 신호의 $2\\pi$ - 주기성과 스펙트럼     \n",
        "<img src='https://drive.google.com/uc?export=download&id=1PGXi-Z6trjgCdIXoOY5c-lGrHoPX51c3' width=\"650\" height =\"\" /><br>\n",
        "\n",
        "\n",
        "---"
      ],
      "metadata": {
        "id": "uglCivE3FZ5c"
      }
    },
    {
      "cell_type": "markdown",
      "source": [
        "## 6.2 이산 시간 푸리에 급수(DTFS)\n"
      ],
      "metadata": {
        "id": "mTED4DKOHbz2"
      }
    },
    {
      "cell_type": "markdown",
      "source": [
        "### 이산 시간 푸리에 급수의 개요  \n",
        "\n",
        "- 이산 주기 신호 $x[n]=x[n+N]$  \n",
        "  - 주기 $N$ 인 신호의 한 주기 구간은 $n=[ 0 \\dots N-1 ]$ 임  \n",
        "    예) [그림 6-4]의 경우 $n=N=6$이 아니라 $n=N-1=5$에 마지막 샘플\n",
        "<img src='https://drive.google.com/uc?export=download&id=1PIO-TizUYW5QzLF5eSgICtZkl1eQt3vz' width=\"550\" height =\"\" /><br>  \n",
        "[2판에는 없음]\n",
        "\n"
      ],
      "metadata": {
        "id": "-4RZdFofHwFF"
      }
    },
    {
      "cell_type": "markdown",
      "source": [
        "---\n",
        "- 이산 주기 신호의 푸리에 급수 전개  \n",
        "  - 정현파 또는 복소 지수함수 사용에는 이산 주기 신호 조건의 제약 따름\n",
        "  - 기본파($\\Omega_0 = \\frac{2\\pi}{N}$) $\\left( F_0 = \\tfrac{1}{N} \\right)$와 고조파($\\Omega_k = k \\frac{2\\pi}{N} = k\\Omega_0$)로 신호 성분 표현\n",
        "  - ***단지 $N$개의 서로 다른 주파수 성분 존재(연속계의 경우 무한개 존재)***  \n",
        "  $2\\pi$-주기성에 의해 $k$ 고조파와 $N+k, 2N+k, \\dots$ 고조파는 동일 신호  \n",
        "$$ e^{j \\frac{2\\pi}{N} (k+mN)n} = e^{j \\frac{2\\pi}{N} kn} e^{j2\\pi mN} = e^{j \\frac{2\\pi}{N} kn}   \\tag{6.3}\n",
        "$$\n",
        "\n",
        " <img src='https://drive.google.com/uc?export=download&id=1PDf2mlPNGBBpqlqeLDCtpWFwTIBYFa5Z' width=\"500\" height =\"\" /><br>  \n",
        " [2판: 그림 6-3] 이산 주기 신호의 고조파(N=8)\n",
        "\n",
        "\n",
        "  - $N$-주기 이산 신호는 다음의 $N$ 개의 주파수 성분으로 구성됨  \n",
        "  - 스펙트럼이 $2\\pi$ 구간으로 대역 제한되어 주기적으로 반복됨  \n",
        "   ⇒ 신호도 주기 $N$ , 스펙트럼도 주기 $N$인 주기 함수\n",
        "  - $N$개의 주파수 성분은 길이 $N$인 어느 구간에서나 선택할 수 있음 (∵ $ 2\\pi $-주기성)\n",
        "\n",
        "\n",
        "\n",
        "\n",
        "\n",
        "\n",
        "\n",
        "\n"
      ],
      "metadata": {
        "id": "ZjQYsCoZIobL"
      }
    },
    {
      "cell_type": "markdown",
      "source": [
        "---\n",
        "### 이산 시간 푸리에 급수(DTFS)\n",
        "\n",
        "- 이산 시간 푸리에 급수(DTFS)  \n",
        "  - 합성식(푸리에 급수)\n",
        "$$ x_N [n] = \\sum_{m=0}^{N-1} X_m e^{jm\\Omega_0 n}   \\tag{6.4}\n",
        "$$  \n",
        "  - 분석식(푸리에 계수)\n",
        "$$ X_k = \\frac{1}{N} \\sum_{n=0}^{N-1} x_N [n] e^{-jk\\Omega_0 n}  \\tag{6.5}\n",
        "$$\n",
        "  - ***분석식과 합성식 모두 동일한 유한개 항의 합 → 수치 계산에 매우 적합***  \n",
        "  \n",
        "  - 합성식에 $e^{-jk\\Omega_0 n}$을 곱하여 $n=0$부터 $N-1$까지 합을 구하면\n",
        "$$ \\sum_{n=0}^{N-1} x[n] e^{-jk\\Omega_0 n} = \\sum_{n=0}^{N-1} \\sum_{m=0}^{N-1} X_m e^{j(m-k)\\Omega_0 n}\n",
        "$$\n",
        "  - 우변에서 합의 순서를 바꾸면\n",
        "$$  \\sum_{n=0}^{N-1} x[n] e^{-jk\\Omega_0 n} = \\sum_{m=0}^{N-1} X_m  \\left[ \\sum_{n=0}^{N-1}  e^{j(m-k)\\Omega_0 n} \\right]  \\tag{6.6}\n",
        "$$\n",
        "  - 그런데 $e^{j N\\Omega_0 n } = 1$이므로\n",
        "$$\n",
        "\\sum_{n=0}^{N-1} e^{jl\\Omega_0 n} = \\left\\{ \\begin{matrix}\n",
        "\\sum_{n=0}^{N-1} 1 = N, \\;\\;  l=0,\\pm N, \\pm 2N. \\dots \\\\\n",
        "\\frac{1-e^{jl\\Omega_0 N}}{1-e^{jl\\Omega_0}} = 0, \\;\\;   l \\ne 0,\\pm N, \\pm 2N. \\dots   \\tag{6.7}\n",
        "\\end{matrix}\\right.\n",
        "$$\n",
        "  \n",
        "  - 따라서 우변 합은 $m=k$일 때만 0이 아니며, 값은 $X_m N = X_k N$이므로, 식(6.5)와 같이 구해진다.\n",
        "$$ X_k = \\frac{1}{N} \\sum_{n=0}^{N-1} x[n] e^{-jk\\Omega_0 n}\n",
        "$$\n",
        "\n",
        "\n",
        "\n",
        "\n",
        "\n",
        "\n",
        "  \n"
      ],
      "metadata": {
        "id": "Gy7KpM7aJ_f5"
      }
    },
    {
      "cell_type": "markdown",
      "source": [
        "---\n",
        "- 진폭 및 위상 스펙트럼  \n",
        "  - 푸리에 계수 $X_k$는 복소수 → 극좌표 형태로 표현 가능 $X_k = |X_k|e^{j \\angle X_k}$     \n",
        "  - 진폭 스펙트럼 : $ |X_k|$   \n",
        "  - 위상 스펙트럼 : $ \\angle X_k$           \n",
        "  - **$X_k$도 $N$-주기 신호이므로 $N$개의 유효 성분 가짐**    \n",
        "     → $0 \\le m \\lt N$(또는$0 \\le \\Omega \\lt 2\\pi$) 구간의 형태가 주기적으로 반복됨  \n",
        "     → 어느 구간을 택하든 신호의 합성에는 상관없음\n",
        "$$\\begin{align}\n",
        "X_{k+N}  &= \\frac{1}{N} \\sum_{n=0}^{N-1} x[n] e^{-j(k+N)\\Omega_0 n} = \\frac{1}{N} \\sum_{n=0}^{N-1} x[n] e^{-jk\\Omega_0 n} e^{-jN\\Omega_0 n} \\\\\n",
        "&= \\frac{1}{N} \\sum_{n=0}^{N-1} x[n] e^{-jk\\Omega_0 n} e^{-j2\\pi n} = \\frac{1}{N} \\sum_{n=0}^{N-1} x[n] = X_k  \n",
        "\\end{align}  \\tag{6.8}\n",
        "$$\n"
      ],
      "metadata": {
        "id": "_9pEiAdmN73h"
      }
    },
    {
      "cell_type": "markdown",
      "source": [
        "---\n",
        "- 이산 시간 푸리에 급수 표현의 변형  \n",
        "  - 𝑵-주기 신호 𝝓[𝒏]의 성질  \n",
        "     ① 매 𝑵 샘플마다 같은 값이 반복  \n",
        "     ② 연속된 𝑵 개의 샘플의 합  →  합을 취하는 구간에 상관없이 동일   \n",
        "  →  합성식 :\n",
        "  $$ x[n] = \\sum_{k=<N>}  X_k e^{jk\\Omega_0 n}   \\tag{6.9} $$  \n",
        "  →  분석식 :\n",
        "  $$ X_k = \\frac{1}{N} \\sum_{k=<N>}  x[n] e^{-jk\\Omega_0 n} \\tag{6.10} $$  \n",
        "\n",
        "- $\\sum_{k=<N>}$은 구간이 어디든지 연속된 N개의 샘플을 더한다는 의미임.\n",
        "\n",
        ">※ 푸리에 급수/변환의 시간-주파수 ***쌍대성(Duality)***\n",
        "  - **시간 영역에서 주기 신호 ↔ 주파수 영역에서 이산 스펙트럼**\n",
        "  - **시간 영역에서 이산 신호 ↔ 주파수 영역에서 주기 스펙트럼**\n",
        "\n"
      ],
      "metadata": {
        "id": "CZKZJUJw1-C5"
      }
    },
    {
      "cell_type": "markdown",
      "source": [
        " ---\n",
        "\n",
        "[2ed] 예제 6-3 : 정현파로 구성된 이산 주기 신호의 푸리에 계수 계산   \n",
        " <img src='https://drive.google.com/uc?export=download&id=1PLPp3WBZ1bV816CAyw4HcSNyHzIUiF50' width=\"600\" height =\"\" /><br>  \n",
        "\n",
        "[풀이]\n",
        "식(6-10)을 이용하여 직접계산도 가능하지만, Euler공식을 이용한 직관적인 풀이가 유리하다.  \n",
        "sin항의 주기 $N_1 =8$이고, cos항의 주기 $N_2 = 4$이므로, 공동 주기 $N=8$이 된다.  \n",
        "기본 주파수 $\\omega_0 = \\tfrac{\\pi}{4}$가 된다.   \n",
        "$$\n",
        "\\begin{align}\n",
        "x[n] &= e^{j0\\tfrac{\\pi}{4}n} + \\frac{1}{j2} \\left( e^{j\\tfrac{\\pi}{4}n} - e^{-j\\tfrac{\\pi}{4}n}  \\right) + \\left( e^{j2\\tfrac{\\pi}{4}n} + e^{-j2\\tfrac{\\pi}{4}n}  \\right) \\\\\n",
        "&= e^{j0\\tfrac{\\pi}{4}n} - j\\frac{1}{2} \\left( e^{j\\tfrac{\\pi}{4}n} - e^{j \\left( -\\tfrac{\\pi}{4} + 2\\pi \\right) n}  \\right) + \\left( e^{j2\\tfrac{\\pi}{4}n} + e^{j \\left( -\\tfrac{2\\pi}{4} + 2\\pi \\right)n }  \\right) \\\\\n",
        "&= e^{j0\\tfrac{\\pi}{4}n} -j\\tfrac{1}{2} e^{j\\tfrac{\\pi}{4}n} + e^{j2\\tfrac{\\pi}{4}n} + e^{j6\\tfrac{\\pi}{4}n} + j\\tfrac{1}{2} e^{j7\\tfrac{\\pi}{4}n}\n",
        "\\end{align}\n",
        "$$\n",
        "\n",
        "여기서, $<N>= [-4,3]$또는 $<N> = [0,7]$인 관계를 고려하여 다음과 같은 푸리에 계수를 얻을 수 있다.  \n",
        "( 여기에서도 $X_{N-k} = X_{-k} = X^{*}_{k}$가 성립함을 볼 수 있다.)   \n",
        "\n",
        "\n",
        "$\\left\\{\\begin{matrix}\n",
        " X_{-4} = 0 \\\\\n",
        " X_{-3} = 0 \\\\\n",
        " X_{-2} = 1 \\\\\n",
        " X_{-1} = j\\tfrac{1}{2} \\\\\n",
        " X_{0}  = 1 \\\\\n",
        " X_{1}  = -j\\tfrac{1}{2} \\\\\n",
        " X_{2}  = 1 \\\\\n",
        " X_{3}  = 0 \\\\\n",
        "\\end{matrix}\\right.\n",
        "$  또는  $\\left\\{\\begin{matrix}\n",
        " X_{0} = 1 \\\\\n",
        " X_{1} = -j\\tfrac{1}{2} \\\\\n",
        " X_{2} = 1 \\\\\n",
        " X_{3} = 0 \\\\\n",
        " X_{4} = 0 \\\\\n",
        " X_{5} = 0 \\\\\n",
        " X_{6} = 1 \\\\\n",
        " X_{7} = j\\tfrac{1}{2} \\\\\n",
        "\\end{matrix}\\right.  \n",
        "$"
      ],
      "metadata": {
        "id": "uzaHhcUD3u_7"
      }
    },
    {
      "cell_type": "markdown",
      "source": [
        "\n",
        " [2ed] 예제 6-4 : 이산 주기 신호의 푸리에 급수와 스펙트럼   \n",
        " <img src='https://drive.google.com/uc?export=download&id=1PKN2SjIx4ILckh1NIsSdih7k-CJD7E78' width=\"600\" height =\"\" /><br>   \n",
        "\n",
        "\n",
        " ---"
      ],
      "metadata": {
        "id": "P18hBv64k0hg"
      }
    },
    {
      "cell_type": "markdown",
      "source": [
        "### 이산 시간 푸리에 급수의 성질\n",
        "\n",
        "<img src='https://drive.google.com/uc?export=download&id=1144Oh64VfHktbrY1jwbata93AhBLjN0L' width=\"600\" height =\"\" /><br>"
      ],
      "metadata": {
        "id": "v3Xh72TW4mhW"
      }
    },
    {
      "cell_type": "markdown",
      "source": [
        "---\n",
        "## 6.3 이산 시간 푸리에 변환(DTFT)"
      ],
      "metadata": {
        "id": "lTOq1mfz4VNZ"
      }
    },
    {
      "cell_type": "markdown",
      "source": [
        "### 6.3.1 이산 시간 푸리에 변환의 개요\n",
        "\n",
        "- 비주기 이산 신호 $x[n]$에 대한 푸리에 표현 - 이산 시간 푸리에 변환  \n",
        "  - $x[n]$을 주기 $N$으로 반복한 $N$-주기 신호를 $x_N [n]$이라 하면\n",
        "$$\n",
        "x[n] = \\left\\{\\begin{matrix}\n",
        "x_N [n], \\;\\; n \\in [0,N-1]   \\tag{6.11 } \\\\\n",
        "0,\\;\\; \\text{그 외.}\n",
        "\\end{matrix}\\right.\n",
        "$$\n",
        " ∴ 주기 신호의 DTFS에 $N \\rightarrow \\infty$의 극한 취해 $x[n]$의 푸리에 표현 구함\n",
        "\n",
        "- 이산 시간 푸리에 변환(DTFT)의 유도  \n",
        "  - 주기 신호 $x_N [n]$에 대한 이산 시간 푸리에 급수의 계루 $X_k$는   \n",
        "  \n",
        "$$\n",
        " X_k = \\frac{1}{N} \\sum_{k=<N>}  x_N[n] e^{-jk\\Omega_0 n} = \\frac{1}{N} \\sum_{n=-\\infty}^{\\infty}  x[n] e^{-jk\\Omega_0 n}   \\tag{6.12}\n",
        "$$\n",
        " ∴ $N \\rightarrow \\infty$의 극한을 바로 취할 수 없음(∵ 푸리에 계수 $X_k \\rightarrow 0$ )\n",
        "  - 따라서 먼저 $NX_k$의 `포락선(envelope)`함수 $X(\\Omega)$를 정의하면  \n",
        "$$\n",
        "X(\\Omega) = \\sum_{n=-\\infty}^{\\infty} x[n] e^{j\\Omega n}    \\tag{6.13}\n",
        "$$\n",
        "푸리에 계수$X_k$는 $X(\\Omega)$를 등간격 $\\Omega_0$로 샘플링하여 $\\tfrac{1}{N}$한것과 같다.\n",
        "$$\\\n",
        "X_k = \\frac{1}{N} X(k\\Omega_0 )   \\tag{6.14}\n",
        "$$\n",
        "\n",
        "$x_N [n]$의 이산 시간 푸리에 급수 표현은...\n",
        "\n",
        "$$\n",
        "\\begin{align}\n",
        "x_N [n] &= \\sum_{k=<N>}  X_k e^{jk\\Omega_0 n} = \\frac{1}{N} \\sum_{k=<N>}  X(k\\Omega_0) e^{jk\\Omega_0 n}  \\\\\n",
        "&= \\frac{\\Omega_0}{2\\pi} \\sum_{k=<N>}  X(k\\Omega_0) e^{jk\\Omega_0 n}  \\tag{6.15}\n",
        "\\end{align}\n",
        "$$\n",
        "\n",
        "- $N \\rightarrow \\infty$의 극한을 취하면, $x_N [n] \\rightarrow x[n]$, $\\Omega_0 \\rightarrow d\\Omega$, $k\\Omega_0 \\rightarrow \\Omega$,   \n",
        "한 주기 구간 $<N> \\; \\rightarrow 2 \\pi$\n",
        "\n",
        "$$\n",
        "x[n] = \\frac{1}{2\\pi} \\int_{2\\pi} X(\\Omega ) e^{j\\Omega n} d\\Omega  \\tag{6.16}\n",
        "$$\n"
      ],
      "metadata": {
        "id": "n-cbohpY4-cB"
      }
    },
    {
      "cell_type": "markdown",
      "source": [
        "---\n",
        "이산시간 푸리에 변환(DTFT)\n",
        "$$\n",
        "X(\\Omega) = \\sum_{n=-\\infty}^{\\infty} x[n] e^{-j\\Omega n}\n",
        "$$  \n",
        "\n",
        "이산시간 푸리에 역변환(IDTFT)    \n",
        "\n",
        "$$\n",
        " x[n] = \\frac{1}{2\\pi} \\int_{2\\pi} X(\\Omega ) e^{j\\Omega n} d\\Omega  \n",
        "$$   \n",
        "\n",
        "---"
      ],
      "metadata": {
        "id": "h70Ht4PLj0cr"
      }
    },
    {
      "cell_type": "markdown",
      "source": [
        "---\n",
        "- 이산시간 푸리에 변환(DTFT)쌍  \n",
        "<img src='https://drive.google.com/uc?export=download&id=1PMoU9szFz2fxjoDH7DOBnmVvV4fm5H34' width=\"600\" height =\"\" /><br>  \n",
        "  - 분석식 : $x[n]$이 각각의 주파수 성분을 얼마나 가지는지 보여줌    \n",
        "  - 합성식 : 각각의 주파수에 대응되는 복소 정현파의 선형 결합으로 비주기 신호 표현\n",
        "  - DTFT는 (CT)FT와 유사점 많음  \n",
        "   그러나, $X(\\Omega )$가 주기적이고 역-변환식 적분구간이 유한함  \n",
        "   ( ∵ $2\\pi$의 배수만큼 주파수 차가 나는 이산 복소 정현파는 동일 )\n",
        "$$\\begin{align}\n",
        "X(\\Omega + 2m\\pi) &=  \\sum_{n=-\\infty}^{\\infty} x[n] e^{j(\\Omega + 2m\\pi) n}  \\tag{6.19}\\\\\n",
        "&=  \\sum_{n=-\\infty}^{\\infty} x[n] e^{j\\Omega n} e^{-j2m\\pi n} = X( \\Omega )\n",
        "\\end{align}\n",
        "$$\n",
        "\n",
        "> ※ ***요 주의!!***\n",
        "- **DTFT의 변환식은 총합 계산 (∵시간 영역 신호 파형이 이산적임)**\n",
        "- **DTFT의 역변환식은 적분 계산(∵주파수 영역 스펙트럼은 연속적임)**   \n",
        "\n",
        "\n",
        "\n",
        "---\n",
        "\n",
        "\n",
        "\n",
        "\n",
        "\n",
        "\n",
        "\n",
        "\n",
        "\n",
        "\n",
        "\n",
        "\n",
        "\n",
        "\n",
        "\n",
        "\n",
        "\n"
      ],
      "metadata": {
        "id": "8L_R97bR8OFj"
      }
    },
    {
      "cell_type": "markdown",
      "source": [
        "---\n",
        "\n",
        "- 주기 신호의 이산시간 푸리에 변환  \n",
        " - 이산 주기 신호의 (주파수) 스펙트럼은 같은 파형을 가진 비주기 신호의 푸리에 변환을 샘플링한 이산 함수 & 스펙트럼 간격은 $\\Omega_0$   \n",
        "$$ X_N (\\Omega ) = \\frac{2\\pi}{N} \\sum_{k=-\\infty}^{\\infty} X(k\\Omega_0 ) \\delta (\\Omega - k\\Omega_0 )\n",
        "$$  \n",
        "$$\\begin{align}\n",
        "& \\frac{1}{2\\pi} \\int_{2\\pi} X_N (\\Omega ) e^{j\\Omega n} d\\Omega  \\\\\n",
        "&= \\frac{1}{2\\pi} \\int_{0-\\epsilon }^{2\\pi - \\epsilon} \\left[  \\frac{2\\pi}{N} \\sum_{k=-\\infty}^{\\infty} X(k\\Omega_0 ) \\delta (\\Omega - k\\Omega_0 ) \\right] e^{j\\Omega n} d\\Omega  \\tag{6.22} \\\\\n",
        "&= \\sum_{k=0}^{N-1} \\frac{1}{N} X(k\\Omega_0 ) \\int_{0-\\epsilon }^{2\\pi - \\epsilon} \\delta (\\Omega - k\\Omega_0 )  e^{j\\Omega n} d\\Omega \\\\\n",
        "&= \\sum_{k=0}^{N-1} X_k e^{jk\\Omega_0 n} = x_N [n]\n",
        "\\end{align}\n",
        "$$\n",
        "\n",
        "\n",
        "\n",
        "\n",
        "\n",
        "    \n"
      ],
      "metadata": {
        "id": "loRmNdsbNPh1"
      }
    },
    {
      "cell_type": "markdown",
      "source": [
        "- DTFT의 존재성 - 수렴 조건  \n",
        "  - $x[n]$]이 절대 `총합가능(absolutely summable)`하면 DTFT는 존재\n",
        "$$\n",
        " \\sum_{n=-\\infty}^{\\infty} |x[n]| \\lt \\infty  \\tag{6.17}\n",
        "$$\n",
        "  - 에너지 신호는 항상 만족  \n",
        "  - 전력 신호는 만족 않지만 DTFT 존재하는 것으로 취급\n",
        "\n",
        "- 진폭과 위상 스펙트럼 (DTFT의 극좌표 표현)  \n",
        "  - DTFT의 극좌표 표현\n",
        "$$ X(\\Omega ) = |X(\\Omega )| e^{j \\angle X(\\Omega )}\n",
        "$$\n",
        "  - 진폭 스펙트럼 : $|X(\\Omega )|$ → 주기가 $2\\pi$인 주기함수  \n",
        "   $x[n]$의 복소지수 성분들의 상대적인 크기를 나타냄  \n",
        "  - 위상 스펙트럼 : $\\angle X(\\Omega)$ → 주기가 $2\\pi$인 주기함수  \n",
        "   $x[n]$의 복소지수 성분들의 상대적 위상을 나타냄\n",
        "\n",
        "\n",
        "    \n",
        "\n",
        "\n",
        "    \n"
      ],
      "metadata": {
        "id": "L-tBduQ7_cwB"
      }
    },
    {
      "cell_type": "markdown",
      "source": [
        "---\n",
        "### 6.3.2 주요 신호의 DTFT 쌍(pair)  \n",
        "\n",
        "- 임펄스 신호\n",
        "  - 단위 임펄스 신호 $x[n]= \\delta [n]$의 이산 시간 푸리에 변환을 구하면,  \n",
        "$$  X(\\Omega ) = \\sum_{n=-\\infty}^{\\infty} \\delta[n] e^{-j\\Omega n} = 1  \\\\\n",
        "\\;\\;    \\tag{6.23}  \n",
        "$$\n",
        "$$\n",
        "\\delta [n] \\Leftrightarrow  1  \\tag{6.24}\n",
        "$$  \n",
        " ⇒ **임펄스 신호는 모든 주파수 성분을 포함**\n",
        "\n",
        "- 직류(DC) 신호\n",
        "  - $X(\\Omega) = \\delta(\\Omega), |\\Omega| \\lt \\pi$이므로, 역 DTFT를 구하면,\n",
        "$$  x[n] = \\frac{1}{2\\pi} \\int_{2\\pi} \\delta (\\Omega) e^{j\\Omega n} d\\Omega = \\frac{1}{2\\pi}   $$\n",
        "\n",
        "$$\\\\\n",
        "\\; \\\\\n",
        "1  \\Leftrightarrow 2\\pi \\delta(\\Omega ), \\;\\; |\\Omega| \\lt \\pi  \\tag{6.25}\n",
        "$$\n",
        " ⇒ **전력 신호의 스펙트럼에는 임펄스가 포함됨**\n",
        "\n",
        "- 이산 임펄스 신호와 직류 신호의 DTFT 쌍(pair)     \n",
        "<img src='https://drive.google.com/uc?export=download&id=1POQPX1rw0bwLLNvbHZN8mo5V3OvUg4Bh' width=\"700\" height =\"\" /><br>  \n",
        "\n",
        "[2판, 6-12, 6-13 ]"
      ],
      "metadata": {
        "id": "Mz3DkawDFWRn"
      }
    },
    {
      "cell_type": "markdown",
      "source": [
        "---\n",
        "- 정현파 신호\n",
        "  - IDTFT의 정의식으로부터 임펄스 함수의 체거르기 성질에 의해  \n",
        "$$ x[n] = \\frac{1}{2\\pi} \\int_{2\\pi} 2\\pi \\delta(\\Omega - \\Omega_0 ) e^{j\\Omega n} d\\Omega = e^{j\\Omega_0 n}  \\\\\n",
        "\\;\\; \\\\\n",
        "e^{j\\Omega_0 n} \\Leftrightarrow 2\\pi \\delta(\\Omega - \\Omega_0 )\n",
        "$$\n",
        "  오일러 공식을 이용하여 정현파를 복소 정현파로 바꾸어 나타내면  \n",
        "$$\n",
        "\\mathfrak{F} \\{  \\cos \\Omega_0 n \\} = \\mathfrak{F} \\left\\{  \\frac{e^{j\\Omega_0 n} + e^{-j\\Omega_0 n}}{2} \\right\\} = \\pi \\delta(\\Omega - \\Omega_0 ) + \\pi \\delta(\\Omega + \\Omega_0 )  \\tag{6.26}\\\\\n",
        "\\;\\;\n",
        "$$\n",
        "\n",
        "$$\n",
        "\\cos \\Omega_0 n \\Leftrightarrow  \\pi \\delta(\\Omega - \\Omega_0 ) + \\pi \\delta(\\Omega + \\Omega_0 )  \\tag{6.27}\n",
        "$$  \n",
        "\n",
        "\n",
        "- 실수 지수 신호  \n",
        "  - 실수 지수 신호 $x[n]=a^n u[n], \\; |a| \\lt 1$의 DTFT를 나타내면   \n",
        "$$\n",
        " X(\\Omega ) = \\sum_{n=0}^{\\infty } a^n e^{-j\\Omega n} = \\sum_{n=0}^{\\infty } ( a e^{-j\\Omega} )^n = \\frac{1}{1-ae^{-j\\Omega} }  \\\\\n",
        " \\;\\;  \\tag{6.28}\n",
        " $$\n",
        "\n",
        " $$\n",
        " a^n u[n] \\Leftrightarrow \\frac{1}{1-ae^{-j\\Omega} }  \\tag{6.29}\n",
        "$$\n",
        "\n",
        " <img src='https://drive.google.com/uc?export=download&id=1POVC7VtOzUplUPpcMM91LFcAjkvTwKpj' width=\"700\" height =\"\" /><br>   \n",
        "\n",
        " [2ed] 그림 6-14"
      ],
      "metadata": {
        "id": "ghDDwgTFJCRP"
      }
    },
    {
      "cell_type": "markdown",
      "source": [
        "---\n",
        "<img src='https://drive.google.com/uc?export=download&id=1PVeWTje7w1hGwzVGjYVcHCXZnEC7MM4C' width=\"700\" height =\"\" /><br>    \n",
        "[2ed] 예제 6-10 이산 주기 신호의 푸리에 변환\n",
        "\n",
        "<img src='https://drive.google.com/uc?export=download&id=1PU_2NFsDn4GuDQydsBnz__yaajeR3azf' width=\"700\" height =\"\" /><br>    \n",
        "[2ed] 예제 6-11 이산 사각 펄스 신호의 푸리에 변환\n",
        "\n",
        "---\n"
      ],
      "metadata": {
        "id": "xX1U08vwRqJ4"
      }
    },
    {
      "cell_type": "markdown",
      "source": [
        "### 6.3.3 이산 시간 푸리에 변환의 성질   \n",
        "\n",
        "- 주기성\n",
        "$$ \\begin{align}\n",
        "X(\\Omega + 2m\\pi ) &=  \\sum_{n=-\\infty}^{\\infty} x[n] e^{-j(\\Omega + 2m \\pi ) n}    \\\\\n",
        "&= \\sum_{n=-\\infty}^{\\infty} x[n] e^{-j\\Omega n} e^{-j2m \\pi n} = X(\\Omega)\n",
        "\\end{align}\n",
        "$$\n",
        "\n",
        "- 선형성  \n",
        "  - 두 신호 $x[n]$과 $y[n]$에 대한 DTFT를 각각 $X(\\Omega), Y(\\Omega)$라고 하면,  \n",
        "$$ \\mathfrak{F} \\{ \\alpha x[n] + \\beta y[n] \\} = \\alpha X(\\Omega) + \\beta Y(\\Omega)  \\tag{6.32}\n",
        "$$  \n",
        "\n",
        "- 대칭성  \n",
        "  - $x[n]$이 실수이면, $x^* [n] = x[n]$이므로  \n",
        "$$ X^* (\\Omega) = \\left( \\sum_{n=-\\infty}^{\\infty} x[n] e^{-j\\Omega n} \\right)^*  = \\sum_{n=-\\infty}^{\\infty} x[n] e^{j\\Omega n} = X(-\\Omega) \\tag{6.39}\n",
        "$$  \n",
        "   - DTFT의 실수부는 우함수 대칭 & 허수부는 기함수 대칭  \n",
        "   - 진폭 스펙트럼은 우함수 대칭 & 위상 스펙트럼은 기함수 대칭\n",
        "$$\n",
        "\\left\\{\\begin{matrix}\n",
        " Re \\{ X(\\Omega)\\} = Re \\{ X(-\\Omega)\\}, \\;\\; x[n]\\text{은 실수} \\\\\n",
        "Im \\{ X(\\Omega)\\} = -Im \\{ X(-\\Omega)\\}, \\;\\; x[n]\\text{은 실수} \\tag{6.35}\n",
        "\\end{matrix}\\right.  \n",
        "$$  \n",
        "$$\n",
        "\\left\\{\\begin{matrix}\n",
        "| X(\\Omega) | = |X(-\\Omega)|, \\;\\; x[n]\\text{은 실수} \\\\\n",
        "\\angle X(\\Omega) = -\\angle X(-\\Omega), \\;\\; x[n]\\text{은 실수}  \\tag{6.36}\n",
        "\\end{matrix}\\right.\n",
        "$$  \n",
        "  - 𝑥[𝑛]이 실수 **우함수**라면  $x^* [n] = x[n]=x[-n]이므로$\n",
        "$$ \\begin{align}\n",
        "X^* (\\Omega) &=  \\sum_{n=-\\infty}^{\\infty} x[n] e^{j\\Omega n} =  \\sum_{n=-\\infty}^{\\infty} x[-n] e^{-j\\Omega (-n) }  \\\\\n",
        "&= \\sum_{m=\\infty}^{-\\infty} x[m] e^{-j\\Omega m} = \\sum_{n=-\\infty}^{\\infty} x[n] e^{-j\\Omega n} = X(\\Omega) \\tag{6.40}\n",
        "\\end{align}\n",
        "$$  \n",
        "$$\n",
        "\\left\\{\\begin{align}\n",
        "Re \\{ X(\\Omega)\\} &= Re \\{ X(-\\Omega)\\}, \\;\\; x[n]\\text{은 실수 우함수} \\\\\n",
        "Im \\{ X(\\Omega)\\} &= 0, \\;\\; x[n]\\text{은 실수 우함수}\n",
        "\\end{align}\\right.  \n",
        "$$  \n",
        "  - 𝑥[𝑛]이 실수 **기함수**라면    $x^* [n] = x[n]=-x[-n]이므로$\n",
        "$$ \\begin{align}\n",
        "X^* (\\Omega) &=  \\sum_{n=-\\infty}^{\\infty} x[n] e^{j\\Omega n} = - \\sum_{n=-\\infty}^{\\infty} x[-n] e^{-j\\Omega (-n) }  \\\\\n",
        "&= -\\sum_{m=\\infty}^{-\\infty} x[m] e^{-j\\Omega m} = -\\sum_{n=-\\infty}^{\\infty} x[n] e^{-j\\Omega n} = - X(\\Omega)  \\tag{6.41}\n",
        "\\end{align}\n",
        "$$  \n",
        "$$\n",
        "\\left\\{\\begin{align}\n",
        "Re \\{ X(\\Omega)\\} &= 0, \\;\\; x[n]\\text{은 실수 기함수} \\\\\n",
        "Im \\{ X(\\Omega)\\} &= -Im \\{ X(-\\Omega)\\}, \\;\\; x[n]\\text{은 실수 기함수}\n",
        "\\end{align}\\right.  \n",
        "$$"
      ],
      "metadata": {
        "id": "RRfmCrz0SSI3"
      }
    },
    {
      "cell_type": "markdown",
      "source": [
        "---\n",
        "- 시간 이동  \n",
        "  - 진폭 스펙트럼은 불변 & 위상 스펙트럼만 선형적으로 바뀜  \n",
        "$$\n",
        "\\begin{align}\n",
        "\\mathfrak{F} \\{ x[n-n_0 ]\\} &= \\sum_{n=-\\infty}^{\\infty} x[n-n_0 ] e^{-j\\Omega n} = \\sum_{n=-\\infty}^{\\infty} x[m] e^{-j\\Omega(m+n_0)}  \\tag{6.43}   \\\\\n",
        "&= e^{-j\\Omega n_0} \\sum_{n=-\\infty}^{\\infty} x[m] e^{-j\\Omega m} = e^{-j n_0 \\Omega} X(\\Omega)\n",
        "\\end{align}\n",
        "$$   \n",
        "\n",
        "> [2ed] 예제 6-14 단위계단 신호 $u[n]$의 DTFT"
      ],
      "metadata": {
        "id": "xqU2g6wmYRg2"
      }
    },
    {
      "cell_type": "markdown",
      "source": [
        "- 주파수 이동  \n",
        "$$ \\begin{align}\n",
        "\\mathfrak{F}^{-1} \\{ X(\\Omega - \\Omega_0) \\} &= \\frac{1}{2\\pi} \\int_{2\\pi} X(\\Omega-\\Omega_0) e^{j\\Omega n} d\\Omega  \\\\\n",
        "&= \\frac{1}{2\\pi} \\int_{2\\pi} X(\\Omega') e^{j\\Omega' n} e^{j\\Omega_0 n} d\\Omega'    \\tag{6.47}    \\\\\n",
        "&= e^{j\\Omega_0 n} \\cdot \\frac{1}{2\\pi} \\int_{2\\pi} X(\\Omega') e^{j\\Omega' n} d\\Omega'  \\\\\n",
        "&= e^{j\\Omega_0 n} x[n]\n",
        "\\end{align}\n",
        "$$\n",
        "   → 실제로는 신호에 정현파를 곱하는 진폭 변조 동작으로 활용  \n",
        "$$ x[n]\\cos \\Omega_0 n = \\frac{1}{2} x[n] \\left( e^{j\\Omega_0 n} + e^{-j\\Omega_0 n} \\right)  \\\\\n",
        "\\;\\; \\\\\n",
        "x[n]\\cos \\Omega_0 n  \\Leftrightarrow \\frac{1}{2} \\left[ X(\\Omega - \\Omega_0) + X(\\Omega + \\Omega_0) \\right]\n",
        "$$\n",
        "\n",
        "> [2ed] 예제 6-15 변조 성질을 이용한 이산시간 푸리에 변화"
      ],
      "metadata": {
        "id": "BGvPSP7RcG4R"
      }
    },
    {
      "cell_type": "markdown",
      "source": [
        "---\n",
        "- 시간 반전  \n",
        "  - 시간 반전의 효과는 주파수 반전\n",
        "$$\n",
        "\\begin{align}\n",
        "\\mathfrak{F} \\{ x[-n]\\} &= \\sum_{n=-\\infty}^{\\infty} x[-n] e^{-j\\Omega n} = \\sum_{m=-\\infty}^{\\infty} x[m] e^{j\\Omega m}   \\tag{6.49}    \\\\\n",
        "&= \\sum_{m=-\\infty}^{\\infty} x[m] e^{-j(-\\Omega) m} = X(-\\Omega)\n",
        "\\end{align}\n",
        "$$  \n",
        "\n",
        "- 시간 척도 변화  \n",
        "  - 신호를 시간적으로 `압축(decimation)`하면 주파수 스펙트럼은 신장  \n",
        "  - 신호를 시간적으로 `신장(interpolation)`하면 스펙트럼은 압축  \n",
        "$$ \\begin{align}\n",
        "\\mathfrak{F} \\{ x[an] \\} &=  \\sum_{n=-\\infty}^{\\infty} x[an] e^{-j\\Omega n} =  \\sum_{m=-\\infty}^{\\infty} x[m] e^{-j\\Omega m/a }   \\tag{6.51}  \\\\\n",
        "&= \\sum_{m=\\infty}^{-\\infty} x[m] e^{-j(\\Omega/a) m} = X \\left( \\frac{\\Omega}{a} \\right)\n",
        "\\end{align}\n",
        "$$  \n",
        "<img src='https://drive.google.com/uc?export=download&id=1PWphAnDGJ9iQmFd9Rbt1nq5SMn8pVABw' width=\"600\" height =\"\" /><br>    \n",
        "> [2ed] 그림 6-19\n",
        "\n",
        "> [2ed] 예제 6-16 시간 척도조절을 이용한 DTFT구하기"
      ],
      "metadata": {
        "id": "0RVEZG6Med1Z"
      }
    },
    {
      "cell_type": "markdown",
      "source": [
        "---\n",
        "####-  **주파수 미분**\n",
        "  - DTFT 정의식의 양변을 $\\Omega$에 대해 미분하면  \n",
        "$$ \\frac{dX(\\Omega)}{d\\Omega} = - \\sum_{n=-\\infty}^{\\infty} jnx[n]e^{-j\\Omega n}    \\tag{6.53}   \n",
        "$$\n",
        "\n",
        "  - 양변에 $j$를 곱하면 다음의 관계를 얻을 수 있다.\n",
        ">>\n",
        "$$\n",
        "nx[n] \\Leftrightarrow j \\frac{dX(\\Omega)}{d\\Omega}   \\tag{6.52}\n",
        "$$  \n",
        "\n",
        "  - 이 성질은 시간 변수 $n$의 거듭제곱이 곱해진 신호의 DTFT를 구할때 이용.\n",
        "\n",
        "> [2ed] _예제 6-17 주파수 미분 설질을 이용한 DTFT구하기_\n",
        "> - 신호 $x[n] = n a^{n} u[n]$의 DTFT를 구하시오.   \n",
        ">\n",
        ">  $x'=a^n u[n]$이라 하면, $x[n] = n a^n u[n]=nx'[n]$으로 나타낼 수 있다.   \n",
        ">   $x' \\overset{DTFT}{\\Rrightarrow}  X'(\\Omega) = \\dfrac{1}{1-ae^{j\\Omega}}$\n",
        "> $$\n",
        "X(\\Omega) = j\\frac{dX'(\\Omega)}{d\\Omega} = j \\frac{-jae^{-j\\Omega}}{(1-ae^{-j\\Omega})^2} =  \\frac{ae^{-j\\Omega}}{(1-ae^{-j\\Omega})^2}  \n",
        "> $$\n",
        "> DTFT pair:   \n",
        ">$$\n",
        "n a^n u[n] \\Leftrightarrow \\frac{ae^{-j\\Omega}}{(1-ae^{-j\\Omega})^2}   \\tag{6.54}\n",
        "$$\n"
      ],
      "metadata": {
        "id": "_HOD_ASPW0Ax"
      }
    },
    {
      "cell_type": "markdown",
      "source": [
        "\n",
        "#### - **시간 컨벌루션**    \n",
        "  - 시간 영역에서 두 신호의 컨벌루션은 주파수 영역에서 스펙트럼의 곱   \n",
        "     ```\n",
        "    시간 영역에서 두 신호의 곱은 주파수 영역에서 각 신호의 푸리에 변환(Spectrum)의 convolution에 대응된다.\n",
        "    ```\n",
        "$$\n",
        "xu[n] w[n]  \\Leftrightarrow  \\frac{1}{2\\pi} X(\\Omega)  \\circledast W(\\Omega)   \\tag{6.58}\n",
        "$$   \n",
        "\n",
        "\n",
        "$$\n",
        "\\begin{align}\n",
        "\\mathfrak{F} \\{ x[n] \\ast h[n]\\} &= \\sum_{n=-\\infty}^{\\infty} \\left( \\sum_{k=-\\infty}^{\\infty} x[k] h[n-k] \\right) e^{-j\\Omega n}  \\\\\n",
        "&= \\sum_{k=-\\infty}^{\\infty} x[k] \\left( \\sum_{n=-\\infty}^{\\infty}  h[n-k] e^{-j\\Omega n} \\right)   \\\\\n",
        "&= \\sum_{k=-\\infty}^{\\infty} x[k] \\left( \\sum_{m=-\\infty}^{\\infty}  h[m] e^{-j\\Omega (m+k) } \\right)    \\tag{6.56}   \\\\\n",
        "&= \\left( \\sum_{k=-\\infty}^{\\infty} x[k] e^{-j\\Omega k} \\right) \\left( \\sum_{m=-\\infty}^{\\infty} h[m] e^{-j\\Omega m} \\right)  \\\\\n",
        "&= X(\\Omega) H(\\Omega)\n",
        "\\end{align}\n",
        "$$  \n",
        "\n",
        "> [2ed] 예제 6-18 시간 누적합의 DTFT   \n",
        ">  - 시간 누적합 $y[n] = \\sum_{k=-\\infty}^{\\infty}x[k] $의DTFT를 구하라.\n"
      ],
      "metadata": {
        "id": "9s0ULM9XYOdR"
      }
    },
    {
      "cell_type": "markdown",
      "source": [
        "\n",
        "- 주파수 컨벌루션(창 씌우기 정리 - Windowing)\n",
        "$$\n",
        "\\begin{align}\n",
        "\\mathfrak{F} \\{ x[n] w[n]\\} &= \\sum_{n=-\\infty}^{\\infty} x[n] w[n] e^{-j\\Omega n}  \\\\\n",
        "&= \\sum_{n=-\\infty}^{\\infty} w[n] \\left( \\frac{1}{2\\pi} \\int_{2\\pi} X(\\theta) e^{j\\theta n} d\\theta \\right) e^{-j\\Omega n}   \\\\\n",
        "&= \\frac{1}{2\\pi} \\int_{2\\pi} X(\\theta) \\left( \\sum_{n=-\\infty}^{\\infty} w[n] e^{-j(\\Omega - \\theta ) n} \\right) d\\theta  \\tag{6.59}     \\\\\n",
        "&= \\frac{1}{2\\pi} \\int_{2\\pi} X(\\theta) W(\\Omega - \\theta ) d\\theta  \\; = \\; \\frac{1}{2\\pi} X(\\Omega) \\circledast W(\\Omega)\n",
        "\\end{align}\n",
        "$$  "
      ],
      "metadata": {
        "id": "KeNctotpfEGJ"
      }
    },
    {
      "cell_type": "markdown",
      "source": [
        "<center>\n",
        "<img src='https://drive.google.com/uc?export=download&id=1PZDutggEPLRBpHVVj1nBOO5XqxsJR-FW' width=\"700\" height =\"\" /><br>\n",
        "\n",
        "</center>  \n",
        "\n",
        "[2ed] 그림 6-21   \n",
        ">Term: 주엽(main-lobe)  , 부엽(side-lobe)\n",
        "---"
      ],
      "metadata": {
        "id": "voyfIdACXOV0"
      }
    },
    {
      "cell_type": "markdown",
      "source": [
        "####- **파스발의 정리**  \n",
        "  - 시간 영역에서의 총 에너지 합 = 주파수영역에서의 총 에너지 합\n",
        "$$\n",
        "\\begin{align}\n",
        "E = \\sum_{n=-\\infty}^{\\infty} |x[n]|^2 &= \\sum_{n=-\\infty}^{\\infty} x[n]x^* [n] \\\\\n",
        "&= \\sum_{n=-\\infty}^{\\infty} x[n] \\left(  \\frac{1}{2\\pi} \\int_{2\\pi} X^* (\\Omega) e^{-j\\Omega n} d\\Omega \\right) \\\\\n",
        "&= \\frac{1}{2\\pi} \\int_{2\\pi} X^* (\\Omega) \\left( \\sum_{n=-\\infty}^{\\infty} x[n] e^{-j\\Omega n} \\right) d\\Omega \\\\\n",
        "&= \\frac{1}{2\\pi} \\int_{2\\pi} |X(\\Omega)|^2 d\\Omega\n",
        "\\end{align}\n",
        "$$\n",
        "\n",
        "- 시간- 주파수 쌍대성  \n",
        "  - 개념적으로는 DTFT 내에서도 시간-주파수 쌍대성 만족\n",
        "$$\n",
        "\\left\\{\\begin{matrix}\n",
        "FS \\text{분석식}  \\;\\; : X_k = \\frac{1}{2\\pi} \\int_{2\\pi} x(t) e^{-jkt} dt \\\\\n",
        "DTFT \\text{합성식} \\;\\; : x[n] = \\frac{1}{2\\pi}\\int_{2\\pi} X(\\Omega) e^{j\\Omega n} d\\Omega\n",
        "\\end{matrix}\\right.  \n",
        "$$\n",
        "$$\n",
        "\\left\\{\\begin{matrix}\n",
        "FS \\text{합성식}  \\;\\; : x(t) = \\sum_{k=-\\infty}^{\\infty} X_k e^{jkt} \\\\\n",
        "DTFT \\text{분석식} \\;\\; : X(\\Omega) = \\sum_{n=-\\infty}^{\\infty} x[n] e^{j\\Omega n}\n",
        "\\end{matrix}\\right.  \n",
        "$$"
      ],
      "metadata": {
        "id": "MXMcA1BdnJkG"
      }
    },
    {
      "cell_type": "markdown",
      "source": [
        "---\n",
        "<img src='https://drive.google.com/uc?export=download&id=1PbUxV2MvatosqZzImSsghbgYWUFgMPzH' width=\"600\" height =\"\" /><br>  \n",
        "\n",
        " <img src='https://drive.google.com/uc?export=download&id=1Pc3oo2B3HL1K4kkES7r3Mxu1cowINkX9' width=\"600\" height =\"\" /><br>\n",
        "\n",
        " ---"
      ],
      "metadata": {
        "id": "G3sxMyXIr7Zr"
      }
    },
    {
      "cell_type": "markdown",
      "source": [
        "<img src='https://drive.google.com/uc?export=download&id=1PdsyA2-hlgVZMpwXPDp1oGGhsGdAnisY' width=\"600\" height =\"\" /><br>  \n",
        "\n",
        "---\n",
        "\n",
        "<img src='https://drive.google.com/uc?export=download&id=1PciQLnTWjJ3nwNBzXew2p_yHGJkCgddM' width=\"600\" height =\"\" /><br>  \n",
        "\n",
        "---\n",
        "\n",
        "<img src='https://drive.google.com/uc?export=download&id=1PcODJ0eqB6SF2iZszQRhiOLOXR9wphq2' width=\"600\" height =\"\" /><br>\n",
        "\n",
        "---"
      ],
      "metadata": {
        "id": "ErybAnbhsThd"
      }
    },
    {
      "cell_type": "markdown",
      "source": [
        "## 6.4 DTFT에 의한 이산 시스템의 해석"
      ],
      "metadata": {
        "id": "YxeZXZWGtN7P"
      }
    },
    {
      "cell_type": "markdown",
      "source": [
        "### DTFT에 의한 이산 시스템의 해석\n",
        "\n",
        "- 시스템의 푸리에(주파수 영역) 표현의 이점  \n",
        "<img src='https://drive.google.com/uc?export=download&id=1PePtRY3ZiYw2Te5Sf0jv-OPWdzWxktHd' width=\"600\" height =\"\" /><br>\n"
      ],
      "metadata": {
        "id": "5kMMRWnKtaWy"
      }
    },
    {
      "cell_type": "markdown",
      "source": [
        "---\n",
        "### 이산 시스템의 주파수 응답\n",
        "\n",
        "- 주파수 응답  \n",
        "  - 입력의 주파수의 변화에 대한 시스템의 응답 특성  \n",
        "     → 주파수에 따라 신호 크기를 증폭 또는 감쇠  \n",
        "     → 주파수에 따라 신호 위상을 증가 또는 감소  \n",
        "  - 입력 신호 과 출력 신호 을 각각 푸리에 변환한 것의 비  \n",
        "$$ H(\\Omega) = \\frac{Y(\\Omega)}{X(\\Omega)} = |H(\\Omega)| e^{j \\angle H(\\Omega)}\n",
        "$$\n",
        "\n",
        "- 임펄스 응답과 주파수 응답  \n",
        "  - 시스템의 입출력 관계 : 시간영역에서 컨벌루션 → 주파수영역에서 곱  \n",
        "$$ y[n] = \\sum_{k=-\\infty}^{\\infty} x[k]h[n-k]= x[n] \\ast h[n] \\;\\;\\Leftrightarrow \\;\\; Y(\\Omega) = H(\\Omega)X(\\Omega)\n",
        "$$\n",
        "  - 주파수 응답은 임펄스 응답의 DTFT\n",
        "$$ H(\\Omega) = \\mathfrak{F} \\{ h[n]\\} = \\frac{Y(\\Omega)}{X(\\Omega)}\n",
        "$$\n",
        "<img src='https://drive.google.com/uc?export=download&id=1PeWHMWjhEGnYFwdId5tx8x8uqYmIdDum' width=\"500\" height =\"\" /><br>\n",
        "  \n"
      ],
      "metadata": {
        "id": "r-5s0VeMuAgE"
      }
    },
    {
      "cell_type": "markdown",
      "source": [
        "---  \n",
        "- 주파수 응답과 DTFT를 이용한 LTI 시스템의 출력 계산  \n",
        "  - 출력 진폭 스펙트럼 = 입력 진폭 스펙트럼 $\\times $ 주파수 응답의 진폭 응답\n",
        "$$ |Y(\\Omega)| = |X(\\Omega)| |H(\\Omega)|        \n",
        "$$  \n",
        "  - 출력 위상 스펙트럼 = 입력 위상 스펙트럼 + 주파수 응답의 위상 응답\n",
        "$$ \\angle Y(\\Omega) = \\angle X(\\Omega) + \\angle H(\\Omega)\n",
        "$$\n",
        "<img src='https://drive.google.com/uc?export=download&id=1Pkd6J4xE6Nck2g5R1GsX8TIxM9x4Vfom' width=\"700\" height =\"\" /><br>"
      ],
      "metadata": {
        "id": "E4rZKy27wGmO"
      }
    },
    {
      "cell_type": "markdown",
      "source": [
        "---\n",
        "- 차분 방정식과 주파수 응답  \n",
        "  - 주파수 응답은 시스템의 차분 방정식 표현으로부터 직접 구할 수 있음\n",
        "$$ Y(\\Omega) + a_1 e^{-j\\Omega}Y(\\Omega) + \\dots + a_p (e^{-j\\Omega})^p Y(\\Omega)  \\\\\n",
        " = b_0 X(\\Omega) + b_1 e^{-j\\Omega} X(\\Omega) + \\dots + b_q (e^{-j\\Omega})^q X(\\Omega) \\\\\n",
        " \\;\\; \\\\\n",
        " H(\\Omega) = \\frac{Y(\\Omega)}{X(\\Omega)} =  \\frac{ b_0 + b_1 e^{-j\\Omega} + \\dots + b_q (e^{-j\\Omega})^q }{1+ a_1 e^{-j\\Omega} + \\dots + a_p (e^{-j\\Omega})^p} = \\frac{ \\sum_{i=0}^{q} b_i (e^{-j\\Omega})^i }{ \\sum_{i=0}^{p} a_i (e^{-j\\Omega})^i }\n",
        "$$\n",
        " - 차분 방정식의 계수들에 의해 주파수 응답이 결정  \n",
        "  → 주파수 응답은 시스템이 바뀌지 않는 한 달라지지 않음 & 입력에는 무관\n",
        "\n",
        "<img src='https://drive.google.com/uc?export=download&id=1PmJLsM1mRSrw7uKBUTQbt_O9TpAWtqUx' width=\"700\" height =\"\" /><br>\n"
      ],
      "metadata": {
        "id": "DQqvUNCUxCPl"
      }
    },
    {
      "cell_type": "markdown",
      "source": [
        " <img src='https://drive.google.com/uc?export=download&id=1PshrEwFOWSCC9hu_L5tYkQuGykOKPBzb' width=\"700\" height =\"\" /><br>  \n",
        "\n",
        " ---"
      ],
      "metadata": {
        "id": "Qj3HsnxAzmYQ"
      }
    },
    {
      "cell_type": "markdown",
      "source": [
        "<img src='https://drive.google.com/uc?export=download&id=1PpH_4zwEne6rEDijdx4MZqKVVT-w_kdR' width=\"650\" height =\"\" /><br>  \n",
        "---"
      ],
      "metadata": {
        "id": "JMMRWIGO0SKw"
      }
    },
    {
      "cell_type": "markdown",
      "source": [
        "---  \n",
        "\n",
        "<img src='https://drive.google.com/uc?export=download&id=1PnonmYSLqtBXMzTf4UBp5qHt6IHuySXa' width=\"650\" height =\"\" /><br>  \n",
        "\n",
        "---"
      ],
      "metadata": {
        "id": "XxJWLKWr0gBq"
      }
    },
    {
      "cell_type": "markdown",
      "source": [
        "## 6.5 푸리에 표현의 상호 관계\n"
      ],
      "metadata": {
        "id": "NgrXxk8y0vR9"
      }
    },
    {
      "cell_type": "markdown",
      "source": [
        "### 푸리에 표현의 관계 요약\n",
        "\n",
        "- 4가지 푸리에 표현의 기본 구조는 동일   \n",
        "  → 신호를 주파수와 1:1 대응인 (복소)정현파 신호의 가중합으로 표현\n",
        " <img src='https://drive.google.com/uc?export=download&id=1Psu-4FIIM-66mF_87AgKMnawmDSMO3Nh' width=\"700\" height =\"\" /><br>   \n",
        "\n",
        " <img src='https://drive.google.com/uc?export=download&id=1Pt6Z_AsJPwCedVW0ZCIfyeAkqu5zKyBb' width=\"600\" height =\"\" /><br>\n"
      ],
      "metadata": {
        "id": "EpxuUonw00mc"
      }
    },
    {
      "cell_type": "markdown",
      "source": [
        "---  \n",
        "\n",
        "- 푸리에 표현들간의 관계  \n",
        "  ▶FS와 FT, DTFS와 DTFT   \n",
        "   - ***주기 신호는 이산 스펙트럼, 비주기 신호는 연속 스펙트럼을 가짐***\n",
        "   - ***주기 신호의 스펙트럼은 비주기 신호의 스펙트럼의 샘플 값에 대응***\n",
        "$$  \n",
        " FS \\text{와} \\;FT \\; : \\; X_k = \\frac{1}{T} X(k\\omega_0 )  \\\\\n",
        " DTFS \\text{와} \\; DTFT \\; : \\; X_k = \\frac{1}{N} X(k\\Omega_0 )\n",
        "$$\n",
        "\n",
        "  ▶FS와 DTFS, FT와 DTFT  \n",
        "   - 연속 신호의 스펙트럼은 비주기, 이산 신호의 스펙트럼은 주기 함수  \n",
        "\n",
        "  ▶시간-주파수 쌍대성  \n",
        "   - FT와 DTFS는 자체적으로 쌍대성이 성립  \n",
        "   - FS와 DTFT 간에 쌍대성이 성립  \n",
        "\n"
      ],
      "metadata": {
        "id": "Ue7igS181fiR"
      }
    },
    {
      "cell_type": "markdown",
      "source": [
        "---\n",
        "### 시간-주파수 이원성\n",
        "\n",
        "- 신호의 시간-주파수 이원성  \n",
        "  - 푸리에 표현은 시간 영역 표현과 가상적인 등가 특성 지님  \n",
        "  - 시간 영역 표현 : 신호의 파형을 기술  \n",
        "  - 주파수 영역 표현 : 스펙트럼 구성(정현파 성분의 진폭과 위상)을 묘사\n",
        "$$\\text{예를 들어, } e^{-2t} u(t) \\Leftrightarrow \\left(  \\frac{1}{j\\omega + 2}\\right)\n",
        "$$\n",
        " → 시간 영역 표현 : 시정수 0.5로 지수 함수적으로 감소하는 신호를 묘사  \n",
        " → 주파수 영역 표현 : 진폭이 대략 주파수에 반비례하여 감소하는 정현파에 의해 합성 가능한 저역통과 신호로 규정\n",
        "\n",
        "  - 시간 영역 표현(임펄스 응답)은 시간에 따른 입력에 대한 시스템의 반응을 보여줌  \n",
        "  - 주파수 영역 표현(주파수 응답)은 주파수에 따른 시스템의 반응을 진폭(크기)와 위상의 변화로 나타내어 시스템의 필터링 특성을 보여줌\n",
        "\n"
      ],
      "metadata": {
        "id": "oBkjHyhX2j1x"
      }
    },
    {
      "cell_type": "markdown",
      "source": [
        "---\n",
        "### 푸리에 해석의 주요 사항 요약  \n",
        "\n",
        "<img src='https://drive.google.com/uc?export=download&id=1PyOsn7vQe0Ma-fz8M9F8fXFhu_85VRaa' width=\"600\" height =\"\" /><br>  \n",
        "\n",
        " <img src='https://drive.google.com/uc?export=download&id=1Pt_7GiDIosFHZ4xIkQ_xh2jWoHvUWM_n' width=\"600\" height =\"\" /><br>"
      ],
      "metadata": {
        "id": "Ddyixqd-3Vyi"
      }
    },
    {
      "cell_type": "markdown",
      "source": [
        "## Q&A"
      ],
      "metadata": {
        "id": "lP-QoyDD343l"
      }
    }
  ]
}