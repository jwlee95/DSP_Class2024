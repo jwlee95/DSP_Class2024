{
  "nbformat": 4,
  "nbformat_minor": 0,
  "metadata": {
    "colab": {
      "provenance": [],
      "toc_visible": true,
      "authorship_tag": "ABX9TyMW+1TKMUKXuAO8OthlnoDr",
      "include_colab_link": true
    },
    "kernelspec": {
      "name": "python3",
      "display_name": "Python 3"
    },
    "language_info": {
      "name": "python"
    }
  },
  "cells": [
    {
      "cell_type": "markdown",
      "metadata": {
        "id": "view-in-github",
        "colab_type": "text"
      },
      "source": [
        "<a href=\"https://colab.research.google.com/github/jwlee95/DSP_Class2024/blob/main/Ch02_%EC%9D%B4%EC%82%B0_%EC%8B%A0%ED%98%B8%EC%99%80_%EC%8B%9C%EC%8A%A4%ED%85%9C.ipynb\" target=\"_parent\"><img src=\"https://colab.research.google.com/assets/colab-badge.svg\" alt=\"Open In Colab\"/></a>"
      ]
    },
    {
      "cell_type": "markdown",
      "source": [
        "# `CHAPTER 02`: 이산 신호와 시스템  ( `Discrete Signal and System` )"
      ],
      "metadata": {
        "id": "jTRcZfaSFiC-"
      }
    },
    {
      "cell_type": "markdown",
      "source": [
        "## 2.1 이산 신호 (`Discrete Signal`)의 정의  \n",
        "\n",
        "- 이산 신호  \n",
        "  - 관심의 대상이 되는 값(숫자)들을 순서대로 늘어놓은 수열   \n",
        "  (예) $\\{… 0.9, −0.2, 1.0, 2.1, 0.5, −1.3, 2.8 … \\}$\n",
        "       \n",
        "      → $ x[-2]=0.9, x[-1]=-0.2, x[0]=1.0, x[1]=2.1, x[2]=0.5, … $   \n",
        "  - 이산 신호의 샘플 : $x[0], x[1], … $   \n",
        "  - 연속 신호의 샘플링에 의한 이산 신호  $ x[n] = x(t) |_{t=nT} = x(nT), n= \\dots , -2,-1,0,1,2,\\dots $  \n",
        "\n",
        "\n",
        "<center>\n",
        "<img src='https://drive.google.com/uc?export=download&id=1Kr_hBIyaZeQKWgBx_-Dm6lDWIoraDksc' width=\"600\" height =\"\" /><br>"
      ],
      "metadata": {
        "id": "eNsxW7bKFt42"
      }
    },
    {
      "cell_type": "markdown",
      "source": [
        "---\n",
        "\n",
        "#### 유한 구간 및 무한 구간 이산 신호   \n",
        "\n",
        "- 이산 신호의 길이  \n",
        "  - 신호를 이루는 샘플의 개수 $N$  \n",
        "  $x[n]=0, n \\lt N_1 , n \\gt N_2  \\rightarrow N = N_2 - N_1 + 1$\n",
        "\n",
        "- 유한 구간 이산 신호  \n",
        "  - 유한한 개수의 샘플로 이루어진 이산 신호 ([그림 2-1(a)])  \n",
        "  - 유한한 구간 내에서만 신호 값이 존재   \n",
        "\n",
        "- 무한 구간 이산 신호\n",
        "  - 무한개의 샘플로 이루어진 신호 ([그림 2-1(b)])\n",
        "\n"
      ],
      "metadata": {
        "id": "byi2hQlHF3A7"
      }
    },
    {
      "cell_type": "markdown",
      "source": [
        "---\n",
        "\n",
        "### 2.1.1 이산 신호의 분류  \n",
        "\n",
        "- 에너지 신호 (`Energy Signal`) : 에너지가 유한한 신호  \n",
        "$$ E = \\lim_{ N \\rightarrow \\infty} \\sum_{n=-N}^{N} |x[n]|^2  ,\n",
        "   \\lt \\infty \\;\\; x[n]=n, n\\ge 0\n",
        "$$\n",
        "  - 전력이 0이므로 전력 신호보다 더 엄격한 조건을 충족시키는 신호  \n",
        "  - 유한 크기 샘플들로 이루어진 유한 구간 이산 신호는 에너지 신호임  \n",
        "  - 무한 구간 이산 신호 중에도 에너지 신호 많이 있음  \n",
        "\n",
        "- 전력 신호 (`Power Signal`): 전력이 유한한 신호   \n",
        "$$ P = \\lim_{ N \\rightarrow \\infty} \\frac{1}{2N+1} \\sum_{n=-N}^{N} |x[n]|^2  \\lt \\infty ,\n",
        "    \\;\\; x[n]=n, n\\ge 0\n",
        "$$  \n",
        "  - 무한 에너지 갖는 대부분의 신호들은 전력 신호   \n",
        "\n",
        "\n",
        "> * 에너지 신호도 전력 신호도 아닌 신호  \n",
        "  ex] 램프 신호(ramp signal) : $\\;  x[n]=n, n\\ge 0$  \n",
        "\n",
        "\n",
        "  <img src='https://drive.google.com/uc?export=download&id=1KtUsfx6Lk7eKGbjw41KKe3SADpGtveDz' width=\"600\" height =\"\" /><br>\n",
        "\n"
      ],
      "metadata": {
        "id": "KtaiIwC1L24n"
      }
    },
    {
      "cell_type": "markdown",
      "source": [
        "- **주기 신호 (`Periodic Signal`)** : 파형이 계속해서 일정하게 반복되는 신호  \n",
        "$$ \\;  x[n + kN ] = x[n], \\;\\;\\; k = \\dots,-1,0,1,2,\\dots  $$\n",
        "  - 일반적으로 전력 신호 $\\Rightarrow$ **한 주기 에너지는 유한, 총 에너지는 무한 **\n",
        "\n",
        "- **확정 신호 (`Deterministic Signal`)** : 시간에 대해 정해진 형태를 갖는 신호  \n",
        "  - 수식이나 표 또는 다른 규칙에 의해 명확하게 표현될 수 있는 신호  \n",
        "   (예) 계단 신호, 정현파, 클럭 펄스 등\n",
        "\n",
        "- **불규칙 신호 (`Random Signal`)**  \n",
        "  : 신호의 값을 예측할 수는 없지만 일정한 통계적 특성을 가지는 신호  \n",
        "   (예) 동전이나 주사위 이어 던지기, 반도체 열 잡음, 통신 잡음 등"
      ],
      "metadata": {
        "id": "64nxAKmgSMfS"
      }
    },
    {
      "cell_type": "markdown",
      "source": [
        "---   \n",
        "### 2.1.2 기본 이산 신호"
      ],
      "metadata": {
        "id": "r-QVFPYYBAPw"
      }
    },
    {
      "cell_type": "markdown",
      "source": [
        "\n",
        "#### 이산 (단위) 임펄스 신호 (`Discrete(Unit) Impulse Signal`)   \n",
        "\n",
        "- **이산(단위) 임펄스 신호** $ \\delta [n]$   \n",
        "  - 단위 샘플 신호 또는 \"**크로네커 델타** `Kronecker delta` \" 라고도 함  \n",
        "$$  \\delta [n] = \\left\\{\\begin{matrix}\n",
        " 1, \\;\\; n=0 \\\\\n",
        " 0  \\;\\; n \\ne 0\n",
        "\\end{matrix}\\right.\n",
        "$$\n",
        "\n",
        "  - 이산 신호는 임펄스 신호의 가중합 형태로 나타낼 수 있음  \n",
        "$$\n",
        "\\begin{align}\n",
        "\tx[n]&= \\dots + x[-1] \\delta[n+1] + x[0] \\delta[n] + \\dots + x[k] \\delta[n-k]+ \\dots \\\\\n",
        "    \t&= \\sum_{k = - \\infty}^{ \\infty} x[k] \\delta[n-k]\n",
        "\\end{align}\n",
        "$$\n",
        "\n",
        "> $\\Rightarrow $ ***임펄스 함수의 체 거르기(`sifting`) 또는 샘플링 성질  \n",
        " 신호값 중에서 특정 시각$(n)$의 신호 값$(x[𝑛])$만 취하는 것으로 해석***"
      ],
      "metadata": {
        "id": "tXavB1bsTY-n"
      }
    },
    {
      "cell_type": "markdown",
      "source": [
        "---\n",
        "#### 이산(단위) 계단 신호 (`Discrete(Unit) Step Signal`)   \n",
        "\n",
        "- **이산(단위) 계단 신호** $ u[n]$   \n",
        "  - $ n \\gt 0$에서 값이 일정(=1) -> \"직류 신호\"  \n",
        "$$  u[n] = \\left\\{\\begin{matrix}\n",
        " 1, \\;\\; n= \\gt 0 \\\\\n",
        " 0  \\;\\; n \\lt 0\n",
        "\\end{matrix}\\right.\n",
        "$$\n",
        "\n",
        "  - 다른 신호에 대한 on-off 스위치 역할  $\\Rightarrow$ ***신호의 표현에 이용***\n",
        "  - $ \\delta [n]$과 $ u[n]$의 관계   \n",
        "$$\n",
        "\\delta [n] = u[n] - u[n-1] \\\\\n",
        "u[n] = \\sum_{k=- \\infty}^{\\infty} \\delta[k]\n",
        "$$\n",
        "\n",
        "<center>\n",
        " <img src='https://drive.google.com/uc?export=download&id=1KvOiOsUV8EJKsssOx81_Xe8VAObWEuqC' width=\"600\" height =\"\" /><br>\n"
      ],
      "metadata": {
        "id": "WI9JRlBvYqqS"
      }
    },
    {
      "cell_type": "markdown",
      "source": [
        " <img src='https://drive.google.com/uc?export=download&id=1KvzGl495c3Jo9s-ba_IZHGMqdnz-fUEs' width=\"700\" height =\"\" /><br>"
      ],
      "metadata": {
        "id": "1xNRPeSwab9t"
      }
    },
    {
      "cell_type": "markdown",
      "source": [
        "---\n",
        "#### 이산 지수 신호 (`Discrete Expoential Signal`)   \n",
        "\n",
        "- 지수 신호  \n",
        "  - 밑수 $a$ 가 실수인 경우와 복소수인 경우로 구분  \n",
        "$  x[n] = a^n  $  \n",
        "\n",
        "  - 실수 지수 함수 : $a \\lt 0$이면 샘플값의 부호가 번갈아 가면서 바뀜  \n",
        "\n",
        "<center>\n",
        "<img src='https://drive.google.com/uc?export=download&id=1KxhN7yMhBdN4urtnbvZGbWDTsMf3IlWv' width=\"700\" height =\"\" /><br>   \n",
        "\n"
      ],
      "metadata": {
        "id": "7NyhfWN6cXUs"
      }
    },
    {
      "cell_type": "markdown",
      "source": [
        "  - 이산 복소 지수 함수(`Discrete Complex Exponetial Function`) : 진폭이 지수적으로 증가/감소하면서 정현적으로 진동\n",
        "\n",
        "$$\n",
        "\\begin{align}\n",
        "\tx[n]&= \\left(r e^{j \\Omega_0} \\right)^n  = r^n e^{j \\Omega_0 n}\\\\\n",
        "    \t&= r^n [ \\cos (\\Omega_0 n) + j \\sin(\\Omega_0 n)]\n",
        "\\end{align}\n",
        "$$  \n",
        "\n",
        "<center>\n",
        "<img src='https://drive.google.com/uc?export=download&id=1KxqvEnMU7eXzctfNp4agKwqCL-CX6dto' width=\"800\" height =\"\" /><br>\n"
      ],
      "metadata": {
        "id": "HorVctFRdKyy"
      }
    },
    {
      "cell_type": "markdown",
      "source": [
        "---\n",
        "#### 이산 (복소) 정현파 신호(`Discrete (Complex) Sinusoidal signal`)  "
      ],
      "metadata": {
        "id": "yktxKYegFiuA"
      }
    },
    {
      "cell_type": "markdown",
      "source": [
        "- 복소 정현파 신호 : 복소 지수 함수에서 $|a|=r=1$인 경우\n",
        "$$ x[n] = e^{j \\Omega_0 n} = \\cos(\\Omega_0 n) + j \\sin(\\Omega_0 n) $$   \n",
        "  - 실수 정현파는 복소 정현파로부터 실수부나 허수부를 취하여 표현   \n",
        "  - 이산 정현파의 주기성 : **디지털 주파수가 유리수(`rational number`)가 되어야만 주기 신호**\n",
        "$$ \\frac{\\Omega_0}{2\\pi} = F_0 = \\frac{k}{N}, \\;\\;\\; k,N\\text{은 정수} $$\n",
        "  - **$2\\pi$의 정수배만큼 떨어진 주파수를 갖는 신호들은 구분되지 않음**\n",
        "$$ e^{j(\\Omega_0 + 2\\pi k)n} = e^{j \\Omega_0 n} e^{j2\\pi kn} = e^{j\\Omega_0 n} $$\n",
        "\n",
        "\n",
        "\n",
        "- 오일러 공식(`Euler formular`)$$ \\cos(\\Omega_0 n) = \\frac{e^{j\\Omega_0 n} + e^{-j\\Omega_0 n}}{2} \\\\\n",
        "\\sin(\\Omega_0 n) = \\frac{e^{j\\Omega_0 n} - e^{-j\\Omega_0 n}}{j2}$$\n",
        "---"
      ],
      "metadata": {
        "id": "Fxd3EqLtfH-n"
      }
    },
    {
      "cell_type": "markdown",
      "source": [
        "## 2.2 이산 신호에 대한 기본 연산   "
      ],
      "metadata": {
        "id": "Up7vZKvzIv2A"
      }
    },
    {
      "cell_type": "markdown",
      "source": [
        "\n",
        "- 신호는 크기(진폭)를 갖는 시간의 함수   \n",
        "  → ***시간과 진폭에 대한  연산이 기본***\n",
        "- 복잡한 신호도  단순한 신호에 기본  연산의 조합을 수행해  표현할 수 있음  \n",
        "\n",
        "\n",
        "<center>\n",
        "<img src='https://drive.google.com/uc?export=download&id=1KzEJ5JJFhN7smn_tEgP_C8tEJLFBfShn' width=\"600\\\" height =\"\" /><br>"
      ],
      "metadata": {
        "id": "q7YRJ9KLg9QF"
      }
    },
    {
      "cell_type": "markdown",
      "source": [
        "### 2.2.1 연속 신호와 동일한 연산"
      ],
      "metadata": {
        "id": "Yp9vVv1VJbD2"
      }
    },
    {
      "cell_type": "markdown",
      "source": [
        "<center>\n",
        "<img src='https://drive.google.com/uc?export=download&id=1KzefaXHKzqYkTMf80BnNX-p9fmDM4jDK' width=\"800\" height =\"\" /><br>   \n",
        "\n",
        "\n",
        "<img src='https://drive.google.com/uc?export=download&id=1L2c07pUKWrtrw2phQ_RhFNEohls_XEfj' width=\"800\" height =\"\" /><br>  \n",
        "\n"
      ],
      "metadata": {
        "id": "1nu52Ar2hiMJ"
      }
    },
    {
      "cell_type": "markdown",
      "source": [
        "---  \n",
        "### 2.2.2 연속 신호와 다른 연산"
      ],
      "metadata": {
        "id": "J5koIkSXJvgN"
      }
    },
    {
      "cell_type": "markdown",
      "source": [
        "#### 이산신호의 차분과 누적합   \n",
        "\n",
        "- 시간에 대한 미분과 적분이 정의되지 않고 미분과 적분을 근사화하여 등가 연산이라 할 수 있는 차분(Difference)과 누적합이 정의됨   \n",
        "  - 차분: 하나 뒤진(앞선) 시간의 신호 값과의 차이로 미분을 근사화   \n",
        "  $$y[n] = \\Delta x[n] = x[n] - x[n-1]$$\n",
        "  - 누적합: 들어온 신호 값들을 연속적으로 더하는 방법으로 적분을 근사화  \n",
        "  $$y[n] = \\sum_{k=-\\infty}^{\\infty} x[k]$$"
      ],
      "metadata": {
        "id": "uatF9vV6KBx1"
      }
    },
    {
      "cell_type": "markdown",
      "source": [
        "#### 이산 신호의 시간 척도 조절  \n",
        "\n",
        "- 시간 척도 변화 - 솎음과 보간  \n",
        "$$  y[n] = x[an] $$  \n",
        "- **솎음 (`Decimation`)**\n",
        "  - 시간축 압축(`compression`)에 해당($a \\lt 1 $인 정수)  \n",
        "  - 샘플 중 $a$의 배수($an$) 시간의 샘플만 남기고 나머지는 버리는 동작  \n",
        "  - 신호 샘플(데이터 또는 정보)에 대한 소실 발생  \n",
        "   (예) [그림 2-11(b)]  \n",
        "      $a=2 \\rightarrow$ 하나씩 건너뛰며 $x[1], x[3], x[5], \\dots$ 신호 샘플을 솎아냄  \n",
        "      $y[0] = x[0], \\; y[1] = x[2], \\; y[2] = x[4], \\dots $  \n",
        "\n",
        "- **보간 (`Interpolation`)**\n",
        "  - 시간축 늘이기(`stretching`)에 해당 ($a \\lt 1, \\; \\frac{1}{a}$이 정수라야 함)  \n",
        "  - 원 신호 샘플 사이에 새로운 샘플을 끼워 넣는 동작  \n",
        "  - 끼워 넣어야할 샘플에 대한 정보 없음  \n",
        "   → ***신호를 크게 왜곡하지 않는 범위 내에서 적당한 값을 선택***  \n",
        "   → ***0을 끼워 넣거나 앞뒤 샘플의 평균으로 대체하는 것이 일반적임***   \n",
        "\n",
        "   (예) [그림 2-11(c), (d)]  \n",
        "      $a= \\frac{1}{2} \\rightarrow$ 원 신호 샘플 $x[1], x[2], x[3], \\dots$ 사이에 샘플을 끼워 넣음  \n",
        "      $y[0] = x[0], \\; y[2] = x[1], \\; y[4] = x[2], \\dots $   \n",
        "\n",
        "<center>\n",
        "<img src='https://drive.google.com/uc?export=download&id=1L37Nfa2-IONgCBzMuHq4vHpcHzMR2fbP' width=\"700\" height =\"\" /><br>\n"
      ],
      "metadata": {
        "id": "_TrodhrciH6U"
      }
    },
    {
      "cell_type": "markdown",
      "source": [
        "<img src='https://drive.google.com/uc?export=download&id=1L40M3LFnRZas6U0zt9XsEB9hZe2rl7RZ' width=\"700\" height =\"\" /><br>"
      ],
      "metadata": {
        "id": "f7IqQYyam68h"
      }
    },
    {
      "cell_type": "markdown",
      "source": [
        "---   \n",
        "### 2.2.3 연산의 조합에 의한 이산 신호의 표현"
      ],
      "metadata": {
        "id": "FhiOFw1WMeGQ"
      }
    },
    {
      "cell_type": "markdown",
      "source": [
        "---  \n",
        "## 2.3 이산 시스템(`Discrete System`)"
      ],
      "metadata": {
        "id": "yJxgbMmTrOBZ"
      }
    },
    {
      "cell_type": "markdown",
      "source": [
        "### 이산 시스템  \n",
        "\n",
        "- 이산 시스템  \n",
        "  - 이산 신호(입력)를 받아들여 다른 이산 신호(출력)를 만들어내는 장치  \n",
        "  - 이산 시스템 표현  \n",
        "  → 블록선도를 이용 시스템 구성을 시각적으로 묘사  \n",
        "  → 시스템 동작 규칙을 정형화하여 수식으로 표현  \n",
        "\n",
        "- 이산 시스템의 차분 방정식(`Difference equation`) 표현  \n",
        "$$ y[n] + a_1 y[n-1] + \\dots + a_p y[n-p] = b_0 x[n] + \\dots + b_q x[n-q]$$\n"
      ],
      "metadata": {
        "id": "M1obY2_PnzzY"
      }
    },
    {
      "cell_type": "markdown",
      "source": [
        "- 차분 방정식으로 표현된 이산 시스템의 블록 선도  \n",
        "  - 시간 지연기, 곱셈기, 덧셈기로 이산 시스템을 구성할 수 있음  \n",
        "  ▶ **시간 지연기** : 입력 신호를 한 스텝 지연시키는 요소 $y[n]=x[n-1]$  \n",
        "  ▶ **곱셈기** : 신호에 상수 값을 곱하는 요소 $y[n]=a x[n]$  \n",
        "  ▶ **덧셈기** : 신호를 더해 다른 신호를 만드는 요소 $y[n]=x_1 [n] + x_2 [n]$\n",
        "\n",
        "<center>\n",
        "<img src='https://drive.google.com/uc?export=download&id=1L4tfypn0h3LhXsevUjbmdH_21DeJ37op' width=\"700\" height =\"\" /><br>"
      ],
      "metadata": {
        "id": "RI9pEFFDrDsn"
      }
    },
    {
      "cell_type": "markdown",
      "source": [
        "---\n",
        "- 차분 방정식으로 표현된 이산 시스템의 블록 선도  \n",
        "  - 기본적으로 '탭-지연기열'(`tapped delay line`) 구조를 이루고 있음  \n",
        "  - 출력을 형성하는 항들의 형태에 따라 3가지 경우로 구분 가능  \n",
        "\n",
        "  ▶**이동평균(MA: Moving Average) 모델** : 출력이 입력 신호의 이동 평균\n",
        "$$ y[n] = b_0 x[n] + b_1 x[n-1] + \\dots + b_q x[n-q]$$\n",
        "  ▶**자기 회귀(AR: Auto Regressive) 모델** : 출력이 과거 출력 신호의 자기 회귀항  \n",
        "$$ y[n] = -a_0 y[n] - \\dots - a_p y[n-p] + x[n]$$\n",
        "  ▶**자기 회귀 이동 평균(ARMA) 모델** : AR + MA\n",
        "$$ y[n] + a_1 y[n-1] + \\dots + a_p y[n-p] = b_0 x[n] + b_1 x[n-1] + \\dots + b_q x[n-q]$$  \n",
        "\n",
        "<center>\n",
        "<img src='https://drive.google.com/uc?export=download&id=1L7aMXW4Wxb-LE5IiWT7m26BMOJof_7dD' width=\"800\" height =\"\" /><br>\n"
      ],
      "metadata": {
        "id": "gPujCeRQrneK"
      }
    },
    {
      "cell_type": "markdown",
      "source": [
        "---\n",
        "<img src='https://drive.google.com/uc?export=download&id=1LCB7lMZRHMM3x8M0nuurp6xyVLmAsqEd' width=\"700\" height =\"\" /><br>\n",
        "\n",
        "<img src='https://drive.google.com/uc?export=download&id=1LBHnjf1RtQIAg21iZ4flroaS3pW6Ihj0' width=\"700\" height =\"\" /><br>"
      ],
      "metadata": {
        "id": "F8B_U6M_tC-T"
      }
    },
    {
      "cell_type": "markdown",
      "source": [
        "---  \n",
        "## 2.4 이산 시스템의 분류  "
      ],
      "metadata": {
        "id": "-iPRbl6vvL1N"
      }
    },
    {
      "cell_type": "markdown",
      "source": [
        "### 2.4.1 선형 시스템과 비선형 시스템   \n",
        "\n",
        "- **선형 시스템 (`Linear System`)** : 입출력 관계가 선형으로 주어지는 시스템  \n",
        "  - `선형성 (Linearity)(=중첩의 원리) : 가산성(additivity) + 동차성(homogeneity)`  \n",
        "$$ H\\{ \\alpha x_1 + \\beta x_2 \\} = \\alpha H\\{ x_1 \\} + \\beta H\\{ x_2 \\} = \\alpha y_1 + \\beta y_2$$\n",
        "- **비선형 시스템 (`Nonlinear System`)** : 선형성을 불만족하는 시스템   \n",
        "\n",
        "\n",
        "<center>\n",
        "<img src='https://drive.google.com/uc?export=download&id=1LCRWlBa2oqtYJt0abS1Hn5vxtTMXjWT_' width=\"500\" height =\"\" /><br>"
      ],
      "metadata": {
        "id": "OQ0441J-whU1"
      }
    },
    {
      "cell_type": "markdown",
      "source": [
        "<img src='https://drive.google.com/uc?export=download&id=1LE0jLia4giBugJwAVCXDTxG2UzJTpejW' width=\"700\" height =\"\" /><br>"
      ],
      "metadata": {
        "id": "b27wIedfypt_"
      }
    },
    {
      "cell_type": "markdown",
      "source": [
        "---\n",
        "### 2.4.2 시불변 시스템과 시변 시스템   \n",
        "\n",
        "- **시불변 시스템 (`Time-invariant System`)**\n",
        ": 시간에 상관없이 같은 입력에 대해 항상 같은 반응을 보이는 시스템\n",
        "$$ H\\{ x[n] \\} = y[n] \\text{일 때, }H\\{ x[n - n_0] \\} = y[n-n_0] $$\n",
        "  - 시스템 특성(파라미터)이 시간에 따라 불변  \n",
        "  - 차분 방정식의 계수가 상수 계수  \n",
        "\n",
        "- **시변 시스템 (`Time-variant System`)**  \n",
        ": 입력이 들어오는 시간에 따라 출력이 달라지는 시스템\n",
        "\n",
        "  - 시스템 특성(파라미터)이 시간에 따라 변함  \n",
        "  - 차분 방정식의 계수가 시간 함수\n",
        "\n",
        "<center>\n",
        "<img src='https://drive.google.com/uc?export=download&id=1LGGecSpv2uG39XYdY42d81Mrg99dgy_C' width=\"600\" height =\"\" /><br>"
      ],
      "metadata": {
        "id": "giwXK3URzb1k"
      }
    },
    {
      "cell_type": "markdown",
      "source": [
        "---  \n",
        "### 2.4.3 인과 시스템과 비인과 시스템  \n",
        "\n",
        "- **인과 시스템 (`Causal System`)** : 인과성을 만족하는 시스템  \n",
        "  - 인과성(causality) : 미래의 입력이 현재의 출력에는 영향을 주지 못함. 즉 $ n_0 $ 에서의 출력이 에서의 입력에만 의존\n",
        "$$  x[n]=0, n \\le n_0 \\text{일 때, },\\;\\; y[n] = 0, n \\le n_0  $$\n",
        "\n",
        "- **비인과 시스템 (`Non-causal System`)** : 인과성을 불만족\n",
        "\n",
        "<center>\n",
        " <img src='https://drive.google.com/uc?export=download&id=1LGwXGS2F9pfCwzxzvwSCKzBAjIBoj4gE' width=\"600\" height =\"\" /><br>\n"
      ],
      "metadata": {
        "id": "5FD7JaK612Ni"
      }
    },
    {
      "cell_type": "markdown",
      "source": [
        "---\n",
        "### 2.4.4 안정 시스템과 불안정 시스템\n",
        "\n",
        "- **BIBO(Bounded-Input Bounded-Output) 안정도**  \n",
        "  입력 크기가 유한하면 출력의 크기도 반드시 유한하게 보장되는 성질\n",
        "$$ | x[n]| \\le M_x \\lt \\infty \\text{ 일 때}, \\;\\; | y[n]| \\le M_y \\lt \\infty $$\n",
        "\n",
        "- **안정 시스템 (`Stable System`)**\n",
        ": 유한한 크기의 입력에 대해 유한한 크기의 출력이 나오는 시스템  \n",
        "  - 물리적으로 시스템의 지속적 작동이 보장됨\n",
        "\n",
        "- **불안정 시스템  (`Unstable System`)**\n",
        ": 유한한 크기의 입력에 대해 무한한 크기의 출력이 나오는 시스템  \n",
        "  - 궁극적으로 시스템은 파괴됨\n",
        "\n",
        "<center>\n",
        "<img src='https://drive.google.com/uc?export=download&id=1LH7DttLdd-T9DfmLeE0vZ29AG2SEp7f8' width=\"600\" height =\"\" /><br>"
      ],
      "metadata": {
        "id": "h-kIpZYA35K3"
      }
    },
    {
      "cell_type": "markdown",
      "source": [
        "---\n",
        "### 2.4.5 동적(기억) 시스템과 순시적(무기억) 시스템  \n",
        "\n",
        "- **동적(기억) 시스템 (`Dynamic System`)**\n",
        "  - 출력이 현재 입력 외에 과거의 입력에도 영향 받음 : 기억 기능 보유  \n",
        "  - 입출력 관계가 차분 방정식의 형태    \n",
        "   (예) 적분기, L 또는 C 회로, 순차 논리 회로 등\n",
        "\n",
        "- **순시적(무기억) 시스템 (`Instantaneous System`)**\n",
        "  - 출력이 현재의 입력만으로 결정\n",
        "  - 입출력 관계가 대수 방정식으로 표현     \n",
        "  (예) R 회로, 조합 논리 회로 등\n"
      ],
      "metadata": {
        "id": "lqEWXTP27DgX"
      }
    },
    {
      "cell_type": "markdown",
      "source": [
        " <img src='https://drive.google.com/uc?export=download&id=1LHqhTOVoZDW5GE34YA-wr3CTRK4M5OEd' width=\"700\" height =\"\" /><br>"
      ],
      "metadata": {
        "id": "HV70a0E87p-0"
      }
    },
    {
      "cell_type": "markdown",
      "source": [
        "---  \n",
        "## Q&A"
      ],
      "metadata": {
        "id": "XuIRWlHmQ3ob"
      }
    }
  ]
}